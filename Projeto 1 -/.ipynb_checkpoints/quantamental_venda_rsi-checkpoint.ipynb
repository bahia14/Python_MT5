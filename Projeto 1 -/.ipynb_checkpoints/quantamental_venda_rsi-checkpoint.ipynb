{
 "cells": [
  {
   "cell_type": "code",
   "execution_count": 1,
   "metadata": {},
   "outputs": [],
   "source": [
    "import pandas as pd\n",
    "import numpy as np \n",
    "import matplotlib.pyplot as plt"
   ]
  },
  {
   "cell_type": "code",
   "execution_count": 3,
   "metadata": {},
   "outputs": [],
   "source": [
    "data = pd.read_excel('_cotacoes_completa_diario.xlsx')\n",
    "filter_col = [col for col in data if col.startswith('close')]\n",
    "dados = data[filter_col].copy()\n",
    "rsi_period = 14\n",
    "l_name = []\n",
    "banana = dados.copy()\n",
    "for i in dados:\n",
    "    a = str(i).split()[1]\n",
    "    chg = dados[i].diff(1) #variação em 1 vela\n",
    "    gain = chg.mask(chg<0,0) #pega somente as changes positivas\n",
    "    loss = chg.mask(chg>0,0) #pega somente as changes negativas\n",
    "#     dados['gain'] = gain\n",
    "#     dados['loss'] = loss\n",
    "    avg_gain = gain.ewm(com = rsi_period - 1, min_periods = rsi_period).mean() #exponential weighted function\n",
    "    avg_loss = loss.ewm(com = rsi_period - 1, min_periods = rsi_period).mean()\n",
    "    rs = abs(avg_gain/avg_loss)\n",
    "    rsi = 100-(100/(1+rs))\n",
    "    dados['RSI '+a] = rsi"
   ]
  },
  {
   "cell_type": "code",
   "execution_count": 5,
   "metadata": {},
   "outputs": [],
   "source": [
    "\"\"\"\n",
    "cotacoes = dados[rsi_ticker]\n",
    "opera(cotacoes)\n",
    "\"\"\"\n",
    "def opera(dados_rsiticker, gain):\n",
    "    dic[_ticker] = {}\n",
    "    dic[_ticker]['Qnt Trades'] = 0\n",
    "    dic[_ticker]['Resultado'] = 0\n",
    "\n",
    "    posicao = 0 #vendido/neutro/comprado\n",
    "    resultado = 0 \n",
    "    preco_venda = 0\n",
    "    carteira = 0\n",
    "    _carteira = 0 #carteira provisória pra evitar bug\n",
    "\n",
    "    for i in dados_rsiticker.index:\n",
    "        rsi = dados_rsiticker[dados_rsiticker.index == i].values[0]\n",
    "        preco_acao = dados[ticker][dados[ticker].index == i].values[0]\n",
    "        #comprar\n",
    "        if rsi >= 75:\n",
    "            if posicao == 0: #só compra se estiver neutro\n",
    "                posicao -=1 #agora está comprado em 1\n",
    "                preco_venda = preco_acao #salva o preço de compra\n",
    "                _carteira += preco_acao #desconta na carteira o valor da ação\n",
    "                 #print(f'comprou {a} a: {preco_compra}')     \n",
    "\n",
    "        #zerar\n",
    "        elif preco_venda - preco_acao >= gain*preco_venda and posicao == -1:\n",
    "            #se tiver comprado e lucro de 4%\n",
    "            _carteira -= preco_acao #credita o valor da ação vendida\n",
    "            posicao += 1\n",
    "            dic[_ticker]['Qnt Trades'] += 1\n",
    "            carteira = _carteira\n",
    "\n",
    "    dic[_ticker]['Resultado'] = carteira\n",
    "    return dic  "
   ]
  },
  {
   "cell_type": "code",
   "execution_count": 6,
   "metadata": {},
   "outputs": [],
   "source": [
    "\n",
    "doc = {}\n",
    "l = [.05,.15]\n",
    "#posicao 1 - comprado,\n",
    "#0 - neutro, \n",
    "#(-1) - vendido\n",
    "\n",
    "#seleciona os tickers com 'Close'\n",
    "for pct in l:\n",
    "    valor_carteira = 0\n",
    "    dic = {}\n",
    "    for ticker in dados.iloc[:,1:54]:\n",
    "        _ticker = (ticker.split()[1])\n",
    "        rsi_ticker = ('RSI '+_ticker)\n",
    "        cotacoes = dados[rsi_ticker]        \n",
    "        opera(cotacoes,pct) #executa função para compra e venda para cada acao\n",
    "        doc[str(pct)] = dic"
   ]
  },
  {
   "cell_type": "code",
   "execution_count": 8,
   "metadata": {},
   "outputs": [],
   "source": [
    "#deixa no formato para saber o resultado - quantidade/financeiro\n",
    "total_operacoes = {}\n",
    "lista_operacoes = []\n",
    "lista_resultados = []\n",
    "total_resultado = {}\n",
    "for k,v in doc.items():\n",
    "#     print(f'{k}')\n",
    "    for a,b in v.items():\n",
    "#         print(b['Resultado'])\n",
    "        lista_operacoes.append(b['Qnt Trades'])\n",
    "        lista_resultados.append(b['Resultado'])\n",
    "        \n",
    "    total_operacoes[str(k)] = lista_operacoes\n",
    "    total_resultado[str(k)] = lista_resultados\n",
    "    #reseta listas\n",
    "    lista_operacoes = []\n",
    "    lista_resultados = []\n",
    "#     print('\\n')\n"
   ]
  },
  {
   "cell_type": "code",
   "execution_count": 9,
   "metadata": {},
   "outputs": [
    {
     "name": "stdout",
     "output_type": "stream",
     "text": [
      "Resumo trades para pct: {k}\n",
      "sum: 291.00 mean: 5.49 desvio padrao: 4.05\n",
      "\n",
      "Resumo trades para pct: {k}\n",
      "sum: 127.00 mean: 2.40 desvio padrao: 2.58\n",
      "\n"
     ]
    }
   ],
   "source": [
    "for k,v in total_operacoes.items():\n",
    "    s = np.sum(v)\n",
    "    m = np.mean(v)\n",
    "    std = np.std(v)\n",
    "    print(f'Resumo trades para pct: {k}')\n",
    "    print(f'sum: {s:.2f} mean: {m:.2f} desvio padrao: {std:.2f}\\n')"
   ]
  },
  {
   "cell_type": "code",
   "execution_count": 10,
   "metadata": {},
   "outputs": [
    {
     "name": "stdout",
     "output_type": "stream",
     "text": [
      "Resumo trades para pct: 0.05 (volume de 1 ação)\n",
      "sum: $218.42 mean: $4.12 desvio padrao: $3.89\n",
      "\n",
      "Resumo trades para pct: 0.15 (volume de 1 ação)\n",
      "sum: $247.48 mean: $4.67 desvio padrao: $6.40\n",
      "\n"
     ]
    }
   ],
   "source": [
    "for k,v in total_resultado.items():\n",
    "    s = np.sum(v)\n",
    "    m = np.mean(v)\n",
    "    std = np.std(v)\n",
    "    print(f'Resumo trades para pct: {k} (volume de 1 ação)')\n",
    "    print(f'sum: ${s:.2f} mean: ${m:.2f} desvio padrao: ${std:.2f}\\n')"
   ]
  },
  {
   "cell_type": "code",
   "execution_count": null,
   "metadata": {},
   "outputs": [],
   "source": []
  },
  {
   "cell_type": "code",
   "execution_count": null,
   "metadata": {},
   "outputs": [],
   "source": []
  }
 ],
 "metadata": {
  "kernelspec": {
   "display_name": "Python 3",
   "language": "python",
   "name": "python3"
  },
  "language_info": {
   "codemirror_mode": {
    "name": "ipython",
    "version": 3
   },
   "file_extension": ".py",
   "mimetype": "text/x-python",
   "name": "python",
   "nbconvert_exporter": "python",
   "pygments_lexer": "ipython3",
   "version": "3.8.3"
  }
 },
 "nbformat": 4,
 "nbformat_minor": 4
}
