{
 "cells": [
  {
   "cell_type": "code",
   "execution_count": 1,
   "metadata": {},
   "outputs": [],
   "source": [
    "#implementando posicoes compradas e vendidas"
   ]
  },
  {
   "cell_type": "code",
   "execution_count": 70,
   "metadata": {},
   "outputs": [],
   "source": [
    "import pandas as pd\n",
    "import numpy as np \n",
    "import matplotlib.pyplot as plt"
   ]
  },
  {
   "cell_type": "code",
   "execution_count": 71,
   "metadata": {},
   "outputs": [],
   "source": [
    "#calcula rsi\n",
    "data = pd.read_excel('_cotacoes_completa_diario.xlsx')\n",
    "filter_col = [col for col in data if col.startswith('close')]\n",
    "dados = data[filter_col].copy()\n",
    "rsi_period = 14\n",
    "l_name = []\n",
    "banana = dados.copy()\n",
    "for i in dados:\n",
    "    a = str(i).split()[1]\n",
    "    chg = dados[i].diff(1) #variação em 1 vela\n",
    "    gain = chg.mask(chg<0,0) #pega somente as variacoes positivas\n",
    "    loss = chg.mask(chg>0,0) #pega somente as variacoes negativas\n",
    "    avg_gain = gain.ewm(com = rsi_period - 1, min_periods = rsi_period).mean() #exponential weighted function\n",
    "    avg_loss = loss.ewm(com = rsi_period - 1, min_periods = rsi_period).mean()\n",
    "    rs = abs(avg_gain/avg_loss)\n",
    "    rsi = 100-(100/(1+rs))\n",
    "    dados['RSI '+a] = rsi"
   ]
  },
  {
   "cell_type": "code",
   "execution_count": 72,
   "metadata": {},
   "outputs": [],
   "source": [
    "def opera(dados_rsiticker, gain):\n",
    "    dic[_ticker] = {}\n",
    "    dic[_ticker]['Qnt Trades'] = 0\n",
    "    dic[_ticker]['Resultado'] = 0\n",
    "    dic[_ticker]['Periodo Carregando'] = []\n",
    "\n",
    "    posicao = 0 #vendido/neutro/comprado\n",
    "    resultado = 0 \n",
    "    preco_venda = 0\n",
    "    preco_compra = 0\n",
    "    carteira = 0\n",
    "    _carteira = 0 #carteira provisória pra evitar bug\n",
    "    dias_carregando = 0\n",
    "\n",
    "    for i in dados_rsiticker.index:\n",
    "        rsi = dados_rsiticker[dados_rsiticker.index == i].values[0]\n",
    "        preco_acao = dados[ticker][dados[ticker].index == i].values[0]\n",
    "        #operar vendido\n",
    "        if rsi >= 70:\n",
    "            if posicao == 0: #só vende se estiver neutro\n",
    "                posicao -=1 #agora está vendido em 1\n",
    "                preco_venda = preco_acao #salva o preço de venda\n",
    "                _carteira += preco_acao #soma na carteira o valor da ação\n",
    "                 #print(f'vendeu {a} a: {preco_compra}')     \n",
    "                dias_carregando = i\n",
    "        #comprar\n",
    "        elif rsi <= 30:\n",
    "            if posicao == 0:\n",
    "                posicao += 1 #tá comprado\n",
    "                preco_compra = preco_acao #guarda o preço da compra\n",
    "                _carteira -= preco_acao #debita o valor da compra\n",
    "                dias_carregando = i\n",
    "        #realizar lucro vendido\n",
    "        elif preco_venda - preco_acao >= gain*preco_venda and posicao == -1:\n",
    "            #se tiver vendido e lucro de 4%\n",
    "            _carteira -= preco_acao #credita o valor da ação vendida\n",
    "            posicao += 1\n",
    "            dic[_ticker]['Qnt Trades'] += 1\n",
    "            carteira = _carteira\n",
    "            dic[_ticker]['Periodo Carregando'].append(i-dias_carregando)\n",
    "            dias_carregando = 0 \n",
    "        #realizar comprado\n",
    "        elif preco_acao - preco_compra >= gain*preco_compra and posicao == 1:\n",
    "            #se tiver comprado e com lucro \n",
    "            _carteira += preco_acao #credita o valor da ação vendida\n",
    "            posicao -= 1\n",
    "            dic[_ticker]['Qnt Trades'] += 1\n",
    "            carteira = _carteira\n",
    "            dic[_ticker]['Periodo Carregando'].append(i-dias_carregando)\n",
    "            dias_carregando = 0 \n",
    "        #desmontar operacao comprado\n",
    "        elif rsi >=50 and preco_acao - preco_compra <= -gain*preco_venda and posicao == 1:\n",
    "            #se tiver comprado -> zerar preju \n",
    "            _carteira += preco_acao #credita o valor da ação vendida\n",
    "            posicao -= 1\n",
    "            dic[_ticker]['Qnt Trades'] += 1\n",
    "            carteira = _carteira\n",
    "            dic[_ticker]['Periodo Carregando'].append(i-dias_carregando)\n",
    "            dias_carregando = 0 \n",
    "        #desmontar operacao vendido \n",
    "        elif preco_venda - preco_acao <= -gain*preco_venda and posicao == -1:\n",
    "            #se tiver vendido e no preju\n",
    "            _carteira -= preco_acao #credita o valor da ação vendida\n",
    "            posicao += 1\n",
    "            dic[_ticker]['Qnt Trades'] += 1\n",
    "            carteira = _carteira\n",
    "            dic[_ticker]['Periodo Carregando'].append(i-dias_carregando)\n",
    "            dias_carregando = 0\n",
    "            \n",
    "    dic[_ticker]['Resultado'] = carteira\n",
    "    return dic  "
   ]
  },
  {
   "cell_type": "code",
   "execution_count": 73,
   "metadata": {},
   "outputs": [],
   "source": [
    "doc = {}\n",
    "l = [.04,.15]\n",
    "#posicao 1 - comprado,\n",
    "#0 - neutro, \n",
    "#(-1) - vendido\n",
    "\n",
    "#seleciona os tickers com 'Close'\n",
    "for pct in l:\n",
    "    valor_carteira = 0\n",
    "    dic = {}\n",
    "    for ticker in dados.iloc[:,1:54]:\n",
    "        _ticker = (ticker.split()[1])\n",
    "        rsi_ticker = ('RSI '+_ticker)\n",
    "        cotacoes = dados[rsi_ticker]        \n",
    "        opera(cotacoes,pct) #executa função para compra e venda para cada acao\n",
    "        doc[str(pct)] = dic\n",
    "        "
   ]
  },
  {
   "cell_type": "code",
   "execution_count": 74,
   "metadata": {},
   "outputs": [],
   "source": [
    "#deixa no formato para saber o resultado - quantidade/financeiro\n",
    "total_operacoes = {}\n",
    "lista_operacoes = []\n",
    "lista_resultados = []\n",
    "total_resultado = {}\n",
    "lista_tempo = []\n",
    "total_tempo = {}\n",
    "for k,v in doc.items():\n",
    "    for a,b in v.items():\n",
    "        lista_operacoes.append(b['Qnt Trades'])\n",
    "        lista_resultados.append(b['Resultado'])\n",
    "        for temp in b['Periodo Carregando']:\n",
    "            lista_tempo.append(temp)\n",
    "        \n",
    "    total_operacoes[str(k)] = lista_operacoes\n",
    "    total_resultado[str(k)] = lista_resultados\n",
    "    total_tempo[str(k)] = lista_tempo\n",
    "    #reseta listas\n",
    "    lista_operacoes = []\n",
    "    lista_resultados = []\n",
    "    lista_tempo = []\n"
   ]
  },
  {
   "cell_type": "code",
   "execution_count": 75,
   "metadata": {},
   "outputs": [],
   "source": [
    "# f= open(\"results.txt\",\"w+\")\n",
    "# f.write('Documento para registrar resultados\\n')\n",
    "# f.close()"
   ]
  },
  {
   "cell_type": "code",
   "execution_count": null,
   "metadata": {},
   "outputs": [],
   "source": []
  },
  {
   "cell_type": "code",
   "execution_count": 76,
   "metadata": {},
   "outputs": [
    {
     "name": "stdout",
     "output_type": "stream",
     "text": [
      "Resumo numero de operacoes para pct=0.04\n",
      "sum: 2136.00 mean: 40.30 desvio padrao: 7.38\n",
      "\n",
      "Resumo numero de operacoes para pct=0.15\n",
      "sum: 1063.00 mean: 20.06 desvio padrao: 5.56\n",
      "\n"
     ]
    }
   ],
   "source": [
    "# with open('guru99.txt','a') as salva:  \n",
    "for k,v in total_operacoes.items():\n",
    "    s = np.sum(v)\n",
    "    m = np.mean(v)\n",
    "    std = np.std(v)\n",
    "    print(f'Resumo numero de operacoes para pct={k}')\n",
    "    print(f'sum: {s:.2f} mean: {m:.2f} desvio padrao: {std:.2f}\\n')\n",
    "#     salva.write('Resumo numero de operacoes para pct={k}')"
   ]
  },
  {
   "cell_type": "code",
   "execution_count": 77,
   "metadata": {},
   "outputs": [
    {
     "name": "stdout",
     "output_type": "stream",
     "text": [
      "Resumo FINANCEIRO pct=0.04 (volume de 1 ação)\n",
      "sum: $103.02 mean: $1.94 desvio padrao: $8.96\n",
      "\n",
      "Resumo FINANCEIRO pct=0.15 (volume de 1 ação)\n",
      "sum: $-199.48 mean: $-3.76 desvio padrao: $15.87\n",
      "\n"
     ]
    }
   ],
   "source": [
    "for k,v in total_resultado.items():\n",
    "    s = np.sum(v)\n",
    "    m = np.mean(v)\n",
    "    std = np.std(v)\n",
    "    print(f'Resumo FINANCEIRO pct={k} (volume de 1 ação)')\n",
    "    print(f'sum: ${s:.2f} mean: ${m:.2f} desvio padrao: ${std:.2f}\\n')"
   ]
  },
  {
   "cell_type": "code",
   "execution_count": 78,
   "metadata": {},
   "outputs": [
    {
     "name": "stdout",
     "output_type": "stream",
     "text": [
      "Dias carregando p/ 0.04 (volume de 1 ação)\n",
      "Sum: 30477.00 dias  | Mean: 14.27 dias | Desvio Padrao: 14.53 dias\n",
      "\n",
      "Dias carregando p/ 0.15 (volume de 1 ação)\n",
      "Sum: 76759.00 dias  | Mean: 72.21 dias | Desvio Padrao: 66.39 dias\n",
      "\n"
     ]
    }
   ],
   "source": [
    "for k,v in total_tempo.items():\n",
    "    s = np.sum(v)\n",
    "    m = np.mean(v)\n",
    "    std = np.std(v)\n",
    "    print(f'Dias carregando p/ {k} (volume de 1 ação)')\n",
    "    print(f'Sum: {s:.2f} dias  | Mean: {m:.2f} dias | Desvio Padrao: {std:.2f} dias\\n')"
   ]
  },
  {
   "cell_type": "code",
   "execution_count": 79,
   "metadata": {},
   "outputs": [
    {
     "data": {
      "image/png": "[encoded data removed]",
      "text/plain": [
       "<Figure size 720x1440 with 2 Axes>"
      ]
     },
     "metadata": {
      "needs_background": "light"
     },
     "output_type": "display_data"
    }
   ],
   "source": [
    "import matplotlib\n",
    "fig = plt.figure(figsize=(10, 20))\n",
    "contador =1\n",
    "\n",
    "for k,v in total_operacoes.items():\n",
    "    matplotlib.pyplot.subplots_adjust(left=None, bottom=None, right=None, top=None, wspace=None, hspace=.5)\n",
    "    plt.subplot(5, 2, contador)\n",
    "    contador +=1\n",
    "    plt.title((\"Quantidade de operações: \"+k))\n",
    "    plt.hist(v,density=True,bins=7)\n",
    "        \n",
    "plt.show()"
   ]
  },
  {
   "cell_type": "code",
   "execution_count": 80,
   "metadata": {},
   "outputs": [
    {
     "data": {
      "image/png": "[encoded data removed]",
      "text/plain": [
       "<Figure size 720x1440 with 2 Axes>"
      ]
     },
     "metadata": {
      "needs_background": "light"
     },
     "output_type": "display_data"
    }
   ],
   "source": [
    "fig = plt.figure(figsize=(10, 20))\n",
    "contador =1\n",
    "for k,v in total_resultado.items():\n",
    "    matplotlib.pyplot.subplots_adjust(hspace=.5)\n",
    "    plt.subplot(5, 2, contador)\n",
    "    contador +=1\n",
    "    plt.title((\"Resultado financeiro: \"+k))\n",
    "    plt.hist(v,density=True,bins=20)"
   ]
  },
  {
   "cell_type": "code",
   "execution_count": 81,
   "metadata": {},
   "outputs": [
    {
     "name": "stdout",
     "output_type": "stream",
     "text": [
      "                 0\n",
      "count  2136.000000\n",
      "mean     14.268258\n",
      "std      14.535675\n",
      "min       1.000000\n",
      "25%       4.000000\n",
      "50%      10.000000\n",
      "75%      19.000000\n",
      "max     144.000000\n",
      "                 0\n",
      "count  1063.000000\n",
      "mean     72.209784\n",
      "std      66.420111\n",
      "min       1.000000\n",
      "25%      28.000000\n",
      "50%      51.000000\n",
      "75%      92.000000\n",
      "max     504.000000\n"
     ]
    }
   ],
   "source": [
    "# import scipy.stats as st\n",
    "# fig = plt.figure(figsize=(10, 20))\n",
    "contador =1\n",
    "for k,v in total_tempo.items():\n",
    "    a = pd.DataFrame(v)\n",
    "    print(a.describe())\n",
    "#     print(v)\n",
    "    \n",
    "#     matplotlib.pyplot.subplots_adjust(hspace=.5)\n",
    "#     plt.subplot(5, 2, contador)\n",
    "#     contador +=1\n",
    "#     plt.title((\"Tempo de carregamento: \"+k))\n",
    "#     plt.hist(v,density=True,bins=5,range=[1,30])"
   ]
  },
  {
   "cell_type": "code",
   "execution_count": null,
   "metadata": {},
   "outputs": [],
   "source": []
  },
  {
   "cell_type": "code",
   "execution_count": null,
   "metadata": {},
   "outputs": [],
   "source": []
  }
 ],
 "metadata": {
  "kernelspec": {
   "display_name": "Python 3",
   "language": "python",
   "name": "python3"
  },
  "language_info": {
   "codemirror_mode": {
    "name": "ipython",
    "version": 3
   },
   "file_extension": ".py",
   "mimetype": "text/x-python",
   "name": "python",
   "nbconvert_exporter": "python",
   "pygments_lexer": "ipython3",
   "version": "3.8.3"
  }
 },
 "nbformat": 4,
 "nbformat_minor": 4
}
