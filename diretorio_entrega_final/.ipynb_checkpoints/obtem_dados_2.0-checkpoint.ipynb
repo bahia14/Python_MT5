{
 "cells": [
  {
   "cell_type": "code",
   "execution_count": 6,
   "metadata": {},
   "outputs": [],
   "source": [
    "import MetaTrader5 as mt5\n",
    "from datetime import datetime\n",
    "import pandas as pd\n",
    "import pytz\n"
   ]
  },
  {
   "cell_type": "code",
   "execution_count": 68,
   "metadata": {},
   "outputs": [],
   "source": [
    "timezone = pytz.timezone(\"Etc/UTC\")\n",
    "utc_from = datetime(2019, 12, 31, tzinfo=timezone)\n",
    "def download_cotacao(ticker):  \n",
    "    rates = mt5.copy_rates_from(ticker, mt5.TIMEFRAME_D1, utc_from, 739) #baixa dados\n",
    "    dados = pd.DataFrame(rates) #cria dataframe\n",
    "    dados = dados[['time','close']] \n",
    "    dados.columns = ['time', ticker] #muda nome colunas \n",
    "    dados['time']=pd.to_datetime(dados['time'], unit='s')\n",
    "    dados = dados.set_index('time')\n",
    "    dados = dados[ticker]    \n",
    "    return dados\n"
   ]
  },
  {
   "cell_type": "code",
   "execution_count": 69,
   "metadata": {},
   "outputs": [
    {
     "data": {
      "text/plain": [
       "True"
      ]
     },
     "execution_count": 69,
     "metadata": {},
     "output_type": "execute_result"
    }
   ],
   "source": [
    "mt5.initialize()"
   ]
  },
  {
   "cell_type": "code",
   "execution_count": 70,
   "metadata": {},
   "outputs": [],
   "source": [
    "ltt = ['IBOV','ABEV3', 'BBAS3', 'BBDC3', 'BBDC4', 'BBSE3', 'BRAP4', 'BRFS3', 'BRKM5', 'BRML3', 'B3SA3', 'CCRO3', 'CIEL3', 'CMIG4', 'CPFE3', 'CPLE6', 'CSAN3', 'CSNA3', 'CYRE3', 'ECOR3', 'EGIE3', 'ELET3', 'EMBR3', 'ENBR3', 'EQTL3', 'YDUQ3', 'SUZB3', 'GGBR4', 'GOAU4', 'HYPE3', 'ITSA4', 'ITUB4', 'JBSS3', 'KLBN11', 'COGN3', 'LAME4', 'LREN3', 'MRFG3', 'MRVE3', 'MULT3', 'NTCO3', 'PETR3', 'PETR4', 'QUAL3', 'RADL3', 'RENT3', 'RAIL3', 'SANB11', 'SBSP3', 'SMLS3', 'SUZB3', 'TIMP3', 'UGPA3', 'USIM5', 'VALE3', 'VIVT4', 'WEGE3']"
   ]
  },
  {
   "cell_type": "code",
   "execution_count": 71,
   "metadata": {},
   "outputs": [],
   "source": [
    "dic = {}\n",
    "for i in ltt:\n",
    "    try: \n",
    "        dic[i] = (download_cotacao(i))\n",
    "    except:\n",
    "        print('erro com ',i)"
   ]
  },
  {
   "cell_type": "code",
   "execution_count": 72,
   "metadata": {},
   "outputs": [],
   "source": [
    "todos_dados_do_dic = []\n",
    "primeiro_df = True\n",
    "for k,v in dic.items():\n",
    "    if primeiro_df:\n",
    "        dados = dic[k].copy()\n",
    "        primeiro_df = False\n",
    "    else:\n",
    "        dados = pd.concat([dados,dic[k]],axis=1,join='outer')\n"
   ]
  },
  {
   "cell_type": "code",
   "execution_count": 73,
   "metadata": {},
   "outputs": [],
   "source": [
    "dados.to_excel('dados_relatorio_final.xlsx')"
   ]
  }
 ],
 "metadata": {
  "kernelspec": {
   "display_name": "Python 3",
   "language": "python",
   "name": "python3"
  },
  "language_info": {
   "codemirror_mode": {
    "name": "ipython",
    "version": 3
   },
   "file_extension": ".py",
   "mimetype": "text/x-python",
   "name": "python",
   "nbconvert_exporter": "python",
   "pygments_lexer": "ipython3",
   "version": "3.7.4"
  }
 },
 "nbformat": 4,
 "nbformat_minor": 4
}
