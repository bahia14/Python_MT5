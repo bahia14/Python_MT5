{
 "cells": [
  {
   "cell_type": "code",
   "execution_count": 1,
   "metadata": {},
   "outputs": [],
   "source": [
    "import numpy as np\n",
    "import pandas as pd\n",
    "import statsmodels.api as sm\n",
    "from scipy.stats import zscore\n",
    "import matplotlib.pyplot as plt \n",
    "from statsmodels import regression\n",
    "from statsmodels.tsa.stattools import coint"
   ]
  },
  {
   "cell_type": "code",
   "execution_count": 2,
   "metadata": {},
   "outputs": [],
   "source": [
    "data = pd.read_excel('dados_relatorio_final.xlsx')"
   ]
  },
  {
   "cell_type": "code",
   "execution_count": 3,
   "metadata": {},
   "outputs": [
    {
     "data": {
      "text/html": [
       "<div>\n",
       "<style scoped>\n",
       "    .dataframe tbody tr th:only-of-type {\n",
       "        vertical-align: middle;\n",
       "    }\n",
       "\n",
       "    .dataframe tbody tr th {\n",
       "        vertical-align: top;\n",
       "    }\n",
       "\n",
       "    .dataframe thead th {\n",
       "        text-align: right;\n",
       "    }\n",
       "</style>\n",
       "<table border=\"1\" class=\"dataframe\">\n",
       "  <thead>\n",
       "    <tr style=\"text-align: right;\">\n",
       "      <th></th>\n",
       "      <th>time</th>\n",
       "      <th>IBOV</th>\n",
       "      <th>ABEV3</th>\n",
       "      <th>BBAS3</th>\n",
       "      <th>BBDC3</th>\n",
       "      <th>BBDC4</th>\n",
       "      <th>BBSE3</th>\n",
       "      <th>BRAP4</th>\n",
       "      <th>BRFS3</th>\n",
       "      <th>BRKM5</th>\n",
       "      <th>...</th>\n",
       "      <th>RAIL3</th>\n",
       "      <th>SANB11</th>\n",
       "      <th>SBSP3</th>\n",
       "      <th>SMLS3</th>\n",
       "      <th>TIMP3</th>\n",
       "      <th>UGPA3</th>\n",
       "      <th>USIM5</th>\n",
       "      <th>VALE3</th>\n",
       "      <th>VIVT4</th>\n",
       "      <th>WEGE3</th>\n",
       "    </tr>\n",
       "  </thead>\n",
       "  <tbody>\n",
       "    <tr>\n",
       "      <th>0</th>\n",
       "      <td>2017-01-02</td>\n",
       "      <td>59589</td>\n",
       "      <td>15.09</td>\n",
       "      <td>24.18</td>\n",
       "      <td>15.98</td>\n",
       "      <td>15.94</td>\n",
       "      <td>20.38</td>\n",
       "      <td>12.60</td>\n",
       "      <td>47.90</td>\n",
       "      <td>30.82</td>\n",
       "      <td>...</td>\n",
       "      <td>6.12</td>\n",
       "      <td>24.27</td>\n",
       "      <td>25.46</td>\n",
       "      <td>36.27</td>\n",
       "      <td>7.21</td>\n",
       "      <td>31.13</td>\n",
       "      <td>3.96</td>\n",
       "      <td>22.79</td>\n",
       "      <td>34.80</td>\n",
       "      <td>10.99</td>\n",
       "    </tr>\n",
       "    <tr>\n",
       "      <th>1</th>\n",
       "      <td>2017-01-03</td>\n",
       "      <td>61814</td>\n",
       "      <td>15.39</td>\n",
       "      <td>25.28</td>\n",
       "      <td>16.63</td>\n",
       "      <td>16.62</td>\n",
       "      <td>21.11</td>\n",
       "      <td>13.13</td>\n",
       "      <td>49.50</td>\n",
       "      <td>32.58</td>\n",
       "      <td>...</td>\n",
       "      <td>6.19</td>\n",
       "      <td>25.13</td>\n",
       "      <td>25.76</td>\n",
       "      <td>38.38</td>\n",
       "      <td>7.52</td>\n",
       "      <td>31.63</td>\n",
       "      <td>4.17</td>\n",
       "      <td>23.80</td>\n",
       "      <td>35.16</td>\n",
       "      <td>11.54</td>\n",
       "    </tr>\n",
       "    <tr>\n",
       "      <th>2</th>\n",
       "      <td>2017-01-04</td>\n",
       "      <td>61589</td>\n",
       "      <td>15.27</td>\n",
       "      <td>25.15</td>\n",
       "      <td>16.62</td>\n",
       "      <td>16.51</td>\n",
       "      <td>21.78</td>\n",
       "      <td>12.85</td>\n",
       "      <td>48.91</td>\n",
       "      <td>32.03</td>\n",
       "      <td>...</td>\n",
       "      <td>6.19</td>\n",
       "      <td>25.25</td>\n",
       "      <td>26.50</td>\n",
       "      <td>38.46</td>\n",
       "      <td>7.67</td>\n",
       "      <td>31.13</td>\n",
       "      <td>4.42</td>\n",
       "      <td>23.37</td>\n",
       "      <td>35.01</td>\n",
       "      <td>11.26</td>\n",
       "    </tr>\n",
       "    <tr>\n",
       "      <th>3</th>\n",
       "      <td>2017-01-05</td>\n",
       "      <td>62071</td>\n",
       "      <td>15.36</td>\n",
       "      <td>25.09</td>\n",
       "      <td>16.72</td>\n",
       "      <td>16.69</td>\n",
       "      <td>21.34</td>\n",
       "      <td>13.49</td>\n",
       "      <td>48.53</td>\n",
       "      <td>32.41</td>\n",
       "      <td>...</td>\n",
       "      <td>6.20</td>\n",
       "      <td>25.17</td>\n",
       "      <td>26.58</td>\n",
       "      <td>38.32</td>\n",
       "      <td>7.77</td>\n",
       "      <td>31.31</td>\n",
       "      <td>4.47</td>\n",
       "      <td>24.26</td>\n",
       "      <td>34.42</td>\n",
       "      <td>11.23</td>\n",
       "    </tr>\n",
       "    <tr>\n",
       "      <th>4</th>\n",
       "      <td>2017-01-06</td>\n",
       "      <td>61665</td>\n",
       "      <td>15.23</td>\n",
       "      <td>25.36</td>\n",
       "      <td>16.84</td>\n",
       "      <td>16.80</td>\n",
       "      <td>21.01</td>\n",
       "      <td>13.25</td>\n",
       "      <td>46.22</td>\n",
       "      <td>31.77</td>\n",
       "      <td>...</td>\n",
       "      <td>6.36</td>\n",
       "      <td>25.06</td>\n",
       "      <td>26.19</td>\n",
       "      <td>36.62</td>\n",
       "      <td>7.67</td>\n",
       "      <td>31.17</td>\n",
       "      <td>4.34</td>\n",
       "      <td>23.61</td>\n",
       "      <td>34.51</td>\n",
       "      <td>11.33</td>\n",
       "    </tr>\n",
       "  </tbody>\n",
       "</table>\n",
       "<p>5 rows × 57 columns</p>\n",
       "</div>"
      ],
      "text/plain": [
       "        time   IBOV  ABEV3  BBAS3  BBDC3  BBDC4  BBSE3  BRAP4  BRFS3  BRKM5  \\\n",
       "0 2017-01-02  59589  15.09  24.18  15.98  15.94  20.38  12.60  47.90  30.82   \n",
       "1 2017-01-03  61814  15.39  25.28  16.63  16.62  21.11  13.13  49.50  32.58   \n",
       "2 2017-01-04  61589  15.27  25.15  16.62  16.51  21.78  12.85  48.91  32.03   \n",
       "3 2017-01-05  62071  15.36  25.09  16.72  16.69  21.34  13.49  48.53  32.41   \n",
       "4 2017-01-06  61665  15.23  25.36  16.84  16.80  21.01  13.25  46.22  31.77   \n",
       "\n",
       "   ...  RAIL3  SANB11  SBSP3  SMLS3  TIMP3  UGPA3  USIM5  VALE3  VIVT4  WEGE3  \n",
       "0  ...   6.12   24.27  25.46  36.27   7.21  31.13   3.96  22.79  34.80  10.99  \n",
       "1  ...   6.19   25.13  25.76  38.38   7.52  31.63   4.17  23.80  35.16  11.54  \n",
       "2  ...   6.19   25.25  26.50  38.46   7.67  31.13   4.42  23.37  35.01  11.26  \n",
       "3  ...   6.20   25.17  26.58  38.32   7.77  31.31   4.47  24.26  34.42  11.23  \n",
       "4  ...   6.36   25.06  26.19  36.62   7.67  31.17   4.34  23.61  34.51  11.33  \n",
       "\n",
       "[5 rows x 57 columns]"
      ]
     },
     "execution_count": 3,
     "metadata": {},
     "output_type": "execute_result"
    }
   ],
   "source": [
    "data.head()"
   ]
  },
  {
   "cell_type": "code",
   "execution_count": 58,
   "metadata": {},
   "outputs": [],
   "source": [
    "class senninha_long_and_short():\n",
    "    def __init__(self,dados,t1,t2, financeiro_inicial):\n",
    "        #temos o par de tickers, os dados históricos de preço, e as variações históricas.\n",
    "        self.t1, self.t2 = t1,t2\n",
    "        self.dados = dados[['time',t1,t2]]\n",
    "        self.dados_var = dados[[t1,t2]].pct_change()[1:]\n",
    "        self.dados = self.dados[1:]\n",
    "        self.s1, self.s2 = self.dados[self.t1], self.dados[self.t2]\n",
    "        self.s1_var, self.s2_var = self.dados_var[self.t1], self.dados_var[self.t2]\n",
    "        self.financeiro = financeiro_inicial\n",
    "        #variaveis iniciais para tradar pares\n",
    "        self.posicionado = 0\n",
    "        self.compra_s1 = 0\n",
    "        self.venda_s2 = 0\n",
    "        #desempenho ao longo do tempo \n",
    "        self.l_resultado = []\n",
    "          \n",
    "    def calcula_zscore_spread(self,stock1,stock2):\n",
    "        stock1 = sm.add_constant(stock1)\n",
    "        results = sm.OLS(stock2,stock1).fit()\n",
    "        stock1 = stock1[self.t1]\n",
    "        b = results.params[self.t1]\n",
    "        spread = stock2 - (b*stock1)\n",
    "        zs = zscore(spread)[-1]\n",
    "        return zs, b\n",
    "    \n",
    "    def condicoes_operar(self, zs_atual, zs_critico, cotacao1, cotacao2):\n",
    "        if zs_atual >= zs_critico and self.posicionado == 0:\n",
    "            razao = cotacao1/cotacao2\n",
    "            volume = (self.financeiro/2)//cotacao1\n",
    "            self.v1, self.v2 = int(volume), int(razao*volume)\n",
    "            #definiu o numero de ações que comprará de cada\n",
    "            self.venda_s1  = cotacao1*self.v1\n",
    "            self.compra_s2 = cotacao2*self.v2 \n",
    "            #print(f'entrou | s1 {self.compra_s1:.2f} | s2 {self.venda_s2:.2f}')\n",
    "            self.posicionado = 1\n",
    "        elif zs_atual <= 0.08 and self.posicionado == 1:\n",
    "            self.posicionado = 0            \n",
    "            #encerra posicao\n",
    "            self.compra_s1 = cotacao1*self.v1\n",
    "            self.venda_s2  = cotacao2*self.v2 \n",
    "            #print(f'saiu   | s1 {self.venda_s1:.2f} | s2 {self.compra_s2:.2f}')\n",
    "            #resultado\n",
    "            resultado_short  = self.venda_s1 - self.compra_s1\n",
    "            resultado_long   = self.venda_s2 - self.compra_s2\n",
    "            resultado = resultado_long + resultado_short\n",
    "            self.l_resultado.append(resultado)\n",
    "            #print(f'result | s1 {resultado_long:.2f} | s2 {resultado_short:.2f} | l/p = {resultado:.2f}\\n')\n",
    "            self.financeiro += resultado\n",
    "            #reseta valor em carteira de cada ação\n",
    "            self.compra_s1, self.venda_s1, self.compra_s2 ,self.venda_s2,  = 0, 0, 0, 0\n",
    "            resultado, resultado_long, resultado_short = 0, 0, 0\n",
    "            \n",
    "    def loop_operador(self, window_size):\n",
    "        c = 0\n",
    "        zs_limite = 1.1\n",
    "        for index in range(window_size, len(self.s1)):\n",
    "            #stock data in the window range\n",
    "            s1_var_w, s2_var_w = self.s1_var[c:index], self.s2_var[c:index]\n",
    "            preco_s1, preco_s2 = self.s1[self.dados.index == index].values[0], self.s2[self.dados.index == index].values[0]\n",
    "            #calculates the zscore of the spread\n",
    "            resultado_funcao = self.calcula_zscore_spread(s1_var_w, s2_var_w)\n",
    "            zs, beta = resultado_funcao[0], resultado_funcao[1]\n",
    "            self.condicoes_operar(zs_atual=zs, zs_critico=zs_limite, cotacao1=preco_s1, cotacao2=preco_s2)\n",
    "            c+=1\n"
   ]
  },
  {
   "cell_type": "code",
   "execution_count": 79,
   "metadata": {},
   "outputs": [],
   "source": [
    "objitsavale = senninha_long_and_short(data,'VALE3', 'ITSA4', 1000,zs_l=1.1)"
   ]
  },
  {
   "cell_type": "code",
   "execution_count": 80,
   "metadata": {},
   "outputs": [],
   "source": [
    "objitsavale.loop_operador(window_size=45)"
   ]
  },
  {
   "cell_type": "code",
   "execution_count": 81,
   "metadata": {},
   "outputs": [
    {
     "data": {
      "text/plain": [
       "943.8100000000001"
      ]
     },
     "execution_count": 81,
     "metadata": {},
     "output_type": "execute_result"
    }
   ],
   "source": [
    "objitsavale.financeiro"
   ]
  },
  {
   "cell_type": "code",
   "execution_count": 82,
   "metadata": {},
   "outputs": [
    {
     "data": {
      "image/png": "[encoded data removed]",
      "text/plain": [
       "<Figure size 432x288 with 1 Axes>"
      ]
     },
     "metadata": {
      "needs_background": "light"
     },
     "output_type": "display_data"
    }
   ],
   "source": [
    "plt.plot(objitsavale.l_resultado)\n",
    "plt.show()"
   ]
  },
  {
   "cell_type": "code",
   "execution_count": 63,
   "metadata": {},
   "outputs": [
    {
     "data": {
      "text/plain": [
       "Index(['time', 'IBOV', 'ABEV3', 'BBAS3', 'BBDC3', 'BBDC4', 'BBSE3', 'BRAP4',\n",
       "       'BRFS3', 'BRKM5', 'BRML3', 'B3SA3', 'CCRO3', 'CIEL3', 'CMIG4', 'CPFE3',\n",
       "       'CPLE6', 'CSAN3', 'CSNA3', 'CYRE3', 'ECOR3', 'EGIE3', 'ELET3', 'EMBR3',\n",
       "       'ENBR3', 'EQTL3', 'YDUQ3', 'SUZB3', 'GGBR4', 'GOAU4', 'HYPE3', 'ITSA4',\n",
       "       'ITUB4', 'JBSS3', 'KLBN11', 'COGN3', 'LAME4', 'LREN3', 'MRFG3', 'MRVE3',\n",
       "       'MULT3', 'NTCO3', 'PETR3', 'PETR4', 'QUAL3', 'RADL3', 'RENT3', 'RAIL3',\n",
       "       'SANB11', 'SBSP3', 'SMLS3', 'TIMP3', 'UGPA3', 'USIM5', 'VALE3', 'VIVT4',\n",
       "       'WEGE3'],\n",
       "      dtype='object')"
      ]
     },
     "execution_count": 63,
     "metadata": {},
     "output_type": "execute_result"
    }
   ],
   "source": [
    "data.columns"
   ]
  },
  {
   "cell_type": "code",
   "execution_count": 64,
   "metadata": {},
   "outputs": [],
   "source": [
    "lt = [['ABEV3', 'BBAS3'], ['BBDC3', 'BBDC4'],['BBSE3', 'BRAP4'],['BRFS3', 'BRKM5'], ['BRML3', 'B3SA3'], ['CCRO3', 'CIEL3'], ['CMIG4', 'CPFE3'],['CPLE6', 'CSAN3'], ['CSNA3', 'CYRE3'], ['ECOR3', 'EGIE3'], ['ELET3', 'EMBR3'],['ENBR3', 'EQTL3']]"
   ]
  },
  {
   "cell_type": "code",
   "execution_count": 66,
   "metadata": {},
   "outputs": [
    {
     "name": "stdout",
     "output_type": "stream",
     "text": [
      "['ABEV3', 'BBAS3'] 817.7299999999999\n",
      "['BBDC3', 'BBDC4'] 912.1299999999999\n",
      "['BBSE3', 'BRAP4'] 886.5700000000006\n",
      "['BRFS3', 'BRKM5'] 1103.0099999999995\n",
      "['BRML3', 'B3SA3'] 874.1800000000012\n",
      "['CCRO3', 'CIEL3'] 1064.6500000000003\n",
      "['CMIG4', 'CPFE3'] 1053.6300000000008\n",
      "['CPLE6', 'CSAN3'] 996.24\n",
      "['CSNA3', 'CYRE3'] 1046.2199999999998\n",
      "['ECOR3', 'EGIE3'] 794.8100000000001\n",
      "['ELET3', 'EMBR3'] 1197.769999999999\n",
      "['ENBR3', 'EQTL3'] 775.3799999999994\n"
     ]
    }
   ],
   "source": [
    "for i in lt:\n",
    "    objitsavale = senninha_long_and_short(data,i[1], i[0], 1000)\n",
    "    objitsavale.loop_operador(window_size=45)\n",
    "    print(i, objitsavale.financeiro)\n",
    "    "
   ]
  },
  {
   "cell_type": "code",
   "execution_count": 53,
   "metadata": {},
   "outputs": [],
   "source": [
    "dados2 = pd.read_excel('C:/Users/danie/Desktop/mql_python/todos_diretorios_desenvolvimento_projeto/Relatório 1/dados_relatorio.xlsx')[1:]"
   ]
  },
  {
   "cell_type": "code",
   "execution_count": 55,
   "metadata": {},
   "outputs": [],
   "source": [
    "lt = [['close ABEV3', 'close BBAS3'], ['close BBDC3', 'close BBDC4'],['close BBSE3', 'close BRAP4'],['close BRFS3', 'close BRKM5'], ['close BRML3', 'close B3SA3'], ['close CCRO3', 'close CIEL3'], ['close CMIG4', 'close CPFE3'],['close CPLE6', 'close CSAN3'], ['close CSNA3', 'close CYRE3'], ['close ECOR3', 'close EGIE3'], ['close ELET3', 'close EMBR3'],['close ENBR3', 'close EQTL3']]"
   ]
  },
  {
   "cell_type": "code",
   "execution_count": 57,
   "metadata": {},
   "outputs": [
    {
     "name": "stdout",
     "output_type": "stream",
     "text": [
      "['close ABEV3', 'close BBAS3'] 357.8699999999998\n",
      "['close BBDC3', 'close BBDC4'] 510.6399999999999\n",
      "['close BBSE3', 'close BRAP4'] 241.89000000000007\n",
      "['close BRFS3', 'close BRKM5'] 172.77999999999997\n",
      "['close BRML3', 'close B3SA3'] 201.44000000000017\n",
      "['close CCRO3', 'close CIEL3'] 128.72000000000043\n",
      "['close CMIG4', 'close CPFE3'] 111.27000000000012\n",
      "erro com  ['close CPLE6', 'close CSAN3']\n",
      "['close CSNA3', 'close CYRE3'] 45.90000000000036\n"
     ]
    },
    {
     "name": "stderr",
     "output_type": "stream",
     "text": [
      "c:\\users\\danie\\appdata\\local\\programs\\python\\python37\\lib\\site-packages\\ipykernel_launcher.py:30: RuntimeWarning: invalid value encountered in double_scalars\n"
     ]
    },
    {
     "name": "stdout",
     "output_type": "stream",
     "text": [
      "erro com  ['close ECOR3', 'close EGIE3']\n",
      "['close ELET3', 'close EMBR3'] 71.33000000000011\n",
      "['close ENBR3', 'close EQTL3'] 234.78000000000108\n"
     ]
    }
   ],
   "source": [
    "for i in lt:\n",
    "    try:\n",
    "        objitsavale = senninha_long_and_short(dados2,i[1], i[0], 1000)\n",
    "        objitsavale.loop_operador(window_size=45)\n",
    "        print(i, objitsavale.financeiro)        \n",
    "    except:\n",
    "        print('erro com ',i)\n"
   ]
  },
  {
   "cell_type": "code",
   "execution_count": 75,
   "metadata": {},
   "outputs": [],
   "source": [
    "class senninha_long_and_short():\n",
    "    def __init__(self,dados,t1,t2, financeiro_inicial, zs_l):\n",
    "        #temos o par de tickers, os dados históricos de preço, e as variações históricas.\n",
    "        self.zs_critico = zs_l\n",
    "        self.t1, self.t2 = t1,t2\n",
    "        self.dados = dados[['time',t1,t2]]\n",
    "        self.dados_var = dados[[t1,t2]].pct_change()[1:]\n",
    "        self.dados = self.dados[1:]\n",
    "        self.s1, self.s2 = self.dados[self.t1], self.dados[self.t2]\n",
    "        self.s1_var, self.s2_var = self.dados_var[self.t1], self.dados_var[self.t2]\n",
    "        self.financeiro = financeiro_inicial\n",
    "        #variaveis iniciais para tradar pares\n",
    "        self.posicionado = 0\n",
    "        self.compra_s1 = 0\n",
    "        self.venda_s2 = 0\n",
    "        #desempenho ao longo do tempo \n",
    "        self.l_resultado = []\n",
    "          \n",
    "    def calcula_zscore_spread(self,stock1,stock2):\n",
    "        stock1 = sm.add_constant(stock1)\n",
    "        results = sm.OLS(stock2,stock1).fit()\n",
    "        stock1 = stock1[self.t1]\n",
    "        b = results.params[self.t1]\n",
    "        spread = stock2 - (b*stock1)\n",
    "        zs = zscore(spread)[-1]\n",
    "        return zs, b\n",
    "    \n",
    "    def condicoes_operar(self, zs_atual, cotacao1, cotacao2):\n",
    "        if zs_atual >= self.zs_critico and self.posicionado == 0:\n",
    "            razao = cotacao1/cotacao2\n",
    "            volume = (self.financeiro/2)//cotacao1\n",
    "            self.v1, self.v2 = int(volume), int(razao*volume)\n",
    "            #definiu o numero de ações que comprará de cada\n",
    "            self.compra_s1 = cotacao1*self.v1\n",
    "            self.venda_s2  = cotacao2*self.v2 \n",
    "            #self.financeiro += (self.venda_s2 - self.compra_s1)\n",
    "            #print(f'entrou | s1 {self.compra_s1:.2f} | s2 {self.venda_s2:.2f}')\n",
    "            self.posicionado = 1\n",
    "        elif zs_atual <= 0.08 and self.posicionado == 1:\n",
    "            self.posicionado = 0            \n",
    "            #encerra posicao\n",
    "            self.venda_s1 = cotacao1*self.v1\n",
    "            self.compra_s2  = cotacao2*self.v2 \n",
    "            #self.financeiro += (self.venda_s1 - self.compra_s2)\n",
    "            #print(f'saiu   | s1 {self.venda_s1:.2f} | s2 {self.compra_s2:.2f}')\n",
    "            #resultado\n",
    "            resultado_long = self.venda_s1 - self.compra_s1\n",
    "            resultado_short  = self.venda_s2 - self.compra_s2\n",
    "            resultado = resultado_long + resultado_short\n",
    "            self.l_resultado.append(resultado)\n",
    "            #print(f'result | s1 {resultado_long:.2f} | s2 {resultado_short:.2f} | l/p = {resultado:.2f}\\n')\n",
    "            self.financeiro += resultado\n",
    "            #reseta valor em carteira de cada ação\n",
    "            self.compra_s1, self.venda_s1, self.compra_s2 ,self.venda_s2,  = 0, 0, 0, 0\n",
    "            resultado, resultado_long, resultado_short = 0, 0, 0\n",
    "            \n",
    "    def loop_operador(self, window_size):\n",
    "        c = 0\n",
    "        for index in range(window_size, len(self.s1)):\n",
    "            #stock data in the window range\n",
    "            s1_var_w, s2_var_w = self.s1_var[c:index], self.s2_var[c:index]\n",
    "            preco_s1, preco_s2 = self.s1[self.dados.index == index].values[0], self.s2[self.dados.index == index].values[0]\n",
    "            #calculates the zscore of the spread\n",
    "            resultado_funcao = self.calcula_zscore_spread(s1_var_w, s2_var_w)\n",
    "            zs, beta = resultado_funcao[0], resultado_funcao[1]\n",
    "            self.condicoes_operar(zs_atual=zs, cotacao1=preco_s1, cotacao2=preco_s2)\n",
    "            c+=1\n"
   ]
  },
  {
   "cell_type": "code",
   "execution_count": 76,
   "metadata": {},
   "outputs": [
    {
     "ename": "TypeError",
     "evalue": "__init__() missing 1 required positional argument: 'zs_l'",
     "output_type": "error",
     "traceback": [
      "\u001b[1;31m---------------------------------------------------------------------------\u001b[0m",
      "\u001b[1;31mTypeError\u001b[0m                                 Traceback (most recent call last)",
      "\u001b[1;32m<ipython-input-76-e409717102e2>\u001b[0m in \u001b[0;36m<module>\u001b[1;34m\u001b[0m\n\u001b[0;32m      1\u001b[0m \u001b[0mlt\u001b[0m \u001b[1;33m=\u001b[0m \u001b[1;33m[\u001b[0m\u001b[1;33m[\u001b[0m\u001b[1;34m'ABEV3'\u001b[0m\u001b[1;33m,\u001b[0m \u001b[1;34m'BBAS3'\u001b[0m\u001b[1;33m]\u001b[0m\u001b[1;33m,\u001b[0m \u001b[1;33m[\u001b[0m\u001b[1;34m'BBDC3'\u001b[0m\u001b[1;33m,\u001b[0m \u001b[1;34m'BBDC4'\u001b[0m\u001b[1;33m]\u001b[0m\u001b[1;33m,\u001b[0m\u001b[1;33m[\u001b[0m\u001b[1;34m'BBSE3'\u001b[0m\u001b[1;33m,\u001b[0m \u001b[1;34m'BRAP4'\u001b[0m\u001b[1;33m]\u001b[0m\u001b[1;33m,\u001b[0m\u001b[1;33m[\u001b[0m\u001b[1;34m'BRFS3'\u001b[0m\u001b[1;33m,\u001b[0m \u001b[1;34m'BRKM5'\u001b[0m\u001b[1;33m]\u001b[0m\u001b[1;33m,\u001b[0m \u001b[1;33m[\u001b[0m\u001b[1;34m'BRML3'\u001b[0m\u001b[1;33m,\u001b[0m \u001b[1;34m'B3SA3'\u001b[0m\u001b[1;33m]\u001b[0m\u001b[1;33m,\u001b[0m \u001b[1;33m[\u001b[0m\u001b[1;34m'CCRO3'\u001b[0m\u001b[1;33m,\u001b[0m \u001b[1;34m'CIEL3'\u001b[0m\u001b[1;33m]\u001b[0m\u001b[1;33m,\u001b[0m \u001b[1;33m[\u001b[0m\u001b[1;34m'CMIG4'\u001b[0m\u001b[1;33m,\u001b[0m \u001b[1;34m'CPFE3'\u001b[0m\u001b[1;33m]\u001b[0m\u001b[1;33m,\u001b[0m\u001b[1;33m[\u001b[0m\u001b[1;34m'CPLE6'\u001b[0m\u001b[1;33m,\u001b[0m \u001b[1;34m'CSAN3'\u001b[0m\u001b[1;33m]\u001b[0m\u001b[1;33m,\u001b[0m \u001b[1;33m[\u001b[0m\u001b[1;34m'CSNA3'\u001b[0m\u001b[1;33m,\u001b[0m \u001b[1;34m'CYRE3'\u001b[0m\u001b[1;33m]\u001b[0m\u001b[1;33m,\u001b[0m \u001b[1;33m[\u001b[0m\u001b[1;34m'ECOR3'\u001b[0m\u001b[1;33m,\u001b[0m \u001b[1;34m'EGIE3'\u001b[0m\u001b[1;33m]\u001b[0m\u001b[1;33m,\u001b[0m \u001b[1;33m[\u001b[0m\u001b[1;34m'ELET3'\u001b[0m\u001b[1;33m,\u001b[0m \u001b[1;34m'EMBR3'\u001b[0m\u001b[1;33m]\u001b[0m\u001b[1;33m,\u001b[0m\u001b[1;33m[\u001b[0m\u001b[1;34m'ENBR3'\u001b[0m\u001b[1;33m,\u001b[0m \u001b[1;34m'EQTL3'\u001b[0m\u001b[1;33m]\u001b[0m\u001b[1;33m]\u001b[0m\u001b[1;33m\u001b[0m\u001b[1;33m\u001b[0m\u001b[0m\n\u001b[0;32m      2\u001b[0m \u001b[1;32mfor\u001b[0m \u001b[0mi\u001b[0m \u001b[1;32min\u001b[0m \u001b[0mlt\u001b[0m\u001b[1;33m:\u001b[0m\u001b[1;33m\u001b[0m\u001b[1;33m\u001b[0m\u001b[0m\n\u001b[1;32m----> 3\u001b[1;33m     \u001b[0mobjitsavale\u001b[0m \u001b[1;33m=\u001b[0m \u001b[0msenninha_long_and_short\u001b[0m\u001b[1;33m(\u001b[0m\u001b[0mdata\u001b[0m\u001b[1;33m,\u001b[0m\u001b[0mi\u001b[0m\u001b[1;33m[\u001b[0m\u001b[1;36m1\u001b[0m\u001b[1;33m]\u001b[0m\u001b[1;33m,\u001b[0m \u001b[0mi\u001b[0m\u001b[1;33m[\u001b[0m\u001b[1;36m0\u001b[0m\u001b[1;33m]\u001b[0m\u001b[1;33m,\u001b[0m \u001b[1;36m1000\u001b[0m\u001b[1;33m)\u001b[0m\u001b[1;33m\u001b[0m\u001b[1;33m\u001b[0m\u001b[0m\n\u001b[0m\u001b[0;32m      4\u001b[0m     \u001b[0mobjitsavale\u001b[0m\u001b[1;33m.\u001b[0m\u001b[0mloop_operador\u001b[0m\u001b[1;33m(\u001b[0m\u001b[0mwindow_size\u001b[0m\u001b[1;33m=\u001b[0m\u001b[1;36m45\u001b[0m\u001b[1;33m)\u001b[0m\u001b[1;33m\u001b[0m\u001b[1;33m\u001b[0m\u001b[0m\n\u001b[0;32m      5\u001b[0m     \u001b[0mprint\u001b[0m\u001b[1;33m(\u001b[0m\u001b[0mi\u001b[0m\u001b[1;33m,\u001b[0m \u001b[0mobjitsavale\u001b[0m\u001b[1;33m.\u001b[0m\u001b[0mfinanceiro\u001b[0m\u001b[1;33m)\u001b[0m\u001b[1;33m\u001b[0m\u001b[1;33m\u001b[0m\u001b[0m\n",
      "\u001b[1;31mTypeError\u001b[0m: __init__() missing 1 required positional argument: 'zs_l'"
     ]
    }
   ],
   "source": [
    "lt = [['ABEV3', 'BBAS3'], ['BBDC3', 'BBDC4'],['BBSE3', 'BRAP4'],['BRFS3', 'BRKM5'], ['BRML3', 'B3SA3'], ['CCRO3', 'CIEL3'], ['CMIG4', 'CPFE3'],['CPLE6', 'CSAN3'], ['CSNA3', 'CYRE3'], ['ECOR3', 'EGIE3'], ['ELET3', 'EMBR3'],['ENBR3', 'EQTL3']]\n",
    "for i in lt:\n",
    "    objitsavale = senninha_long_and_short(data,i[1], i[0], 1000)\n",
    "    objitsavale.loop_operador(window_size=45)\n",
    "    print(i, objitsavale.financeiro)"
   ]
  },
  {
   "cell_type": "code",
   "execution_count": 77,
   "metadata": {},
   "outputs": [
    {
     "name": "stdout",
     "output_type": "stream",
     "text": [
      "1\n",
      "['ABEV3', 'BBAS3'] 1006.8199999999985\n",
      "['BBDC3', 'BBDC4'] 1058.2299999999993\n",
      "['BBSE3', 'BRAP4'] 972.8799999999999\n",
      "['BRFS3', 'BRKM5'] 1038.8400000000013\n",
      "['BRML3', 'B3SA3'] 1052.460000000001\n",
      "['CCRO3', 'CIEL3'] 1536.2200000000003\n",
      "['CMIG4', 'CPFE3'] 782.6999999999991\n",
      "['CPLE6', 'CSAN3'] 1027.620000000001\n",
      "['CSNA3', 'CYRE3'] 1110.960000000001\n",
      "['ECOR3', 'EGIE3'] 1043.0100000000002\n",
      "['ELET3', 'EMBR3'] 1525.14\n",
      "['ENBR3', 'EQTL3'] 1264.6100000000008\n",
      "1.5\n",
      "['ABEV3', 'BBAS3'] 964.2799999999995\n",
      "['BBDC3', 'BBDC4'] 1057.7200000000005\n",
      "['BBSE3', 'BRAP4'] 1057.5799999999995\n",
      "['BRFS3', 'BRKM5'] 958.5400000000003\n",
      "['BRML3', 'B3SA3'] 1031.5700000000002\n",
      "['CCRO3', 'CIEL3'] 1200.0499999999995\n",
      "['CMIG4', 'CPFE3'] 850.1499999999999\n",
      "['CPLE6', 'CSAN3'] 1006.2000000000003\n",
      "['CSNA3', 'CYRE3'] 975.3699999999994\n",
      "['ECOR3', 'EGIE3'] 1058.0700000000006\n",
      "['ELET3', 'EMBR3'] 1050.44\n",
      "['ENBR3', 'EQTL3'] 1078.7899999999995\n",
      "2\n",
      "['ABEV3', 'BBAS3'] 893.1999999999998\n",
      "['BBDC3', 'BBDC4'] 1012.5900000000003\n",
      "['BBSE3', 'BRAP4'] 1015.7600000000004\n",
      "['BRFS3', 'BRKM5'] 979.1300000000003\n",
      "['BRML3', 'B3SA3'] 1038.7800000000002\n",
      "['CCRO3', 'CIEL3'] 1038.13\n",
      "['CMIG4', 'CPFE3'] 980.4699999999997\n",
      "['CPLE6', 'CSAN3'] 927.5100000000001\n",
      "['CSNA3', 'CYRE3'] 1028.1899999999996\n",
      "['ECOR3', 'EGIE3'] 1130.1800000000003\n",
      "['ELET3', 'EMBR3'] 984.8300000000002\n",
      "['ENBR3', 'EQTL3'] 1029.8899999999999\n"
     ]
    }
   ],
   "source": [
    "lt = [['ABEV3', 'BBAS3'], ['BBDC3', 'BBDC4'],['BBSE3', 'BRAP4'],['BRFS3', 'BRKM5'], ['BRML3', 'B3SA3'], ['CCRO3', 'CIEL3'], ['CMIG4', 'CPFE3'],['CPLE6', 'CSAN3'], ['CSNA3', 'CYRE3'], ['ECOR3', 'EGIE3'], ['ELET3', 'EMBR3'],['ENBR3', 'EQTL3']]\n",
    "l_zs = [1,1.5,2]\n",
    "for zsl in l_zs:\n",
    "    print(zsl)\n",
    "    for i in lt:\n",
    "        objitsavale = senninha_long_and_short(data,i[0], i[1], 1000,zs_l = zsl)\n",
    "        objitsavale.loop_operador(window_size=45)\n",
    "        print(i, objitsavale.financeiro)"
   ]
  },
  {
   "cell_type": "code",
   "execution_count": null,
   "metadata": {},
   "outputs": [],
   "source": []
  },
  {
   "cell_type": "code",
   "execution_count": null,
   "metadata": {},
   "outputs": [],
   "source": []
  }
 ],
 "metadata": {
  "kernelspec": {
   "display_name": "Python 3",
   "language": "python",
   "name": "python3"
  },
  "language_info": {
   "codemirror_mode": {
    "name": "ipython",
    "version": 3
   },
   "file_extension": ".py",
   "mimetype": "text/x-python",
   "name": "python",
   "nbconvert_exporter": "python",
   "pygments_lexer": "ipython3",
   "version": "3.7.4"
  }
 },
 "nbformat": 4,
 "nbformat_minor": 4
}
