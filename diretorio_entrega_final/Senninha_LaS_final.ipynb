{
 "cells": [
  {
   "cell_type": "code",
   "execution_count": 1,
   "metadata": {},
   "outputs": [],
   "source": [
    "import numpy as np\n",
    "import pandas as pd\n",
    "import statsmodels.api as sm\n",
    "from scipy.stats import zscore\n",
    "import matplotlib.pyplot as plt \n",
    "from statsmodels import regression\n",
    "from statsmodels.tsa.stattools import coint"
   ]
  },
  {
   "cell_type": "code",
   "execution_count": 2,
   "metadata": {},
   "outputs": [],
   "source": [
    "class senninha_long_and_short():\n",
    "    def __init__(self,dados,t1,t2, financeiro_inicial, zs_l):\n",
    "        #temos o par de tickers, os dados históricos de preço, e as variações históricas.\n",
    "        self.zs_critico = zs_l\n",
    "        self.t1, self.t2 = t1,t2\n",
    "        self.dados = dados[['time',t1,t2]]\n",
    "        self.dados_var = dados[[t1,t2]].pct_change()[1:]\n",
    "        self.dados = self.dados[1:]\n",
    "        self.s1, self.s2 = self.dados[self.t1], self.dados[self.t2]\n",
    "        self.s1_var, self.s2_var = self.dados_var[self.t1], self.dados_var[self.t2]\n",
    "        self.financeiro = financeiro_inicial\n",
    "        #variaveis iniciais para tradar pares\n",
    "        self.posicionado = 0\n",
    "        self.compra_s1 = 0\n",
    "        self.venda_s2 = 0\n",
    "        #desempenho ao longo do tempo \n",
    "        self.l_resultado = []\n",
    "        self.l_pct_operacoes = []\n",
    "        self.l_evolucao = []\n",
    "        self.l_dias_carregando = []\n",
    "        self.variavel_contagem_dias = 0\n",
    "        \n",
    "    def calcula_zscore_spread(self,stock1,stock2):\n",
    "        stock1 = sm.add_constant(stock1)\n",
    "        results = sm.OLS(stock2,stock1).fit()\n",
    "        stock1 = stock1[self.t1]\n",
    "        b = results.params[self.t1]\n",
    "        spread = stock2 - (b*stock1)\n",
    "        zs = zscore(spread)[-1]\n",
    "        return zs, b\n",
    "    \n",
    "    def print_resultados(self, tipo, r): #rlong,rshort,result\n",
    "        if tipo == 'entrada':\n",
    "            print(f'entrou | V1 {self.venda_s1:.2f} X {self.v1} | C2 {self.compra_s2:.2f} X {self.v2}')\n",
    "        elif tipo == 'saida':\n",
    "            print(f'saiu   | C1 {self.compra_s1:.2f} X {self.v1} | V2 {self.venda_s2:.2f} X {self.v2}')\n",
    "        elif tipo == 'resultado':\n",
    "            print(f'result | s1 {r[0]:.2f} | s2 {r[1]:.2f} | l/p = {r[2]:.2f}\\n')\n",
    "    \n",
    "    def condicoes_operar(self, zs_atual, cotacao1, cotacao2,indice):\n",
    "        if zs_atual >= self.zs_critico and self.posicionado == 0:\n",
    "            razao = cotacao1/cotacao2\n",
    "            volume = (self.financeiro/2)//cotacao1\n",
    "            self.v1, self.v2 = int(volume), int(razao*volume)\n",
    "            #definiu o numero de ações que comprará de cada\n",
    "            self.venda_s1 = cotacao1*self.v1\n",
    "            self.compra_s2  = cotacao2*self.v2 \n",
    "            self.valor_total_trade = self.venda_s1+self.compra_s2\n",
    "           # self.print_resultados('entrada',r=None)\n",
    "            self.posicionado = 1\n",
    "            self.variavel_contagem_dias = indice\n",
    "        elif zs_atual <= 0.08 and self.posicionado == 1:\n",
    "            self.posicionado = 0    \n",
    "            self.l_dias_carregando.append(indice-self.variavel_contagem_dias)\n",
    "            #encerra posicao\n",
    "            self.compra_s1 = cotacao1*self.v1\n",
    "            self.venda_s2  = cotacao2*self.v2 \n",
    "            #self.print_resultados('saida',r=None)\n",
    "            #resultado\n",
    "            resultado_long  = self.venda_s1 - self.compra_s1\n",
    "            resultado_short = self.venda_s2 - self.compra_s2\n",
    "            resultado = resultado_long + resultado_short\n",
    "            pct_operacao = (resultado/self.valor_total_trade)*100\n",
    "            #resultados ao longo do tempo\n",
    "            self.l_pct_operacoes.append(pct_operacao)\n",
    "            self.l_resultado.append(resultado)\n",
    "            #self.print_resultados('resultado',[resultado_long,resultado_short,resultado])\n",
    "            self.financeiro += resultado\n",
    "            #reseta valor em carteira de cada ação\n",
    "            self.compra_s1, self.venda_s1, self.compra_s2 ,self.venda_s2,  = 0, 0, 0, 0\n",
    "            resultado, resultado_long, resultado_short = 0, 0, 0\n",
    "        self.l_evolucao.append(self.financeiro)\n",
    "\n",
    "    def loop_operador(self, window_size):\n",
    "        c = 0\n",
    "        for index in range(window_size, len(self.s1)):\n",
    "            #stock data in the window range\n",
    "            s1_var_w, s2_var_w = self.s1_var[c:index], self.s2_var[c:index]\n",
    "            preco_s1, preco_s2 = self.s1[self.dados.index == index].values[0], self.s2[self.dados.index == index].values[0]\n",
    "            #calculates the zscore of the spread\n",
    "            resultado_funcao = self.calcula_zscore_spread(s1_var_w, s2_var_w)\n",
    "            zs, beta = resultado_funcao[0], resultado_funcao[1]\n",
    "            self.condicoes_operar(zs_atual=zs, cotacao1=preco_s1, cotacao2=preco_s2,indice=index)   \n",
    "            c+=1"
   ]
  },
  {
   "cell_type": "code",
   "execution_count": 3,
   "metadata": {},
   "outputs": [],
   "source": [
    "dados = pd.read_excel('dados_senninha_ls.xlsx')[2:] #windows\n",
    "\n",
    "new_columns = []\n",
    "for nome in dados.columns.to_list():\n",
    "    new_columns.append(nome[6:])\n",
    "\n",
    "new_columns[0] = 'time'\n",
    "dados.columns = new_columns"
   ]
  },
  {
   "cell_type": "code",
   "execution_count": 93,
   "metadata": {},
   "outputs": [
    {
     "data": {
      "text/html": [
       "<div>\n",
       "<style scoped>\n",
       "    .dataframe tbody tr th:only-of-type {\n",
       "        vertical-align: middle;\n",
       "    }\n",
       "\n",
       "    .dataframe tbody tr th {\n",
       "        vertical-align: top;\n",
       "    }\n",
       "\n",
       "    .dataframe thead th {\n",
       "        text-align: right;\n",
       "    }\n",
       "</style>\n",
       "<table border=\"1\" class=\"dataframe\">\n",
       "  <thead>\n",
       "    <tr style=\"text-align: right;\">\n",
       "      <th></th>\n",
       "      <th>time</th>\n",
       "      <th>IBOV</th>\n",
       "      <th>ABEV3</th>\n",
       "      <th>AZUL4</th>\n",
       "      <th>B3SA3</th>\n",
       "      <th>BBAS3</th>\n",
       "      <th>BBDC3</th>\n",
       "      <th>BBDC4</th>\n",
       "      <th>BBSE3</th>\n",
       "      <th>BEEF3</th>\n",
       "      <th>...</th>\n",
       "      <th>TAEE11</th>\n",
       "      <th>TIMP3</th>\n",
       "      <th>TOTS3</th>\n",
       "      <th>UGPA3</th>\n",
       "      <th>USIM5</th>\n",
       "      <th>VALE3</th>\n",
       "      <th>VIVT4</th>\n",
       "      <th>VVAR3</th>\n",
       "      <th>WEGE3</th>\n",
       "      <th>YDUQ3</th>\n",
       "    </tr>\n",
       "  </thead>\n",
       "  <tbody>\n",
       "    <tr>\n",
       "      <th>47</th>\n",
       "      <td>2016-04-01</td>\n",
       "      <td>50562</td>\n",
       "      <td>16.99</td>\n",
       "      <td>NaN</td>\n",
       "      <td>13.91</td>\n",
       "      <td>16.83</td>\n",
       "      <td>14.92</td>\n",
       "      <td>13.34</td>\n",
       "      <td>20.99</td>\n",
       "      <td>11.06</td>\n",
       "      <td>...</td>\n",
       "      <td>12.83</td>\n",
       "      <td>7.28</td>\n",
       "      <td>8.62</td>\n",
       "      <td>31.54</td>\n",
       "      <td>1.74</td>\n",
       "      <td>14.03</td>\n",
       "      <td>33.98</td>\n",
       "      <td>2.36</td>\n",
       "      <td>10.29</td>\n",
       "      <td>9.50</td>\n",
       "    </tr>\n",
       "    <tr>\n",
       "      <th>48</th>\n",
       "      <td>2016-04-04</td>\n",
       "      <td>48780</td>\n",
       "      <td>16.73</td>\n",
       "      <td>NaN</td>\n",
       "      <td>13.77</td>\n",
       "      <td>15.88</td>\n",
       "      <td>14.54</td>\n",
       "      <td>12.85</td>\n",
       "      <td>20.44</td>\n",
       "      <td>10.55</td>\n",
       "      <td>...</td>\n",
       "      <td>12.88</td>\n",
       "      <td>7.04</td>\n",
       "      <td>8.53</td>\n",
       "      <td>30.87</td>\n",
       "      <td>1.60</td>\n",
       "      <td>13.38</td>\n",
       "      <td>33.02</td>\n",
       "      <td>2.36</td>\n",
       "      <td>10.01</td>\n",
       "      <td>9.20</td>\n",
       "    </tr>\n",
       "    <tr>\n",
       "      <th>49</th>\n",
       "      <td>2016-04-05</td>\n",
       "      <td>49054</td>\n",
       "      <td>16.92</td>\n",
       "      <td>NaN</td>\n",
       "      <td>13.95</td>\n",
       "      <td>15.62</td>\n",
       "      <td>14.55</td>\n",
       "      <td>12.92</td>\n",
       "      <td>20.43</td>\n",
       "      <td>10.55</td>\n",
       "      <td>...</td>\n",
       "      <td>12.79</td>\n",
       "      <td>6.79</td>\n",
       "      <td>8.49</td>\n",
       "      <td>31.35</td>\n",
       "      <td>1.55</td>\n",
       "      <td>13.83</td>\n",
       "      <td>32.45</td>\n",
       "      <td>NaN</td>\n",
       "      <td>9.96</td>\n",
       "      <td>9.26</td>\n",
       "    </tr>\n",
       "    <tr>\n",
       "      <th>50</th>\n",
       "      <td>2016-04-06</td>\n",
       "      <td>48096</td>\n",
       "      <td>16.73</td>\n",
       "      <td>NaN</td>\n",
       "      <td>13.36</td>\n",
       "      <td>15.48</td>\n",
       "      <td>14.13</td>\n",
       "      <td>12.52</td>\n",
       "      <td>20.10</td>\n",
       "      <td>10.47</td>\n",
       "      <td>...</td>\n",
       "      <td>12.74</td>\n",
       "      <td>6.66</td>\n",
       "      <td>8.56</td>\n",
       "      <td>31.67</td>\n",
       "      <td>1.41</td>\n",
       "      <td>13.63</td>\n",
       "      <td>31.61</td>\n",
       "      <td>NaN</td>\n",
       "      <td>10.06</td>\n",
       "      <td>9.30</td>\n",
       "    </tr>\n",
       "    <tr>\n",
       "      <th>51</th>\n",
       "      <td>2016-04-07</td>\n",
       "      <td>48513</td>\n",
       "      <td>16.72</td>\n",
       "      <td>NaN</td>\n",
       "      <td>13.53</td>\n",
       "      <td>15.95</td>\n",
       "      <td>14.30</td>\n",
       "      <td>12.63</td>\n",
       "      <td>20.78</td>\n",
       "      <td>10.21</td>\n",
       "      <td>...</td>\n",
       "      <td>12.77</td>\n",
       "      <td>6.76</td>\n",
       "      <td>8.79</td>\n",
       "      <td>32.00</td>\n",
       "      <td>1.43</td>\n",
       "      <td>13.58</td>\n",
       "      <td>32.22</td>\n",
       "      <td>NaN</td>\n",
       "      <td>9.99</td>\n",
       "      <td>9.28</td>\n",
       "    </tr>\n",
       "    <tr>\n",
       "      <th>...</th>\n",
       "      <td>...</td>\n",
       "      <td>...</td>\n",
       "      <td>...</td>\n",
       "      <td>...</td>\n",
       "      <td>...</td>\n",
       "      <td>...</td>\n",
       "      <td>...</td>\n",
       "      <td>...</td>\n",
       "      <td>...</td>\n",
       "      <td>...</td>\n",
       "      <td>...</td>\n",
       "      <td>...</td>\n",
       "      <td>...</td>\n",
       "      <td>...</td>\n",
       "      <td>...</td>\n",
       "      <td>...</td>\n",
       "      <td>...</td>\n",
       "      <td>...</td>\n",
       "      <td>...</td>\n",
       "      <td>...</td>\n",
       "      <td>...</td>\n",
       "    </tr>\n",
       "    <tr>\n",
       "      <th>970</th>\n",
       "      <td>2019-12-20</td>\n",
       "      <td>115121</td>\n",
       "      <td>18.91</td>\n",
       "      <td>57.00</td>\n",
       "      <td>47.96</td>\n",
       "      <td>50.45</td>\n",
       "      <td>30.09</td>\n",
       "      <td>32.23</td>\n",
       "      <td>34.54</td>\n",
       "      <td>12.08</td>\n",
       "      <td>...</td>\n",
       "      <td>29.52</td>\n",
       "      <td>15.20</td>\n",
       "      <td>22.70</td>\n",
       "      <td>24.30</td>\n",
       "      <td>9.24</td>\n",
       "      <td>53.59</td>\n",
       "      <td>55.25</td>\n",
       "      <td>11.37</td>\n",
       "      <td>33.69</td>\n",
       "      <td>47.23</td>\n",
       "    </tr>\n",
       "    <tr>\n",
       "      <th>971</th>\n",
       "      <td>2019-12-23</td>\n",
       "      <td>115863</td>\n",
       "      <td>18.96</td>\n",
       "      <td>57.60</td>\n",
       "      <td>45.78</td>\n",
       "      <td>51.98</td>\n",
       "      <td>30.70</td>\n",
       "      <td>32.43</td>\n",
       "      <td>34.73</td>\n",
       "      <td>12.07</td>\n",
       "      <td>...</td>\n",
       "      <td>29.71</td>\n",
       "      <td>15.31</td>\n",
       "      <td>22.44</td>\n",
       "      <td>25.01</td>\n",
       "      <td>9.44</td>\n",
       "      <td>53.38</td>\n",
       "      <td>55.74</td>\n",
       "      <td>11.67</td>\n",
       "      <td>33.63</td>\n",
       "      <td>48.09</td>\n",
       "    </tr>\n",
       "    <tr>\n",
       "      <th>972</th>\n",
       "      <td>2019-12-26</td>\n",
       "      <td>117203</td>\n",
       "      <td>19.22</td>\n",
       "      <td>57.07</td>\n",
       "      <td>45.57</td>\n",
       "      <td>52.57</td>\n",
       "      <td>31.02</td>\n",
       "      <td>32.83</td>\n",
       "      <td>34.56</td>\n",
       "      <td>12.64</td>\n",
       "      <td>...</td>\n",
       "      <td>30.05</td>\n",
       "      <td>15.51</td>\n",
       "      <td>22.28</td>\n",
       "      <td>25.28</td>\n",
       "      <td>9.44</td>\n",
       "      <td>53.59</td>\n",
       "      <td>56.23</td>\n",
       "      <td>11.80</td>\n",
       "      <td>34.68</td>\n",
       "      <td>47.70</td>\n",
       "    </tr>\n",
       "    <tr>\n",
       "      <th>973</th>\n",
       "      <td>2019-12-27</td>\n",
       "      <td>116534</td>\n",
       "      <td>19.16</td>\n",
       "      <td>57.80</td>\n",
       "      <td>43.19</td>\n",
       "      <td>52.34</td>\n",
       "      <td>30.82</td>\n",
       "      <td>32.71</td>\n",
       "      <td>34.63</td>\n",
       "      <td>12.74</td>\n",
       "      <td>...</td>\n",
       "      <td>29.97</td>\n",
       "      <td>15.51</td>\n",
       "      <td>21.56</td>\n",
       "      <td>25.40</td>\n",
       "      <td>9.34</td>\n",
       "      <td>53.60</td>\n",
       "      <td>55.84</td>\n",
       "      <td>11.50</td>\n",
       "      <td>35.17</td>\n",
       "      <td>47.90</td>\n",
       "    </tr>\n",
       "    <tr>\n",
       "      <th>974</th>\n",
       "      <td>2019-12-30</td>\n",
       "      <td>115645</td>\n",
       "      <td>18.67</td>\n",
       "      <td>58.28</td>\n",
       "      <td>41.97</td>\n",
       "      <td>52.19</td>\n",
       "      <td>30.77</td>\n",
       "      <td>32.66</td>\n",
       "      <td>34.50</td>\n",
       "      <td>12.84</td>\n",
       "      <td>...</td>\n",
       "      <td>30.22</td>\n",
       "      <td>15.59</td>\n",
       "      <td>21.47</td>\n",
       "      <td>25.16</td>\n",
       "      <td>9.42</td>\n",
       "      <td>53.30</td>\n",
       "      <td>55.36</td>\n",
       "      <td>11.17</td>\n",
       "      <td>34.49</td>\n",
       "      <td>46.62</td>\n",
       "    </tr>\n",
       "  </tbody>\n",
       "</table>\n",
       "<p>928 rows × 76 columns</p>\n",
       "</div>"
      ],
      "text/plain": [
       "          time    IBOV  ABEV3  AZUL4  B3SA3  BBAS3  BBDC3  BBDC4  BBSE3  \\\n",
       "47  2016-04-01   50562  16.99    NaN  13.91  16.83  14.92  13.34  20.99   \n",
       "48  2016-04-04   48780  16.73    NaN  13.77  15.88  14.54  12.85  20.44   \n",
       "49  2016-04-05   49054  16.92    NaN  13.95  15.62  14.55  12.92  20.43   \n",
       "50  2016-04-06   48096  16.73    NaN  13.36  15.48  14.13  12.52  20.10   \n",
       "51  2016-04-07   48513  16.72    NaN  13.53  15.95  14.30  12.63  20.78   \n",
       "..         ...     ...    ...    ...    ...    ...    ...    ...    ...   \n",
       "970 2019-12-20  115121  18.91  57.00  47.96  50.45  30.09  32.23  34.54   \n",
       "971 2019-12-23  115863  18.96  57.60  45.78  51.98  30.70  32.43  34.73   \n",
       "972 2019-12-26  117203  19.22  57.07  45.57  52.57  31.02  32.83  34.56   \n",
       "973 2019-12-27  116534  19.16  57.80  43.19  52.34  30.82  32.71  34.63   \n",
       "974 2019-12-30  115645  18.67  58.28  41.97  52.19  30.77  32.66  34.50   \n",
       "\n",
       "     BEEF3  ...  TAEE11  TIMP3  TOTS3  UGPA3  USIM5  VALE3  VIVT4  VVAR3  \\\n",
       "47   11.06  ...   12.83   7.28   8.62  31.54   1.74  14.03  33.98   2.36   \n",
       "48   10.55  ...   12.88   7.04   8.53  30.87   1.60  13.38  33.02   2.36   \n",
       "49   10.55  ...   12.79   6.79   8.49  31.35   1.55  13.83  32.45    NaN   \n",
       "50   10.47  ...   12.74   6.66   8.56  31.67   1.41  13.63  31.61    NaN   \n",
       "51   10.21  ...   12.77   6.76   8.79  32.00   1.43  13.58  32.22    NaN   \n",
       "..     ...  ...     ...    ...    ...    ...    ...    ...    ...    ...   \n",
       "970  12.08  ...   29.52  15.20  22.70  24.30   9.24  53.59  55.25  11.37   \n",
       "971  12.07  ...   29.71  15.31  22.44  25.01   9.44  53.38  55.74  11.67   \n",
       "972  12.64  ...   30.05  15.51  22.28  25.28   9.44  53.59  56.23  11.80   \n",
       "973  12.74  ...   29.97  15.51  21.56  25.40   9.34  53.60  55.84  11.50   \n",
       "974  12.84  ...   30.22  15.59  21.47  25.16   9.42  53.30  55.36  11.17   \n",
       "\n",
       "     WEGE3  YDUQ3  \n",
       "47   10.29   9.50  \n",
       "48   10.01   9.20  \n",
       "49    9.96   9.26  \n",
       "50   10.06   9.30  \n",
       "51    9.99   9.28  \n",
       "..     ...    ...  \n",
       "970  33.69  47.23  \n",
       "971  33.63  48.09  \n",
       "972  34.68  47.70  \n",
       "973  35.17  47.90  \n",
       "974  34.49  46.62  \n",
       "\n",
       "[928 rows x 76 columns]"
      ]
     },
     "execution_count": 93,
     "metadata": {},
     "output_type": "execute_result"
    }
   ],
   "source": [
    "dados[45:]"
   ]
  },
  {
   "cell_type": "code",
   "execution_count": 4,
   "metadata": {},
   "outputs": [],
   "source": [
    "dic_dados_pares = {}"
   ]
  },
  {
   "cell_type": "code",
   "execution_count": 5,
   "metadata": {},
   "outputs": [],
   "source": [
    "zsl = 1.1\n",
    "b_pairs = [['CSNA3','MRFG3'],['BRAP4','MRFG3'],['CMIG4','USIM5'],['HGTX3','USIM5'],['CMIG4','MRVE3'],['QUAL3','USIM5'],['BRKM5','MRFG3'],['CMIG4','MRFG3'],['MULT3','USIM5'],['GGBR4','MRFG3'],['GOAU4','MRFG3'],['ABEV3','MRFG3'],['JBSS3','MRFG3'],['RADL3','USIM5'],['ITSA4','MRFG3'],['EQTL3','MRFG3'],['EQTL3','JBSS3'],['BRML3','JBSS3'],['BRAP4','IGTA3'],['GOAU4','JBSS3'],['BRML3','CSNA3'],['ITSA4','USIM5'],['LREN3','USIM5'],['BRKM5','USIM5'],['CYRE3','JBSS3'],['ITSA4','JBSS3'],['BBDC4','JBSS3'],['PETR4','USIM5'],['LREN3','MRVE3'],['BRFS3','CSNA3'],['HGTX3','SUZB3'],['BTOW3','USIM5'],['PETR3','SUZB3'], ['BTOW3','JBSS3'],['BBAS3','CSNA3'],['HGTX3','PETR3'],['BBDC4','CSNA3'],['CMIG4','RAIL3'],['EMBR3','SUZB3'],['HGTX3','RAIL3']]\n",
    "for i in b_pairs:\n",
    "    dic_dados_pares[str(i)] = senninha_long_and_short(dados,i[0], i[1], 10000,zs_l = zsl)\n",
    "    dic_dados_pares[str(i)].loop_operador(window_size=45)"
   ]
  },
  {
   "cell_type": "code",
   "execution_count": 6,
   "metadata": {},
   "outputs": [
    {
     "name": "stdout",
     "output_type": "stream",
     "text": [
      "Alguns resultados sobre qual a quantidade financeira final de determinados pares que começaram com R$10k:\n",
      "['CSNA3', 'MRFG3']: 23577.24\n",
      "['CMIG4', 'USIM5']: 26327.34\n",
      "['GOAU4', 'MRFG3']: 20252.70\n",
      "['BRML3', 'JBSS3']: 18897.54\n",
      "['BRKM5', 'USIM5']: 36058.98\n",
      "['LREN3', 'MRVE3']: 16083.34\n",
      "['BTOW3', 'USIM5']: 37251.33\n",
      "['PETR3', 'SUZB3']: 36399.00\n",
      "['BBAS3', 'CSNA3']: 30556.61\n"
     ]
    }
   ],
   "source": [
    "import random\n",
    "print('Alguns resultados sobre qual a quantidade financeira final de determinados pares que começaram com R$10k:')\n",
    "for k,v in dic_dados_pares.items():\n",
    "    ran = random.randint(0,4)\n",
    "    if ran == 1:\n",
    "        print(f'{k}: {v.financeiro:.2f}')"
   ]
  },
  {
   "cell_type": "code",
   "execution_count": 7,
   "metadata": {},
   "outputs": [],
   "source": [
    "tamanho = len(dic_dados_pares[\"['BRML3', 'CSNA3']\"].l_evolucao)\n",
    "l_carteira_total = [0]*tamanho\n",
    "pct_senninha_tempo = [0]\n",
    "\n",
    "l_carteira_evolucao_pct = [1]\n",
    "for i in range(tamanho):\n",
    "    for k,v in dic_dados_pares.items():\n",
    "        l_carteira_total[i] += v.l_evolucao[i]\n",
    "        \n",
    "for i in range(1,len(l_carteira_total)):\n",
    "    pct = ((l_carteira_total[i]-l_carteira_total[i-1])/l_carteira_total[i-1])\n",
    "    pct_senninha_tempo.append(pct)\n",
    "    l_carteira_evolucao_pct.append((l_carteira_evolucao_pct[i-1]*(1+pct)))"
   ]
  },
  {
   "cell_type": "code",
   "execution_count": 8,
   "metadata": {},
   "outputs": [],
   "source": [
    "l_dias = dados['time'].to_list()\n",
    "var_ibov = (dados['IBOV'].pct_change())[1:].to_list()[45:]\n",
    "ibov_acumulado = []\n",
    "jj = 1\n",
    "for i in range(len(var_ibov)):\n",
    "    jj *= (1+var_ibov[i])\n",
    "    ibov_acumulado.append(jj)"
   ]
  },
  {
   "cell_type": "code",
   "execution_count": 34,
   "metadata": {
    "scrolled": true
   },
   "outputs": [
    {
     "name": "stderr",
     "output_type": "stream",
     "text": [
      "<ipython-input-34-0117eb77dbc6>:9: UserWarning: FixedFormatter should only be used together with FixedLocator\n",
      "  plt.gca().set_yticklabels(['{:.0f}%'.format((x*100)-100) for x in plt.gca().get_yticks()],fontsize=18)\n"
     ]
    },
    {
     "data": {
      "image/png": "[encoded data removed]",
      "text/plain": [
       "<Figure size 1224x648 with 1 Axes>"
      ]
     },
     "metadata": {
      "needs_background": "light"
     },
     "output_type": "display_data"
    }
   ],
   "source": [
    "plt.labelsize = 16\n",
    "fig = plt.figure(figsize=(17, 9))\n",
    "plt.plot(l_dias[46:],l_carteira_evolucao_pct,color='b',linewidth=2, label='Senninha Long & Short')\n",
    "plt.plot(l_dias[46:],ibov_acumulado,color='g', label='IBOV')\n",
    "plt.title('Rentabilidade Senninha x Ibovespa',fontsize=15)\n",
    "plt.xticks(size = 18)\n",
    "# plt.ylabel('Evolução',fontsize=18)\n",
    "plt.legend(loc='best', frameon=False, fontsize=18)\n",
    "plt.gca().set_yticklabels(['{:.0f}%'.format((x*100)-100) for x in plt.gca().get_yticks()],fontsize=18)\n",
    "plt.savefig('desempenohsenninha.png', dpi=300)\n",
    "plt.show()"
   ]
  },
  {
   "cell_type": "code",
   "execution_count": 152,
   "metadata": {},
   "outputs": [
    {
     "name": "stdout",
     "output_type": "stream",
     "text": [
      "Duração do período 3 anos, 8 meses, 30 dias\n",
      "\n",
      "Numero total de trades no período: 3739 operações.\n",
      "Média  anual de trades no período: 983  operações.\n",
      "Média mensal de trades no período: 81   operações.\n"
     ]
    }
   ],
   "source": [
    "total_dias_periodo = 1368 #esse inclui todos os dias, inclusive final de semanas e feriados\n",
    "\n",
    "num_trades = []\n",
    "dur_trades = []\n",
    "for k,v in dic_dados_pares.items():\n",
    "    num_trades.append(len(v.l_dias_carregando))\n",
    "    dur_trades.append(v.l_dias_carregando)\n",
    "    \n",
    "mu_trades_mes = (np.sum(num_trades))/(total_dias_periodo/30)\n",
    "print('Duração do período 3 anos, 8 meses, 30 dias\\n')\n",
    "print(f'Numero total de trades no período: {np.sum(num_trades)} operações.')\n",
    "print(f'Média  anual de trades no período: {int(mu_trades_mes*12)}  operações.')\n",
    "print(f'Média mensal de trades no período: {int(mu_trades_mes)}   operações.')\n"
   ]
  },
  {
   "cell_type": "code",
   "execution_count": 11,
   "metadata": {},
   "outputs": [
    {
     "name": "stdout",
     "output_type": "stream",
     "text": [
      "Holding médio: 1.73 dias.\n"
     ]
    }
   ],
   "source": [
    "media_holding = []\n",
    "for i in dur_trades:\n",
    "    media_holding.append(np.mean(i))\n",
    "\n",
    "holding_series = pd.Series(media_holding)\n",
    "print(f'Holding médio: {np.mean(media_holding):.2f} dias.')"
   ]
  },
  {
   "cell_type": "code",
   "execution_count": 12,
   "metadata": {
    "scrolled": true
   },
   "outputs": [
    {
     "name": "stdout",
     "output_type": "stream",
     "text": [
      "Estatísticas da médias de holding de todos pares:\n",
      "\n",
      "count    40.000000\n",
      "mean      1.730218\n",
      "std       0.085284\n",
      "min       1.570000\n",
      "25%       1.662191\n",
      "50%       1.720465\n",
      "75%       1.788278\n",
      "max       1.942529\n",
      "dtype: float64\n"
     ]
    }
   ],
   "source": [
    "print('Estatísticas da médias de holding de todos pares:\\n')\n",
    "print(holding_series.describe())"
   ]
  },
  {
   "cell_type": "code",
   "execution_count": 179,
   "metadata": {},
   "outputs": [
    {
     "name": "stdout",
     "output_type": "stream",
     "text": [
      "Describe das variações Ibovespa em %:\n",
      "\n",
      "count    927.000000\n",
      "mean       0.097737\n",
      "std        1.298437\n",
      "min       -8.799230\n",
      "25%       -0.647332\n",
      "50%        0.123276\n",
      "75%        0.895933\n",
      "max        4.569860\n",
      "dtype: float64 \n",
      "\n",
      "Describe das variações Senninha em %:\n",
      "\n",
      "count    927.000000\n",
      "mean       0.094658\n",
      "std        0.355258\n",
      "min       -1.314726\n",
      "25%        0.000000\n",
      "50%        0.000000\n",
      "75%        0.088030\n",
      "max        4.168799\n",
      "dtype: float64\n"
     ]
    }
   ],
   "source": [
    "ibov_series, senninha_series = pd.Series(var_ibov)*100, pd.Series(pct_senninha_tempo)*100\n",
    "print(f'Describe das variações Ibovespa em %:\\n\\n{ibov_series.describe()} \\n')\n",
    "print(f'Describe das variações Senninha em %:\\n\\n{senninha_series.describe()}')"
   ]
  },
  {
   "cell_type": "code",
   "execution_count": 178,
   "metadata": {},
   "outputs": [
    {
     "name": "stdout",
     "output_type": "stream",
     "text": [
      "Duração do período 3 anos, 8 meses, 30 dias\n",
      "\n",
      "Retorno anual  Senninha no período: 9.18%\n",
      "Retorno mensal Senninha no período: 0.7345%\n",
      "\n",
      "Retorno anual  Ibov no período: 6.96%\n",
      "Retorno mensal Ibov no período: 0.5626%\n",
      "\n"
     ]
    }
   ],
   "source": [
    "def c_retorno(r_total):\n",
    "    total = r_total[-1] - 1\n",
    "    mensal = total**(1/45)\n",
    "    anual = ((mensal)**12 - 1)*100\n",
    "    mensal = (mensal-1)*100\n",
    "    return anual,mensal\n",
    "print('Duração do período 3 anos, 8 meses, 30 dias\\n')\n",
    "print(f'Retorno anual  Senninha no período: {c_retorno(l_carteira_evolucao_pct)[0]:.2f}%')\n",
    "print(f'Retorno mensal Senninha no período: {c_retorno(l_carteira_evolucao_pct)[1]:.4f}%\\n')\n",
    "\n",
    "print(f'Retorno anual  Ibov no período: {c_retorno(ibov_acumulado)[0]:.2f}%')\n",
    "print(f'Retorno mensal Ibov no período: {c_retorno(ibov_acumulado)[1]:.4f}%\\n')\n"
   ]
  },
  {
   "cell_type": "code",
   "execution_count": 177,
   "metadata": {},
   "outputs": [
    {
     "name": "stdout",
     "output_type": "stream",
     "text": [
      "Maior queda em um dia Senninha: -1.31 % \n",
      "Maior queda em um dia Ibovespa: -8.80 %\n",
      "\n",
      "Maior valorização em um dia Senninha: 4.17 %\n",
      "Maior valorização em um dia Ibovespa: 4.57 %\n",
      "\n",
      "Variação média em um dia Senninha: 0.095 %, desvio padrão: 0.36 %\n",
      "Variação média em um dia Ibovespa: 0.098 %, desvio padrão: 1.30 %\n"
     ]
    }
   ],
   "source": [
    "print(f'Maior queda em um dia Senninha: {senninha_series.min():.2f} % ')\n",
    "print(f'Maior queda em um dia Ibovespa: {ibov_series.min():.2f} %\\n')\n",
    "\n",
    "print(f'Maior valorização em um dia Senninha: {senninha_series.max():.2f} %')\n",
    "print(f'Maior valorização em um dia Ibovespa: {ibov_series.max():.2f} %\\n')\n",
    "\n",
    "print(f'Variação média em um dia Senninha: {senninha_series.mean():.3f} %, desvio padrão: {senninha_series.std():.2f} %')\n",
    "print(f'Variação média em um dia Ibovespa: {ibov_series.mean():.3f} %, desvio padrão: {ibov_series.std():.2f} %')\n"
   ]
  },
  {
   "cell_type": "code",
   "execution_count": 14,
   "metadata": {},
   "outputs": [
    {
     "name": "stdout",
     "output_type": "stream",
     "text": [
      "Covariância entre IBOV e Senninha: 0.00000156\n"
     ]
    }
   ],
   "source": [
    "covariance = np.cov(var_ibov,pct_senninha_tempo)[1][0]\n",
    "print(f'Covariância entre IBOV e Senninha: {covariance:.8f}')"
   ]
  },
  {
   "cell_type": "code",
   "execution_count": 15,
   "metadata": {},
   "outputs": [
    {
     "name": "stdout",
     "output_type": "stream",
     "text": [
      "0.00000 -> Ibov e Senninha não são cointegrados\n"
     ]
    }
   ],
   "source": [
    "import statsmodels.tsa.stattools as ts \n",
    "result=ts.coint(var_ibov, pct_senninha_tempo)[1]\n",
    "if result <= 0.05:\n",
    "    print(f'{result:.5f} -> Ibov e Senninha não são cointegrados')"
   ]
  },
  {
   "cell_type": "code",
   "execution_count": 88,
   "metadata": {},
   "outputs": [
    {
     "name": "stdout",
     "output_type": "stream",
     "text": [
      "Financeiro de alguns pares ao longo do tempo com posição inicial de R$10k:\n"
     ]
    },
    {
     "data": {
      "image/png": "[encoded data removed]",
      "text/plain": [
       "<Figure size 720x3600 with 3 Axes>"
      ]
     },
     "metadata": {
      "needs_background": "light"
     },
     "output_type": "display_data"
    }
   ],
   "source": [
    "fig = plt.figure(figsize=(10, 50))\n",
    "plt.subplots_adjust(left=None, bottom=0, right=None, top=None, wspace=None, hspace=.5)\n",
    "contador1 = 1\n",
    "print('Financeiro de alguns pares ao longo do tempo com posição inicial de R$10k:')\n",
    "\n",
    "for k,v in dic_dados_pares.items():\n",
    "    ran = random.randint(0,8)\n",
    "    if ran == 1 and contador1 <= 3:\n",
    "        plt.subplot(10, 1, contador1)\n",
    "        plt.title('Desempenho financeiro de '+ k, fontsize=12)\n",
    "#         plt.xlabel('Dias')\n",
    "        plt.ylabel('R$', fontsize=12)\n",
    "        plt.xticks(size = 12)\n",
    "        plt.yticks(size = 12)\n",
    "\n",
    "        plt.plot(l_dias[46:],v.l_evolucao, label=k)\n",
    "        plt.legend(loc='best', frameon=True, fontsize=12)\n",
    "        contador1 += 1\n",
    "        \n"
   ]
  },
  {
   "cell_type": "code",
   "execution_count": 89,
   "metadata": {},
   "outputs": [
    {
     "name": "stdout",
     "output_type": "stream",
     "text": [
      "2.3900000500000016\n",
      "2.2871919623432624\n"
     ]
    }
   ],
   "source": [
    "print(l_carteira_evolucao_pct[-1])\n",
    "print(ibov_acumulado[-1])"
   ]
  },
  {
   "cell_type": "code",
   "execution_count": 100,
   "metadata": {},
   "outputs": [
    {
     "data": {
      "text/plain": [
       "1.3687564380080417"
      ]
     },
     "execution_count": 100,
     "metadata": {},
     "output_type": "execute_result"
    }
   ],
   "source": [
    "(1.007)**45"
   ]
  },
  {
   "cell_type": "code",
   "execution_count": 131,
   "metadata": {},
   "outputs": [
    {
     "data": {
      "text/plain": [
       "0.005626057649406713"
      ]
     },
     "execution_count": 131,
     "metadata": {},
     "output_type": "execute_result"
    }
   ],
   "source": [
    "(1.2871919623432624)**(1/45) - 1"
   ]
  },
  {
   "cell_type": "code",
   "execution_count": 133,
   "metadata": {},
   "outputs": [
    {
     "data": {
      "text/plain": [
       "6.964143621109531"
      ]
     },
     "execution_count": 133,
     "metadata": {},
     "output_type": "execute_result"
    }
   ],
   "source": [
    "((1.005626057649406713)**(12) -1)*100"
   ]
  },
  {
   "cell_type": "code",
   "execution_count": null,
   "metadata": {},
   "outputs": [],
   "source": []
  },
  {
   "cell_type": "code",
   "execution_count": null,
   "metadata": {},
   "outputs": [],
   "source": []
  }
 ],
 "metadata": {
  "kernelspec": {
   "display_name": "Python 3",
   "language": "python",
   "name": "python3"
  },
  "language_info": {
   "codemirror_mode": {
    "name": "ipython",
    "version": 3
   },
   "file_extension": ".py",
   "mimetype": "text/x-python",
   "name": "python",
   "nbconvert_exporter": "python",
   "pygments_lexer": "ipython3",
   "version": "3.8.5"
  }
 },
 "nbformat": 4,
 "nbformat_minor": 4
}
