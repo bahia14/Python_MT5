{
 "cells": [
  {
   "cell_type": "code",
   "execution_count": 144,
   "metadata": {},
   "outputs": [],
   "source": [
    "import pandas as pd\n",
    "import numpy as np \n",
    "import matplotlib.pyplot as plt"
   ]
  },
  {
   "cell_type": "code",
   "execution_count": 145,
   "metadata": {},
   "outputs": [],
   "source": [
    "data = pd.read_excel('_cotacoes_completa_diario.xlsx')\n",
    "filter_col = [col for col in data if col.startswith('close')]\n",
    "dados = data[filter_col].copy()\n",
    "rsi_period = 14\n",
    "l_name = []\n",
    "banana = dados.copy()\n",
    "for i in dados:\n",
    "    a = str(i).split()[1]\n",
    "    chg = dados[i].diff(1) #variação em 1 vela\n",
    "    gain = chg.mask(chg<0,0) #pega somente as changes positivas\n",
    "    loss = chg.mask(chg>0,0) #pega somente as changes negativas\n",
    "#     dados['gain'] = gain\n",
    "#     dados['loss'] = loss\n",
    "    avg_gain = gain.ewm(com = rsi_period - 1, min_periods = rsi_period).mean() #exponential weighted function\n",
    "    avg_loss = loss.ewm(com = rsi_period - 1, min_periods = rsi_period).mean()\n",
    "    rs = abs(avg_gain/avg_loss)\n",
    "    rsi = 100-(100/(1+rs))\n",
    "    dados['RSI '+a] = rsi"
   ]
  },
  {
   "cell_type": "code",
   "execution_count": 146,
   "metadata": {},
   "outputs": [],
   "source": [
    "\"\"\"\n",
    "cotacoes = dados[rsi_ticker]\n",
    "opera(cotacoes)\n",
    "\"\"\"\n",
    "def opera(dados_rsiticker, gain):\n",
    "    dic[_ticker] = {}\n",
    "    dic[_ticker]['Qnt Trades'] = 0\n",
    "    dic[_ticker]['Resultado'] = 0\n",
    "    dic[_ticker]['Periodo Carregando'] = []\n",
    "\n",
    "    posicao = 0 #vendido/neutro/comprado\n",
    "    resultado = 0 \n",
    "    preco_venda = 0\n",
    "    carteira = 0\n",
    "    _carteira = 0 #carteira provisória pra evitar bug\n",
    "    dias_carregando = 0\n",
    "\n",
    "    for i in dados_rsiticker.index:\n",
    "        rsi = dados_rsiticker[dados_rsiticker.index == i].values[0]\n",
    "        preco_acao = dados[ticker][dados[ticker].index == i].values[0]\n",
    "        #comprar\n",
    "        \n",
    "        if rsi >= 70:\n",
    "            if posicao == 0: #só compra se estiver neutro\n",
    "                posicao -=1 #agora está comprado em 1\n",
    "                preco_venda = preco_acao #salva o preço de compra\n",
    "                _carteira += preco_acao #desconta na carteira o valor da ação\n",
    "                 #print(f'comprou {a} a: {preco_compra}')     \n",
    "                dias_carregando = i\n",
    "\n",
    "        #zerar\n",
    "        elif preco_venda - preco_acao >= gain*preco_venda and posicao == -1:\n",
    "            #se tiver comprado e lucro de 4%\n",
    "            _carteira -= preco_acao #credita o valor da ação vendida\n",
    "            posicao += 1\n",
    "            dic[_ticker]['Qnt Trades'] += 1\n",
    "            carteira = _carteira\n",
    "            dic[_ticker]['Periodo Carregando'].append(i-dias_carregando)\n",
    "            dias_carregando = 0 \n",
    "\n",
    "    dic[_ticker]['Resultado'] = carteira\n",
    "    return dic  "
   ]
  },
  {
   "cell_type": "code",
   "execution_count": 154,
   "metadata": {},
   "outputs": [],
   "source": [
    "doc = {}\n",
    "l = [.005,.01,.03]\n",
    "#posicao 1 - comprado,\n",
    "#0 - neutro, \n",
    "#(-1) - vendido\n",
    "\n",
    "#seleciona os tickers com 'Close'\n",
    "for pct in l:\n",
    "    valor_carteira = 0\n",
    "    dic = {}\n",
    "    for ticker in dados.iloc[:,1:54]:\n",
    "        _ticker = (ticker.split()[1])\n",
    "        rsi_ticker = ('RSI '+_ticker)\n",
    "        cotacoes = dados[rsi_ticker]        \n",
    "        opera(cotacoes,pct) #executa função para compra e venda para cada acao\n",
    "        doc[str(pct)] = dic"
   ]
  },
  {
   "cell_type": "code",
   "execution_count": 155,
   "metadata": {},
   "outputs": [],
   "source": [
    "#deixa no formato para saber o resultado - quantidade/financeiro\n",
    "total_operacoes = {}\n",
    "lista_operacoes = []\n",
    "lista_resultados = []\n",
    "total_resultado = {}\n",
    "lista_tempo = []\n",
    "total_tempo = {}\n",
    "for k,v in doc.items():\n",
    "    for a,b in v.items():\n",
    "        lista_operacoes.append(b['Qnt Trades'])\n",
    "        lista_resultados.append(b['Resultado'])\n",
    "        for temp in b['Periodo Carregando']:\n",
    "            lista_tempo.append(temp)\n",
    "        \n",
    "    total_operacoes[str(k)] = lista_operacoes\n",
    "    total_resultado[str(k)] = lista_resultados\n",
    "    total_tempo[str(k)] = lista_tempo\n",
    "    #reseta listas\n",
    "    lista_operacoes = []\n",
    "    lista_resultados = []\n",
    "    lista_tempo = []\n"
   ]
  },
  {
   "cell_type": "code",
   "execution_count": 202,
   "metadata": {},
   "outputs": [
    {
     "name": "stdout",
     "output_type": "stream",
     "text": [
      "Resumo trades para pct: 0.005\n",
      "sum: 679.00 mean: 12.81 desvio padrao: 7.30\n",
      "\n",
      "Resumo trades para pct: 0.01\n",
      "sum: 606.00 mean: 11.43 desvio padrao: 6.38\n",
      "\n",
      "Resumo trades para pct: 0.03\n",
      "sum: 352.00 mean: 6.64 desvio padrao: 3.98\n",
      "\n"
     ]
    }
   ],
   "source": [
    "for k,v in total_operacoes.items():\n",
    "    s = np.sum(v)\n",
    "    m = np.mean(v)\n",
    "    std = np.std(v)\n",
    "    print(f'Resumo trades para pct: {k}')\n",
    "    print(f'sum: {s:.2f} mean: {m:.2f} desvio padrao: {std:.2f}\\n')"
   ]
  },
  {
   "cell_type": "code",
   "execution_count": 157,
   "metadata": {},
   "outputs": [
    {
     "name": "stdout",
     "output_type": "stream",
     "text": [
      "Resumo trades para pct: 0.005 (volume de 1 ação)\n",
      "sum: $202.04 mean: $3.81 desvio padrao: $3.09\n",
      "\n",
      "Resumo trades para pct: 0.01 (volume de 1 ação)\n",
      "sum: $213.56 mean: $4.03 desvio padrao: $3.21\n",
      "\n",
      "Resumo trades para pct: 0.03 (volume de 1 ação)\n",
      "sum: $205.66 mean: $3.88 desvio padrao: $3.24\n",
      "\n"
     ]
    }
   ],
   "source": [
    "for k,v in total_resultado.items():\n",
    "    s = np.sum(v)\n",
    "    m = np.mean(v)\n",
    "    std = np.std(v)\n",
    "    print(f'Resumo trades para pct: {k} (volume de 1 ação)')\n",
    "    print(f'sum: ${s:.2f} mean: ${m:.2f} desvio padrao: ${std:.2f}\\n')"
   ]
  },
  {
   "cell_type": "code",
   "execution_count": 158,
   "metadata": {},
   "outputs": [
    {
     "name": "stdout",
     "output_type": "stream",
     "text": [
      "Resumo trades para pct: 0.005 (volume de 1 ação)\n",
      "Sum: 23725.00 dias  | Mean: 34.94 dias | Desvio Padrao: 152.10 dias\n",
      "\n",
      "Resumo trades para pct: 0.01 (volume de 1 ação)\n",
      "Sum: 25458.00 dias  | Mean: 42.01 dias | Desvio Padrao: 164.48 dias\n",
      "\n",
      "Resumo trades para pct: 0.03 (volume de 1 ação)\n",
      "Sum: 27961.00 dias  | Mean: 79.43 dias | Desvio Padrao: 230.71 dias\n",
      "\n"
     ]
    }
   ],
   "source": [
    "for k,v in total_tempo.items():\n",
    "    s = np.sum(v)\n",
    "    m = np.mean(v)\n",
    "    std = np.std(v)\n",
    "    print(f'Resumo trades para pct: {k} (volume de 1 ação)')\n",
    "    print(f'Sum: {s:.2f} dias  | Mean: {m:.2f} dias | Desvio Padrao: {std:.2f} dias\\n')"
   ]
  },
  {
   "cell_type": "markdown",
   "metadata": {},
   "source": [
    "Resumo trades para pct: 0.05\n",
    "sum: 266.00 mean: 5.02 desvio padrao: 3.12\n",
    "\n",
    "Resumo trades para pct: 0.15\n",
    "sum: 113.00 mean: 2.13 desvio padrao: 1.93\n",
    "\n",
    "Resumo trades para pct: 0.3\n",
    "sum: 55.00 mean: 1.04 desvio padrao: 1.32"
   ]
  },
  {
   "cell_type": "markdown",
   "metadata": {},
   "source": [
    "Resumo trades para pct: 0.05 (volume de 1 ação)\n",
    "Sum: 27951.00 dias  | Mean: 105.08 dias | Desvio Padrao: 264.29 dias\n",
    "\n",
    "Resumo trades para pct: 0.15 (volume de 1 ação)\n",
    "Sum: 27145.00 dias  | Mean: 240.22 dias | Desvio Padrao: 400.03 dias\n",
    "\n",
    "Resumo trades para pct: 0.3 (volume de 1 ação)\n",
    "Sum: 21413.00 dias  | Mean: 389.33 dias | Desvio Padrao: 461.01 dias"
   ]
  },
  {
   "cell_type": "markdown",
   "metadata": {},
   "source": [
    "Resumo trades para pct: 0.05 (volume de 1 ação)\n",
    "sum: $208.75 mean: $3.94 desvio padrao: $3.35\n",
    "\n",
    "Resumo trades para pct: 0.15 (volume de 1 ação)\n",
    "sum: $223.61 mean: $4.22 desvio padrao: $5.01\n",
    "\n",
    "Resumo trades para pct: 0.3 (volume de 1 ação)\n",
    "sum: $227.37 mean: $4.29 desvio padrao: $6.62"
   ]
  },
  {
   "cell_type": "code",
   "execution_count": 236,
   "metadata": {},
   "outputs": [
    {
     "data": {
      "image/png": "[encoded data removed]",
      "text/plain": [
       "<Figure size 720x1440 with 3 Axes>"
      ]
     },
     "metadata": {
      "needs_background": "light"
     },
     "output_type": "display_data"
    }
   ],
   "source": [
    "import matplotlib\n",
    "fig = plt.figure(figsize=(10, 20))\n",
    "contador =1\n",
    "\n",
    "for k,v in total_operacoes.items():\n",
    "    matplotlib.pyplot.subplots_adjust(left=None, bottom=None, right=None, top=None, wspace=None, hspace=.5)\n",
    "    plt.subplot(5, 2, contador)\n",
    "    contador +=1\n",
    "    plt.title((\"Quantidade de operações: \"+k))\n",
    "    plt.hist(v,density=True,bins=7)\n",
    "        \n",
    "plt.show()"
   ]
  },
  {
   "cell_type": "code",
   "execution_count": 248,
   "metadata": {},
   "outputs": [
    {
     "data": {
      "image/png": "[encoded data removed]",
      "text/plain": [
       "<Figure size 720x1440 with 3 Axes>"
      ]
     },
     "metadata": {
      "needs_background": "light"
     },
     "output_type": "display_data"
    }
   ],
   "source": [
    "fig = plt.figure(figsize=(10, 20))\n",
    "contador =1\n",
    "for k,v in total_resultado.items():\n",
    "    matplotlib.pyplot.subplots_adjust(hspace=.5)\n",
    "    plt.subplot(5, 2, contador)\n",
    "    contador +=1\n",
    "    plt.title((\"Resultado financeiro: \"+k))\n",
    "    plt.hist(v,density=True,bins=20)"
   ]
  },
  {
   "cell_type": "code",
   "execution_count": 263,
   "metadata": {},
   "outputs": [
    {
     "name": "stdout",
     "output_type": "stream",
     "text": [
      "                 0\n",
      "count   679.000000\n",
      "mean     34.941090\n",
      "std     152.216745\n",
      "min       1.000000\n",
      "25%       1.000000\n",
      "50%       2.000000\n",
      "75%       7.000000\n",
      "max    1877.000000\n",
      "                 0\n",
      "count   606.000000\n",
      "mean     42.009901\n",
      "std     164.612261\n",
      "min       1.000000\n",
      "25%       1.000000\n",
      "50%       3.000000\n",
      "75%      11.000000\n",
      "max    1879.000000\n",
      "                 0\n",
      "count   352.000000\n",
      "mean     79.434659\n",
      "std     231.043073\n",
      "min       1.000000\n",
      "25%       3.000000\n",
      "50%       9.000000\n",
      "75%      47.750000\n",
      "max    2062.000000\n"
     ]
    }
   ],
   "source": [
    "# import scipy.stats as st\n",
    "# fig = plt.figure(figsize=(10, 20))\n",
    "contador =1\n",
    "for k,v in total_tempo.items():\n",
    "    a = pd.DataFrame(v)\n",
    "    print(a.describe())\n",
    "#     print(v)\n",
    "    \n",
    "#     matplotlib.pyplot.subplots_adjust(hspace=.5)\n",
    "#     plt.subplot(5, 2, contador)\n",
    "#     contador +=1\n",
    "#     plt.title((\"Tempo de carregamento: \"+k))\n",
    "#     plt.hist(v,density=True,bins=5,range=[1,30])"
   ]
  },
  {
   "cell_type": "markdown",
   "metadata": {},
   "source": []
  },
  {
   "cell_type": "code",
   "execution_count": null,
   "metadata": {},
   "outputs": [],
   "source": []
  }
 ],
 "metadata": {
  "kernelspec": {
   "display_name": "Python 3",
   "language": "python",
   "name": "python3"
  },
  "language_info": {
   "codemirror_mode": {
    "name": "ipython",
    "version": 3
   },
   "file_extension": ".py",
   "mimetype": "text/x-python",
   "name": "python",
   "nbconvert_exporter": "python",
   "pygments_lexer": "ipython3",
   "version": "3.8.3"
  }
 },
 "nbformat": 4,
 "nbformat_minor": 4
}
