{
 "cells": [
  {
   "cell_type": "markdown",
   "metadata": {},
   "source": [
    "### Para [.005,.01,.03]\n",
    "\n",
    "### Quantidade de trades\n",
    "Resumo trades para pct: 0.005\n",
    "sum: 679.00 mean: 12.81 desvio padrao: 7.30\n",
    "\n",
    "Resumo trades para pct: 0.01\n",
    "sum: 606.00 mean: 11.43 desvio padrao: 6.38\n",
    "\n",
    "Resumo trades para pct: 0.03\n",
    "sum: 352.00 mean: 6.64 desvio padrao: 3.98\n",
    "\n",
    "### Resultado Financeiro\n",
    "\n",
    "Resumo trades para pct: 0.005 (volume de 1 ação)\n",
    "sum: $202.04 mean: $3.81 desvio padrao: $3.09\n",
    "\n",
    "Resumo trades para pct: 0.01 (volume de 1 ação)\n",
    "sum: $213.56 mean: $4.03 desvio padrao: $3.21\n",
    "\n",
    "Resumo trades para pct: 0.03 (volume de 1 ação)\n",
    "sum: $205.66 mean: $3.88 desvio padrao: $3.24\n",
    "\n",
    "### Dias carregando\n",
    "\n",
    "Resumo trades para pct: 0.005 (volume de 1 ação)\n",
    "Sum: 23725.00 dias  | Mean: 34.94 dias | Desvio Padrao: 152.10 dias\n",
    "\n",
    "Resumo trades para pct: 0.01 (volume de 1 ação)\n",
    "Sum: 25458.00 dias  | Mean: 42.01 dias | Desvio Padrao: 164.48 dias\n",
    "\n",
    "Resumo trades para pct: 0.03 (volume de 1 ação)\n",
    "Sum: 27961.00 dias  | Mean: 79.43 dias | Desvio Padrao: 230.71 dias"
   ]
  },
  {
   "cell_type": "markdown",
   "metadata": {},
   "source": []
  },
  {
   "cell_type": "markdown",
   "metadata": {},
   "source": []
  }
 ],
 "metadata": {
  "kernelspec": {
   "display_name": "Python 3",
   "language": "python",
   "name": "python3"
  },
  "language_info": {
   "codemirror_mode": {
    "name": "ipython",
    "version": 3
   },
   "file_extension": ".py",
   "mimetype": "text/x-python",
   "name": "python",
   "nbconvert_exporter": "python",
   "pygments_lexer": "ipython3",
   "version": "3.8.3"
  }
 },
 "nbformat": 4,
 "nbformat_minor": 4
}
