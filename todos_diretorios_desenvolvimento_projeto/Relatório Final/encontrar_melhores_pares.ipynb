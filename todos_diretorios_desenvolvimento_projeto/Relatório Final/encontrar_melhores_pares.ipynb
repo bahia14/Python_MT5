{
 "cells": [
  {
   "cell_type": "code",
   "execution_count": 3,
   "metadata": {},
   "outputs": [],
   "source": [
    "import pandas as pd\n",
    "import numpy as np\n",
    "import math\n",
    "import matplotlib.pyplot as plt \n",
    "import seaborn\n",
    "import statsmodels.api as sm\n",
    "from scipy.stats import zscore\n",
    "from statsmodels import regression\n",
    "from statsmodels.tsa.stattools import coint"
   ]
  },
  {
   "cell_type": "code",
   "execution_count": 156,
   "metadata": {},
   "outputs": [],
   "source": [
    "class Pair_trading():\n",
    "    def __init__(self, data_var,data_preco, par, valor_inicial):\n",
    "        self.financeiro = valor_inicial\n",
    "        self.posicionado = 0 #comeca sem nenhuma operação aberta\n",
    "        self.lista_resultado_operacoes = []\n",
    "        self.lista_evolucao_carteira = []\n",
    "        self.lista_dias_carregando = []\n",
    "        self.lista_rentabilidade_operacao = []\n",
    "        self.contador_dias = 0 \n",
    "        self.perm_pct_acumulado = 1\n",
    "        #guarda tickers das acoes\n",
    "        self.t1 = par[0] \n",
    "        self.t2 = par[1]\n",
    "        self.volume_operacao = 0\n",
    "\n",
    "        self.dados_var = data_var\n",
    "        self.dados_preco = data_preco\n",
    "\n",
    "    def calcula_zscore_spread(self,stock1,stock2):\n",
    "        stock1 = sm.add_constant(stock1)\n",
    "        results = sm.OLS(stock2,stock1).fit()\n",
    "        stock1 = stock1[self.t1]\n",
    "        b = results.params[self.t1]\n",
    "        spread = stock2 - (b*stock1)\n",
    "        zs = zscore(spread)[-1]\n",
    "        return zs\n",
    "        \n",
    "    def condicoes_operar(self,zs, gatilho_high, preco_s1, preco_s2, index):\n",
    "        if zs >= gatilho_high and self.posicionado == 0:\n",
    "            #parametros para iniciar operacao\n",
    "            self.posicionado = 1 #entrou em uma operacao            \n",
    "            self.volume = (self.financeiro/2)//preco_s1\n",
    "            self.razao = preco_s1/preco_s2\n",
    "            self.contador_dias = index\n",
    "            #guarda dados de quantas ações está comprado/vendido\n",
    "            self.qtd_s1 =  self.volume\n",
    "            self.qtd_s2 =  self.volume*self.razao\n",
    "            #calcula valor total da compra e venda (idealmente devem ser iguais)\n",
    "            valor_operado_s1 =  preco_s1*self.qtd_s1 #vende  s1 (credita caixa)\n",
    "            valor_operado_s2 = -preco_s2*self.qtd_s2 #compra s2 (debita caixa) \n",
    "#             print(f'v1  R${valor_operado_s1:.2f} | v2 R${valor_operado_s2:.2f}')\n",
    "#             print(f'C1  R${preco_s1:.2f} | D2 R${(preco_s2*self.razao):.2f}')\n",
    "            self.financeiro += valor_operado_s1 + valor_operado_s2\n",
    "\n",
    "        elif zs <= 0.08 and self.posicionado == 1:\n",
    "            #calcula preço das açoes que estão em carteira\n",
    "            valor_operado_s1 = -self.qtd_s1*preco_s1 #compra s1 (debita  caixa) \n",
    "            valor_operado_s2 =  self.qtd_s2*preco_s2 #vende  s2 (credita caixa)\n",
    "#             print(f'v1 R${valor_operado_s1:.2f} | v2  R${valor_operado_s2:.2f}')\n",
    "#             print(f'D1  R${preco_s1:.2f} | C2 R${(preco_s2*self.razao):.2f}')\n",
    "            resultado_trade = valor_operado_s1 + valor_operado_s2 \n",
    "#             print(f'resu: R${resultado_trade:.2f}\\n')\n",
    "            self.financeiro += resultado_trade \n",
    "            #zera quantidades de ações sendo operadas\n",
    "            self.qtd_s1 -= self.qtd_s1\n",
    "            self.qtd_s2 -= self.qtd_s2\n",
    "            #guarda dados para acompanhamento ao longo do tempo\n",
    "            pct_change_trade = resultado_trade/(self.financeiro-resultado_trade)\n",
    "            self.perm_pct_acumulado = self.perm_pct_acumulado*(1+pct_change_trade)\n",
    "            self.lista_rentabilidade_operacao.append(pct_change_trade*100)\n",
    "            self.lista_evolucao_carteira.append(self.financeiro)\n",
    "            self.lista_dias_carregando.append(index-self.contador_dias)\n",
    "            self.lista_resultado_operacoes.append(resultado_trade)\n",
    "            #zera parametros para próximas operações \n",
    "            self.posicionado = 0\n",
    "            self.razao = 0\n",
    "            self.volume = 0\n",
    "            self.contador_dias = 0\n",
    "        \n",
    "    def opera(self):\n",
    "        period = 45\n",
    "        c = 0\n",
    "        s1 = self.dados_var[self.t1]\n",
    "        s2 = self.dados_var[self.t2]\n",
    "        for index in range(period, len(self.dados_var)):\n",
    "            j1 = (s1[c:index]) #seleciona a acao 1 com uma janela com *period* dias \n",
    "            j2 = (s2[c:index])\n",
    "\n",
    "            preco_s1 = self.dados_preco[self.t1][self.dados_var.index == index].values[0]\n",
    "            preco_s2 = self.dados_preco[self.t2][self.dados_var.index == index].values[0]\n",
    "            \n",
    "            zs = self.calcula_zscore_spread(stock1=j1,stock2=j2)\n",
    "            self.condicoes_operar(zs=zs, gatilho_high = 1.1, preco_s1=preco_s1, preco_s2=preco_s2, index=index)\n",
    "            c += 1\n",
    "\n",
    "        "
   ]
  },
  {
   "cell_type": "code",
   "execution_count": 4,
   "metadata": {},
   "outputs": [
    {
     "ename": "TypeError",
     "evalue": "cannot perform __truediv__ with this index type: DatetimeArray",
     "output_type": "error",
     "traceback": [
      "\u001b[0;31m---------------------------------------------------------------------------\u001b[0m",
      "\u001b[0;31mTypeError\u001b[0m                                 Traceback (most recent call last)",
      "\u001b[0;32m<ipython-input-4-1d5ab5d03a41>\u001b[0m in \u001b[0;36m<module>\u001b[0;34m\u001b[0m\n\u001b[1;32m      1\u001b[0m \u001b[0mdata\u001b[0m \u001b[0;34m=\u001b[0m \u001b[0mpd\u001b[0m\u001b[0;34m.\u001b[0m\u001b[0mread_excel\u001b[0m\u001b[0;34m(\u001b[0m\u001b[0;34m'/home/daniel/Desktop/Projetos/mql_python/Relatório 1/dados_relatorio.xlsx'\u001b[0m\u001b[0;34m)\u001b[0m\u001b[0;34m[\u001b[0m\u001b[0;36m1\u001b[0m\u001b[0;34m:\u001b[0m\u001b[0;34m]\u001b[0m\u001b[0;34m\u001b[0m\u001b[0;34m\u001b[0m\u001b[0m\n\u001b[1;32m      2\u001b[0m \u001b[0;31m# data = data.drop(['time','close IBOV','close AZUL4','close BBSE3','close BPAC11','close BRDT3','close CRFB3','close CVCB3','close GNDI3','close HAPV3','close IRBR3','close KLBN11','close TAEE11','close VVAR3'],axis=1)\u001b[0m\u001b[0;34m\u001b[0m\u001b[0;34m\u001b[0m\u001b[0;34m\u001b[0m\u001b[0m\n\u001b[0;32m----> 3\u001b[0;31m \u001b[0mdata_var\u001b[0m \u001b[0;34m=\u001b[0m \u001b[0mdata\u001b[0m\u001b[0;34m.\u001b[0m\u001b[0mpct_change\u001b[0m\u001b[0;34m(\u001b[0m\u001b[0;34m)\u001b[0m\u001b[0;34m[\u001b[0m\u001b[0;36m1\u001b[0m\u001b[0;34m:\u001b[0m\u001b[0;36m600\u001b[0m\u001b[0;34m]\u001b[0m\u001b[0;34m\u001b[0m\u001b[0;34m\u001b[0m\u001b[0m\n\u001b[0m\u001b[1;32m      4\u001b[0m \u001b[0mdata_preco\u001b[0m \u001b[0;34m=\u001b[0m \u001b[0mdata\u001b[0m\u001b[0;34m[\u001b[0m\u001b[0;36m1\u001b[0m\u001b[0;34m:\u001b[0m\u001b[0;36m600\u001b[0m\u001b[0;34m]\u001b[0m\u001b[0;34m\u001b[0m\u001b[0;34m\u001b[0m\u001b[0m\n",
      "\u001b[0;32m/usr/lib/python3.8/site-packages/pandas/core/generic.py\u001b[0m in \u001b[0;36mpct_change\u001b[0;34m(self, periods, fill_method, limit, freq, **kwargs)\u001b[0m\n\u001b[1;32m  10084\u001b[0m             \u001b[0mdata\u001b[0m \u001b[0;34m=\u001b[0m \u001b[0m_data\u001b[0m\u001b[0;34m\u001b[0m\u001b[0;34m\u001b[0m\u001b[0m\n\u001b[1;32m  10085\u001b[0m \u001b[0;34m\u001b[0m\u001b[0m\n\u001b[0;32m> 10086\u001b[0;31m         \u001b[0mrs\u001b[0m \u001b[0;34m=\u001b[0m \u001b[0mdata\u001b[0m\u001b[0;34m.\u001b[0m\u001b[0mdiv\u001b[0m\u001b[0;34m(\u001b[0m\u001b[0mdata\u001b[0m\u001b[0;34m.\u001b[0m\u001b[0mshift\u001b[0m\u001b[0;34m(\u001b[0m\u001b[0mperiods\u001b[0m\u001b[0;34m=\u001b[0m\u001b[0mperiods\u001b[0m\u001b[0;34m,\u001b[0m \u001b[0mfreq\u001b[0m\u001b[0;34m=\u001b[0m\u001b[0mfreq\u001b[0m\u001b[0;34m,\u001b[0m \u001b[0maxis\u001b[0m\u001b[0;34m=\u001b[0m\u001b[0maxis\u001b[0m\u001b[0;34m,\u001b[0m \u001b[0;34m**\u001b[0m\u001b[0mkwargs\u001b[0m\u001b[0;34m)\u001b[0m\u001b[0;34m)\u001b[0m \u001b[0;34m-\u001b[0m \u001b[0;36m1\u001b[0m\u001b[0;34m\u001b[0m\u001b[0;34m\u001b[0m\u001b[0m\n\u001b[0m\u001b[1;32m  10087\u001b[0m         \u001b[0;32mif\u001b[0m \u001b[0mfreq\u001b[0m \u001b[0;32mis\u001b[0m \u001b[0;32mnot\u001b[0m \u001b[0;32mNone\u001b[0m\u001b[0;34m:\u001b[0m\u001b[0;34m\u001b[0m\u001b[0;34m\u001b[0m\u001b[0m\n\u001b[1;32m  10088\u001b[0m             \u001b[0;31m# Shift method is implemented differently when freq is not None\u001b[0m\u001b[0;34m\u001b[0m\u001b[0;34m\u001b[0m\u001b[0;34m\u001b[0m\u001b[0m\n",
      "\u001b[0;32m/usr/lib/python3.8/site-packages/pandas/core/ops/__init__.py\u001b[0m in \u001b[0;36mf\u001b[0;34m(self, other, axis, level, fill_value)\u001b[0m\n\u001b[1;32m    765\u001b[0m \u001b[0;34m\u001b[0m\u001b[0m\n\u001b[1;32m    766\u001b[0m             \u001b[0mleft\u001b[0m\u001b[0;34m,\u001b[0m \u001b[0mright\u001b[0m \u001b[0;34m=\u001b[0m \u001b[0mself\u001b[0m\u001b[0;34m.\u001b[0m\u001b[0malign\u001b[0m\u001b[0;34m(\u001b[0m\u001b[0mother\u001b[0m\u001b[0;34m,\u001b[0m \u001b[0mjoin\u001b[0m\u001b[0;34m=\u001b[0m\u001b[0;34m\"outer\"\u001b[0m\u001b[0;34m,\u001b[0m \u001b[0mlevel\u001b[0m\u001b[0;34m=\u001b[0m\u001b[0mlevel\u001b[0m\u001b[0;34m,\u001b[0m \u001b[0mcopy\u001b[0m\u001b[0;34m=\u001b[0m\u001b[0;32mFalse\u001b[0m\u001b[0;34m)\u001b[0m\u001b[0;34m\u001b[0m\u001b[0;34m\u001b[0m\u001b[0m\n\u001b[0;32m--> 767\u001b[0;31m             \u001b[0mnew_data\u001b[0m \u001b[0;34m=\u001b[0m \u001b[0mleft\u001b[0m\u001b[0;34m.\u001b[0m\u001b[0m_combine_frame\u001b[0m\u001b[0;34m(\u001b[0m\u001b[0mright\u001b[0m\u001b[0;34m,\u001b[0m \u001b[0mpass_op\u001b[0m\u001b[0;34m,\u001b[0m \u001b[0mfill_value\u001b[0m\u001b[0;34m)\u001b[0m\u001b[0;34m\u001b[0m\u001b[0;34m\u001b[0m\u001b[0m\n\u001b[0m\u001b[1;32m    768\u001b[0m             \u001b[0;32mreturn\u001b[0m \u001b[0mleft\u001b[0m\u001b[0;34m.\u001b[0m\u001b[0m_construct_result\u001b[0m\u001b[0;34m(\u001b[0m\u001b[0mnew_data\u001b[0m\u001b[0;34m)\u001b[0m\u001b[0;34m\u001b[0m\u001b[0;34m\u001b[0m\u001b[0m\n\u001b[1;32m    769\u001b[0m \u001b[0;34m\u001b[0m\u001b[0m\n",
      "\u001b[0;32m/usr/lib/python3.8/site-packages/pandas/core/frame.py\u001b[0m in \u001b[0;36m_combine_frame\u001b[0;34m(self, other, func, fill_value, level)\u001b[0m\n\u001b[1;32m   5298\u001b[0m         \u001b[0;32mif\u001b[0m \u001b[0mops\u001b[0m\u001b[0;34m.\u001b[0m\u001b[0mshould_series_dispatch\u001b[0m\u001b[0;34m(\u001b[0m\u001b[0mself\u001b[0m\u001b[0;34m,\u001b[0m \u001b[0mother\u001b[0m\u001b[0;34m,\u001b[0m \u001b[0mfunc\u001b[0m\u001b[0;34m)\u001b[0m\u001b[0;34m:\u001b[0m\u001b[0;34m\u001b[0m\u001b[0;34m\u001b[0m\u001b[0m\n\u001b[1;32m   5299\u001b[0m             \u001b[0;31m# iterate over columns\u001b[0m\u001b[0;34m\u001b[0m\u001b[0;34m\u001b[0m\u001b[0;34m\u001b[0m\u001b[0m\n\u001b[0;32m-> 5300\u001b[0;31m             \u001b[0mnew_data\u001b[0m \u001b[0;34m=\u001b[0m \u001b[0mops\u001b[0m\u001b[0;34m.\u001b[0m\u001b[0mdispatch_to_series\u001b[0m\u001b[0;34m(\u001b[0m\u001b[0mself\u001b[0m\u001b[0;34m,\u001b[0m \u001b[0mother\u001b[0m\u001b[0;34m,\u001b[0m \u001b[0m_arith_op\u001b[0m\u001b[0;34m)\u001b[0m\u001b[0;34m\u001b[0m\u001b[0;34m\u001b[0m\u001b[0m\n\u001b[0m\u001b[1;32m   5301\u001b[0m         \u001b[0;32melse\u001b[0m\u001b[0;34m:\u001b[0m\u001b[0;34m\u001b[0m\u001b[0;34m\u001b[0m\u001b[0m\n\u001b[1;32m   5302\u001b[0m             \u001b[0;32mwith\u001b[0m \u001b[0mnp\u001b[0m\u001b[0;34m.\u001b[0m\u001b[0merrstate\u001b[0m\u001b[0;34m(\u001b[0m\u001b[0mall\u001b[0m\u001b[0;34m=\u001b[0m\u001b[0;34m\"ignore\"\u001b[0m\u001b[0;34m)\u001b[0m\u001b[0;34m:\u001b[0m\u001b[0;34m\u001b[0m\u001b[0;34m\u001b[0m\u001b[0m\n",
      "\u001b[0;32m/usr/lib/python3.8/site-packages/pandas/core/ops/__init__.py\u001b[0m in \u001b[0;36mdispatch_to_series\u001b[0;34m(left, right, func, str_rep, axis)\u001b[0m\n\u001b[1;32m    417\u001b[0m         \u001b[0;32mraise\u001b[0m \u001b[0mNotImplementedError\u001b[0m\u001b[0;34m(\u001b[0m\u001b[0mright\u001b[0m\u001b[0;34m)\u001b[0m\u001b[0;34m\u001b[0m\u001b[0;34m\u001b[0m\u001b[0m\n\u001b[1;32m    418\u001b[0m \u001b[0;34m\u001b[0m\u001b[0m\n\u001b[0;32m--> 419\u001b[0;31m     \u001b[0mnew_data\u001b[0m \u001b[0;34m=\u001b[0m \u001b[0mexpressions\u001b[0m\u001b[0;34m.\u001b[0m\u001b[0mevaluate\u001b[0m\u001b[0;34m(\u001b[0m\u001b[0mcolumn_op\u001b[0m\u001b[0;34m,\u001b[0m \u001b[0mstr_rep\u001b[0m\u001b[0;34m,\u001b[0m \u001b[0mleft\u001b[0m\u001b[0;34m,\u001b[0m \u001b[0mright\u001b[0m\u001b[0;34m)\u001b[0m\u001b[0;34m\u001b[0m\u001b[0;34m\u001b[0m\u001b[0m\n\u001b[0m\u001b[1;32m    420\u001b[0m     \u001b[0;32mreturn\u001b[0m \u001b[0mnew_data\u001b[0m\u001b[0;34m\u001b[0m\u001b[0;34m\u001b[0m\u001b[0m\n\u001b[1;32m    421\u001b[0m \u001b[0;34m\u001b[0m\u001b[0m\n",
      "\u001b[0;32m/usr/lib/python3.8/site-packages/pandas/core/computation/expressions.py\u001b[0m in \u001b[0;36mevaluate\u001b[0;34m(op, op_str, a, b, use_numexpr)\u001b[0m\n\u001b[1;32m    206\u001b[0m     \u001b[0muse_numexpr\u001b[0m \u001b[0;34m=\u001b[0m \u001b[0muse_numexpr\u001b[0m \u001b[0;32mand\u001b[0m \u001b[0m_bool_arith_check\u001b[0m\u001b[0;34m(\u001b[0m\u001b[0mop_str\u001b[0m\u001b[0;34m,\u001b[0m \u001b[0ma\u001b[0m\u001b[0;34m,\u001b[0m \u001b[0mb\u001b[0m\u001b[0;34m)\u001b[0m\u001b[0;34m\u001b[0m\u001b[0;34m\u001b[0m\u001b[0m\n\u001b[1;32m    207\u001b[0m     \u001b[0;32mif\u001b[0m \u001b[0muse_numexpr\u001b[0m\u001b[0;34m:\u001b[0m\u001b[0;34m\u001b[0m\u001b[0;34m\u001b[0m\u001b[0m\n\u001b[0;32m--> 208\u001b[0;31m         \u001b[0;32mreturn\u001b[0m \u001b[0m_evaluate\u001b[0m\u001b[0;34m(\u001b[0m\u001b[0mop\u001b[0m\u001b[0;34m,\u001b[0m \u001b[0mop_str\u001b[0m\u001b[0;34m,\u001b[0m \u001b[0ma\u001b[0m\u001b[0;34m,\u001b[0m \u001b[0mb\u001b[0m\u001b[0;34m)\u001b[0m\u001b[0;34m\u001b[0m\u001b[0;34m\u001b[0m\u001b[0m\n\u001b[0m\u001b[1;32m    209\u001b[0m     \u001b[0;32mreturn\u001b[0m \u001b[0m_evaluate_standard\u001b[0m\u001b[0;34m(\u001b[0m\u001b[0mop\u001b[0m\u001b[0;34m,\u001b[0m \u001b[0mop_str\u001b[0m\u001b[0;34m,\u001b[0m \u001b[0ma\u001b[0m\u001b[0;34m,\u001b[0m \u001b[0mb\u001b[0m\u001b[0;34m)\u001b[0m\u001b[0;34m\u001b[0m\u001b[0;34m\u001b[0m\u001b[0m\n\u001b[1;32m    210\u001b[0m \u001b[0;34m\u001b[0m\u001b[0m\n",
      "\u001b[0;32m/usr/lib/python3.8/site-packages/pandas/core/computation/expressions.py\u001b[0m in \u001b[0;36m_evaluate_standard\u001b[0;34m(op, op_str, a, b)\u001b[0m\n\u001b[1;32m     68\u001b[0m         \u001b[0m_store_test_result\u001b[0m\u001b[0;34m(\u001b[0m\u001b[0;32mFalse\u001b[0m\u001b[0;34m)\u001b[0m\u001b[0;34m\u001b[0m\u001b[0;34m\u001b[0m\u001b[0m\n\u001b[1;32m     69\u001b[0m     \u001b[0;32mwith\u001b[0m \u001b[0mnp\u001b[0m\u001b[0;34m.\u001b[0m\u001b[0merrstate\u001b[0m\u001b[0;34m(\u001b[0m\u001b[0mall\u001b[0m\u001b[0;34m=\u001b[0m\u001b[0;34m\"ignore\"\u001b[0m\u001b[0;34m)\u001b[0m\u001b[0;34m:\u001b[0m\u001b[0;34m\u001b[0m\u001b[0;34m\u001b[0m\u001b[0m\n\u001b[0;32m---> 70\u001b[0;31m         \u001b[0;32mreturn\u001b[0m \u001b[0mop\u001b[0m\u001b[0;34m(\u001b[0m\u001b[0ma\u001b[0m\u001b[0;34m,\u001b[0m \u001b[0mb\u001b[0m\u001b[0;34m)\u001b[0m\u001b[0;34m\u001b[0m\u001b[0;34m\u001b[0m\u001b[0m\n\u001b[0m\u001b[1;32m     71\u001b[0m \u001b[0;34m\u001b[0m\u001b[0m\n\u001b[1;32m     72\u001b[0m \u001b[0;34m\u001b[0m\u001b[0m\n",
      "\u001b[0;32m/usr/lib/python3.8/site-packages/pandas/core/ops/__init__.py\u001b[0m in \u001b[0;36mcolumn_op\u001b[0;34m(a, b)\u001b[0m\n\u001b[1;32m    386\u001b[0m \u001b[0;34m\u001b[0m\u001b[0m\n\u001b[1;32m    387\u001b[0m         \u001b[0;32mdef\u001b[0m \u001b[0mcolumn_op\u001b[0m\u001b[0;34m(\u001b[0m\u001b[0ma\u001b[0m\u001b[0;34m,\u001b[0m \u001b[0mb\u001b[0m\u001b[0;34m)\u001b[0m\u001b[0;34m:\u001b[0m\u001b[0;34m\u001b[0m\u001b[0;34m\u001b[0m\u001b[0m\n\u001b[0;32m--> 388\u001b[0;31m             \u001b[0;32mreturn\u001b[0m \u001b[0;34m{\u001b[0m\u001b[0mi\u001b[0m\u001b[0;34m:\u001b[0m \u001b[0mfunc\u001b[0m\u001b[0;34m(\u001b[0m\u001b[0ma\u001b[0m\u001b[0;34m.\u001b[0m\u001b[0miloc\u001b[0m\u001b[0;34m[\u001b[0m\u001b[0;34m:\u001b[0m\u001b[0;34m,\u001b[0m \u001b[0mi\u001b[0m\u001b[0;34m]\u001b[0m\u001b[0;34m,\u001b[0m \u001b[0mb\u001b[0m\u001b[0;34m.\u001b[0m\u001b[0miloc\u001b[0m\u001b[0;34m[\u001b[0m\u001b[0;34m:\u001b[0m\u001b[0;34m,\u001b[0m \u001b[0mi\u001b[0m\u001b[0;34m]\u001b[0m\u001b[0;34m)\u001b[0m \u001b[0;32mfor\u001b[0m \u001b[0mi\u001b[0m \u001b[0;32min\u001b[0m \u001b[0mrange\u001b[0m\u001b[0;34m(\u001b[0m\u001b[0mlen\u001b[0m\u001b[0;34m(\u001b[0m\u001b[0ma\u001b[0m\u001b[0;34m.\u001b[0m\u001b[0mcolumns\u001b[0m\u001b[0;34m)\u001b[0m\u001b[0;34m)\u001b[0m\u001b[0;34m}\u001b[0m\u001b[0;34m\u001b[0m\u001b[0;34m\u001b[0m\u001b[0m\n\u001b[0m\u001b[1;32m    389\u001b[0m \u001b[0;34m\u001b[0m\u001b[0m\n\u001b[1;32m    390\u001b[0m     \u001b[0;32melif\u001b[0m \u001b[0misinstance\u001b[0m\u001b[0;34m(\u001b[0m\u001b[0mright\u001b[0m\u001b[0;34m,\u001b[0m \u001b[0mABCSeries\u001b[0m\u001b[0;34m)\u001b[0m \u001b[0;32mand\u001b[0m \u001b[0maxis\u001b[0m \u001b[0;34m==\u001b[0m \u001b[0;34m\"columns\"\u001b[0m\u001b[0;34m:\u001b[0m\u001b[0;34m\u001b[0m\u001b[0;34m\u001b[0m\u001b[0m\n",
      "\u001b[0;32m/usr/lib/python3.8/site-packages/pandas/core/ops/__init__.py\u001b[0m in \u001b[0;36m<dictcomp>\u001b[0;34m(.0)\u001b[0m\n\u001b[1;32m    386\u001b[0m \u001b[0;34m\u001b[0m\u001b[0m\n\u001b[1;32m    387\u001b[0m         \u001b[0;32mdef\u001b[0m \u001b[0mcolumn_op\u001b[0m\u001b[0;34m(\u001b[0m\u001b[0ma\u001b[0m\u001b[0;34m,\u001b[0m \u001b[0mb\u001b[0m\u001b[0;34m)\u001b[0m\u001b[0;34m:\u001b[0m\u001b[0;34m\u001b[0m\u001b[0;34m\u001b[0m\u001b[0m\n\u001b[0;32m--> 388\u001b[0;31m             \u001b[0;32mreturn\u001b[0m \u001b[0;34m{\u001b[0m\u001b[0mi\u001b[0m\u001b[0;34m:\u001b[0m \u001b[0mfunc\u001b[0m\u001b[0;34m(\u001b[0m\u001b[0ma\u001b[0m\u001b[0;34m.\u001b[0m\u001b[0miloc\u001b[0m\u001b[0;34m[\u001b[0m\u001b[0;34m:\u001b[0m\u001b[0;34m,\u001b[0m \u001b[0mi\u001b[0m\u001b[0;34m]\u001b[0m\u001b[0;34m,\u001b[0m \u001b[0mb\u001b[0m\u001b[0;34m.\u001b[0m\u001b[0miloc\u001b[0m\u001b[0;34m[\u001b[0m\u001b[0;34m:\u001b[0m\u001b[0;34m,\u001b[0m \u001b[0mi\u001b[0m\u001b[0;34m]\u001b[0m\u001b[0;34m)\u001b[0m \u001b[0;32mfor\u001b[0m \u001b[0mi\u001b[0m \u001b[0;32min\u001b[0m \u001b[0mrange\u001b[0m\u001b[0;34m(\u001b[0m\u001b[0mlen\u001b[0m\u001b[0;34m(\u001b[0m\u001b[0ma\u001b[0m\u001b[0;34m.\u001b[0m\u001b[0mcolumns\u001b[0m\u001b[0;34m)\u001b[0m\u001b[0;34m)\u001b[0m\u001b[0;34m}\u001b[0m\u001b[0;34m\u001b[0m\u001b[0;34m\u001b[0m\u001b[0m\n\u001b[0m\u001b[1;32m    389\u001b[0m \u001b[0;34m\u001b[0m\u001b[0m\n\u001b[1;32m    390\u001b[0m     \u001b[0;32melif\u001b[0m \u001b[0misinstance\u001b[0m\u001b[0;34m(\u001b[0m\u001b[0mright\u001b[0m\u001b[0;34m,\u001b[0m \u001b[0mABCSeries\u001b[0m\u001b[0;34m)\u001b[0m \u001b[0;32mand\u001b[0m \u001b[0maxis\u001b[0m \u001b[0;34m==\u001b[0m \u001b[0;34m\"columns\"\u001b[0m\u001b[0;34m:\u001b[0m\u001b[0;34m\u001b[0m\u001b[0;34m\u001b[0m\u001b[0m\n",
      "\u001b[0;32m/usr/lib/python3.8/site-packages/pandas/core/ops/common.py\u001b[0m in \u001b[0;36mnew_method\u001b[0;34m(self, other)\u001b[0m\n\u001b[1;32m     62\u001b[0m         \u001b[0mother\u001b[0m \u001b[0;34m=\u001b[0m \u001b[0mitem_from_zerodim\u001b[0m\u001b[0;34m(\u001b[0m\u001b[0mother\u001b[0m\u001b[0;34m)\u001b[0m\u001b[0;34m\u001b[0m\u001b[0;34m\u001b[0m\u001b[0m\n\u001b[1;32m     63\u001b[0m \u001b[0;34m\u001b[0m\u001b[0m\n\u001b[0;32m---> 64\u001b[0;31m         \u001b[0;32mreturn\u001b[0m \u001b[0mmethod\u001b[0m\u001b[0;34m(\u001b[0m\u001b[0mself\u001b[0m\u001b[0;34m,\u001b[0m \u001b[0mother\u001b[0m\u001b[0;34m)\u001b[0m\u001b[0;34m\u001b[0m\u001b[0;34m\u001b[0m\u001b[0m\n\u001b[0m\u001b[1;32m     65\u001b[0m \u001b[0;34m\u001b[0m\u001b[0m\n\u001b[1;32m     66\u001b[0m     \u001b[0;32mreturn\u001b[0m \u001b[0mnew_method\u001b[0m\u001b[0;34m\u001b[0m\u001b[0;34m\u001b[0m\u001b[0m\n",
      "\u001b[0;32m/usr/lib/python3.8/site-packages/pandas/core/ops/__init__.py\u001b[0m in \u001b[0;36mwrapper\u001b[0;34m(left, right)\u001b[0m\n\u001b[1;32m    501\u001b[0m         \u001b[0mlvalues\u001b[0m \u001b[0;34m=\u001b[0m \u001b[0mextract_array\u001b[0m\u001b[0;34m(\u001b[0m\u001b[0mleft\u001b[0m\u001b[0;34m,\u001b[0m \u001b[0mextract_numpy\u001b[0m\u001b[0;34m=\u001b[0m\u001b[0;32mTrue\u001b[0m\u001b[0;34m)\u001b[0m\u001b[0;34m\u001b[0m\u001b[0;34m\u001b[0m\u001b[0m\n\u001b[1;32m    502\u001b[0m         \u001b[0mrvalues\u001b[0m \u001b[0;34m=\u001b[0m \u001b[0mextract_array\u001b[0m\u001b[0;34m(\u001b[0m\u001b[0mright\u001b[0m\u001b[0;34m,\u001b[0m \u001b[0mextract_numpy\u001b[0m\u001b[0;34m=\u001b[0m\u001b[0;32mTrue\u001b[0m\u001b[0;34m)\u001b[0m\u001b[0;34m\u001b[0m\u001b[0;34m\u001b[0m\u001b[0m\n\u001b[0;32m--> 503\u001b[0;31m         \u001b[0mresult\u001b[0m \u001b[0;34m=\u001b[0m \u001b[0marithmetic_op\u001b[0m\u001b[0;34m(\u001b[0m\u001b[0mlvalues\u001b[0m\u001b[0;34m,\u001b[0m \u001b[0mrvalues\u001b[0m\u001b[0;34m,\u001b[0m \u001b[0mop\u001b[0m\u001b[0;34m,\u001b[0m \u001b[0mstr_rep\u001b[0m\u001b[0;34m)\u001b[0m\u001b[0;34m\u001b[0m\u001b[0;34m\u001b[0m\u001b[0m\n\u001b[0m\u001b[1;32m    504\u001b[0m \u001b[0;34m\u001b[0m\u001b[0m\n\u001b[1;32m    505\u001b[0m         \u001b[0;32mreturn\u001b[0m \u001b[0m_construct_result\u001b[0m\u001b[0;34m(\u001b[0m\u001b[0mleft\u001b[0m\u001b[0;34m,\u001b[0m \u001b[0mresult\u001b[0m\u001b[0;34m,\u001b[0m \u001b[0mindex\u001b[0m\u001b[0;34m=\u001b[0m\u001b[0mleft\u001b[0m\u001b[0;34m.\u001b[0m\u001b[0mindex\u001b[0m\u001b[0;34m,\u001b[0m \u001b[0mname\u001b[0m\u001b[0;34m=\u001b[0m\u001b[0mres_name\u001b[0m\u001b[0;34m)\u001b[0m\u001b[0;34m\u001b[0m\u001b[0;34m\u001b[0m\u001b[0m\n",
      "\u001b[0;32m/usr/lib/python3.8/site-packages/pandas/core/ops/array_ops.py\u001b[0m in \u001b[0;36marithmetic_op\u001b[0;34m(left, right, op, str_rep)\u001b[0m\n\u001b[1;32m    191\u001b[0m         \u001b[0;31m#  by dispatch_to_extension_op.\u001b[0m\u001b[0;34m\u001b[0m\u001b[0;34m\u001b[0m\u001b[0;34m\u001b[0m\u001b[0m\n\u001b[1;32m    192\u001b[0m         \u001b[0;31m# Timedelta is included because numexpr will fail on it, see GH#31457\u001b[0m\u001b[0;34m\u001b[0m\u001b[0;34m\u001b[0m\u001b[0;34m\u001b[0m\u001b[0m\n\u001b[0;32m--> 193\u001b[0;31m         \u001b[0mres_values\u001b[0m \u001b[0;34m=\u001b[0m \u001b[0mdispatch_to_extension_op\u001b[0m\u001b[0;34m(\u001b[0m\u001b[0mop\u001b[0m\u001b[0;34m,\u001b[0m \u001b[0mlvalues\u001b[0m\u001b[0;34m,\u001b[0m \u001b[0mrvalues\u001b[0m\u001b[0;34m)\u001b[0m\u001b[0;34m\u001b[0m\u001b[0;34m\u001b[0m\u001b[0m\n\u001b[0m\u001b[1;32m    194\u001b[0m \u001b[0;34m\u001b[0m\u001b[0m\n\u001b[1;32m    195\u001b[0m     \u001b[0;32melse\u001b[0m\u001b[0;34m:\u001b[0m\u001b[0;34m\u001b[0m\u001b[0;34m\u001b[0m\u001b[0m\n",
      "\u001b[0;32m/usr/lib/python3.8/site-packages/pandas/core/ops/dispatch.py\u001b[0m in \u001b[0;36mdispatch_to_extension_op\u001b[0;34m(op, left, right)\u001b[0m\n\u001b[1;32m    123\u001b[0m     \u001b[0;31m# The op calls will raise TypeError if the op is not defined\u001b[0m\u001b[0;34m\u001b[0m\u001b[0;34m\u001b[0m\u001b[0;34m\u001b[0m\u001b[0m\n\u001b[1;32m    124\u001b[0m     \u001b[0;31m# on the ExtensionArray\u001b[0m\u001b[0;34m\u001b[0m\u001b[0;34m\u001b[0m\u001b[0;34m\u001b[0m\u001b[0m\n\u001b[0;32m--> 125\u001b[0;31m     \u001b[0mres_values\u001b[0m \u001b[0;34m=\u001b[0m \u001b[0mop\u001b[0m\u001b[0;34m(\u001b[0m\u001b[0mleft\u001b[0m\u001b[0;34m,\u001b[0m \u001b[0mright\u001b[0m\u001b[0;34m)\u001b[0m\u001b[0;34m\u001b[0m\u001b[0;34m\u001b[0m\u001b[0m\n\u001b[0m\u001b[1;32m    126\u001b[0m     \u001b[0;32mreturn\u001b[0m \u001b[0mres_values\u001b[0m\u001b[0;34m\u001b[0m\u001b[0;34m\u001b[0m\u001b[0m\n",
      "\u001b[0;32m/usr/lib/python3.8/site-packages/pandas/core/ops/invalid.py\u001b[0m in \u001b[0;36minvalid_op\u001b[0;34m(self, other)\u001b[0m\n\u001b[1;32m     51\u001b[0m     \u001b[0;32mdef\u001b[0m \u001b[0minvalid_op\u001b[0m\u001b[0;34m(\u001b[0m\u001b[0mself\u001b[0m\u001b[0;34m,\u001b[0m \u001b[0mother\u001b[0m\u001b[0;34m=\u001b[0m\u001b[0;32mNone\u001b[0m\u001b[0;34m)\u001b[0m\u001b[0;34m:\u001b[0m\u001b[0;34m\u001b[0m\u001b[0;34m\u001b[0m\u001b[0m\n\u001b[1;32m     52\u001b[0m         \u001b[0mtyp\u001b[0m \u001b[0;34m=\u001b[0m \u001b[0mtype\u001b[0m\u001b[0;34m(\u001b[0m\u001b[0mself\u001b[0m\u001b[0;34m)\u001b[0m\u001b[0;34m.\u001b[0m\u001b[0m__name__\u001b[0m\u001b[0;34m\u001b[0m\u001b[0;34m\u001b[0m\u001b[0m\n\u001b[0;32m---> 53\u001b[0;31m         \u001b[0;32mraise\u001b[0m \u001b[0mTypeError\u001b[0m\u001b[0;34m(\u001b[0m\u001b[0;34mf\"cannot perform {name} with this index type: {typ}\"\u001b[0m\u001b[0;34m)\u001b[0m\u001b[0;34m\u001b[0m\u001b[0;34m\u001b[0m\u001b[0m\n\u001b[0m\u001b[1;32m     54\u001b[0m \u001b[0;34m\u001b[0m\u001b[0m\n\u001b[1;32m     55\u001b[0m     \u001b[0minvalid_op\u001b[0m\u001b[0;34m.\u001b[0m\u001b[0m__name__\u001b[0m \u001b[0;34m=\u001b[0m \u001b[0mname\u001b[0m\u001b[0;34m\u001b[0m\u001b[0;34m\u001b[0m\u001b[0m\n",
      "\u001b[0;31mTypeError\u001b[0m: cannot perform __truediv__ with this index type: DatetimeArray"
     ]
    }
   ],
   "source": [
    "data = pd.read_excel('/home/daniel/Desktop/Projetos/mql_python/Relatório 1/dados_relatorio.xlsx')[1:]\n",
    "# data = data.drop(['time','close IBOV','close AZUL4','close BBSE3','close BPAC11','close BRDT3','close CRFB3','close CVCB3','close GNDI3','close HAPV3','close IRBR3','close KLBN11','close TAEE11','close VVAR3'],axis=1)\n",
    "data_var = data.pct_change()[1:600]\n",
    "data_preco = data[1:600]"
   ]
  },
  {
   "cell_type": "code",
   "execution_count": 158,
   "metadata": {},
   "outputs": [],
   "source": [
    "# aa = pd.DataFrame(np.sum(data_var.isnull()))\n",
    "# for i in aa.index:\n",
    "#     print(i,aa[aa.index==i].values[0][0])\n",
    "#     print('\\n')"
   ]
  },
  {
   "cell_type": "code",
   "execution_count": 178,
   "metadata": {},
   "outputs": [],
   "source": [
    "ltick = data_var.columns.to_list()\n",
    "ltick_usados = []\n",
    "for i in range(41,len(ltick)):\n",
    "    for j in range(i+1,len(ltick)):\n",
    "        if i <= 50:\n",
    "            ltick_usados.append([ltick[i],ltick[j]])\n"
   ]
  },
  {
   "cell_type": "code",
   "execution_count": 179,
   "metadata": {},
   "outputs": [],
   "source": [
    "doc = {}\n",
    "ll_par_usado = []\n",
    "for i in ltick_usados:\n",
    "    a = (i[0]+' x '+i[1])\n",
    "    ll_par_usado.append(a)\n",
    "    doc[a] = Pair_trading(data_var=data_var, data_preco=data_preco, par=i, valor_inicial=1000)\n",
    "    doc[a].opera()"
   ]
  },
  {
   "cell_type": "code",
   "execution_count": 180,
   "metadata": {},
   "outputs": [],
   "source": [
    "lista_rentabilidades = []\n",
    "for i in ll_par_usado:\n",
    "    lista_rentabilidades.append(doc[i].perm_pct_acumulado)"
   ]
  },
  {
   "cell_type": "code",
   "execution_count": 181,
   "metadata": {},
   "outputs": [],
   "source": [
    "cleanedList = [x for x in lista_rentabilidades if str(x) != 'nan']\n",
    "cleanedList = sorted(cleanedList)"
   ]
  },
  {
   "cell_type": "code",
   "execution_count": 182,
   "metadata": {},
   "outputs": [
    {
     "name": "stdout",
     "output_type": "stream",
     "text": [
      "close PETR3 x close PETR4 1.42\n",
      "close MRVE3 x close VIVT4 2.00\n",
      "close QUAL3 x close VIVT4 2.02\n",
      "close RENT3 x close VIVT4 2.08\n",
      "close RAIL3 x close VIVT4 2.15\n",
      "close QUAL3 x close UGPA3 2.23\n",
      "close SANB11 x close VIVT4 2.23\n",
      "close PETR3 x close VIVT4 2.24\n",
      "close PETR4 x close VIVT4 2.31\n",
      "close MRVE3 x close UGPA3 2.32\n",
      "close NTCO3 x close VIVT4 2.34\n",
      "close PETR4 x close UGPA3 2.40\n",
      "close PETR3 x close UGPA3 2.44\n",
      "close MRVE3 x close MULT3 2.45\n",
      "close MULT3 x close UGPA3 2.47\n",
      "close RAIL3 x close RENT3 2.48\n",
      "close RADL3 x close VIVT4 2.48\n",
      "close MULT3 x close VIVT4 2.49\n",
      "close RAIL3 x close UGPA3 2.50\n",
      "close QUAL3 x close WEGE3 2.57\n",
      "close MRVE3 x close SANB11 2.58\n",
      "close RENT3 x close UGPA3 2.58\n",
      "close SANB11 x close UGPA3 2.59\n",
      "close RAIL3 x close WEGE3 2.60\n",
      "close NTCO3 x close UGPA3 2.66\n",
      "close SANB11 x close WEGE3 2.67\n",
      "close MULT3 x close NTCO3 2.70\n",
      "close RENT3 x close WEGE3 2.72\n",
      "close MRVE3 x close NTCO3 2.77\n",
      "close RAIL3 x close TOTS3 2.79\n",
      "close RENT3 x close SBSP3 2.80\n",
      "close RADL3 x close RENT3 2.80\n",
      "close PETR4 x close SANB11 2.82\n",
      "close MULT3 x close SBSP3 2.84\n",
      "close PETR4 x close WEGE3 2.84\n",
      "close MULT3 x close RENT3 2.86\n",
      "close RADL3 x close WEGE3 2.86\n",
      "close MULT3 x close TOTS3 2.86\n",
      "close NTCO3 x close WEGE3 2.87\n",
      "close MULT3 x close WEGE3 2.87\n",
      "close PETR3 x close SANB11 2.89\n",
      "close RADL3 x close UGPA3 2.93\n",
      "close NTCO3 x close RENT3 2.94\n",
      "close RENT3 x close TOTS3 2.96\n",
      "close QUAL3 x close TOTS3 2.96\n",
      "close RADL3 x close SANB11 2.96\n",
      "close PETR4 x close SBSP3 2.98\n",
      "close PETR3 x close WEGE3 2.99\n",
      "close MRVE3 x close SBSP3 3.00\n",
      "close MRVE3 x close TOTS3 3.02\n",
      "close PETR3 x close VALE3 3.03\n",
      "close NTCO3 x close TOTS3 3.04\n",
      "close MRVE3 x close RENT3 3.05\n",
      "close SANB11 x close SBSP3 3.05\n",
      "close MULT3 x close SANB11 3.07\n",
      "close NTCO3 x close QUAL3 3.08\n",
      "close RADL3 x close TOTS3 3.10\n",
      "close SANB11 x close VALE3 3.11\n",
      "close RAIL3 x close SULA11 3.14\n",
      "close PETR4 x close SULA11 3.15\n",
      "close MRVE3 x close WEGE3 3.16\n",
      "close NTCO3 x close SULA11 3.16\n",
      "close NTCO3 x close SANB11 3.16\n",
      "close NTCO3 x close SBSP3 3.16\n",
      "close SANB11 x close TOTS3 3.17\n",
      "close PETR3 x close RADL3 3.19\n",
      "close MRVE3 x close TIMP3 3.21\n",
      "close PETR4 x close RADL3 3.21\n",
      "close QUAL3 x close SANB11 3.21\n",
      "close QUAL3 x close RENT3 3.23\n",
      "close RENT3 x close SULA11 3.24\n",
      "close PETR4 x close VALE3 3.25\n",
      "close SANB11 x close SULA11 3.26\n",
      "close PETR4 x close QUAL3 3.26\n",
      "close MRVE3 x close YDUQ3 3.26\n",
      "close RAIL3 x close VALE3 3.27\n",
      "close PETR3 x close RENT3 3.27\n",
      "close RENT3 x close SANB11 3.28\n",
      "close PETR3 x close YDUQ3 3.28\n",
      "close MULT3 x close SULA11 3.29\n",
      "close RAIL3 x close SBSP3 3.30\n",
      "close MULT3 x close VALE3 3.31\n",
      "close RAIL3 x close SANB11 3.31\n",
      "close PETR3 x close SBSP3 3.33\n",
      "close RADL3 x close SBSP3 3.33\n",
      "close RENT3 x close VALE3 3.35\n",
      "close QUAL3 x close RADL3 3.35\n",
      "close MRVE3 x close PETR4 3.36\n",
      "close PETR4 x close TOTS3 3.36\n",
      "close RENT3 x close YDUQ3 3.36\n",
      "close PETR4 x close YDUQ3 3.37\n",
      "close PETR4 x close RENT3 3.37\n",
      "close RAIL3 x close YDUQ3 3.39\n",
      "close MRVE3 x close QUAL3 3.39\n",
      "close MULT3 x close RADL3 3.43\n",
      "close QUAL3 x close SBSP3 3.44\n",
      "close PETR3 x close TOTS3 3.44\n",
      "close MULT3 x close YDUQ3 3.47\n",
      "close RADL3 x close YDUQ3 3.48\n",
      "close MULT3 x close PETR3 3.49\n",
      "close SANB11 x close TIMP3 3.49\n",
      "close NTCO3 x close VALE3 3.50\n",
      "close SANB11 x close YDUQ3 3.52\n",
      "close MRVE3 x close SULA11 3.52\n",
      "close QUAL3 x close SULA11 3.53\n",
      "close QUAL3 x close VALE3 3.54\n",
      "close MRVE3 x close RADL3 3.56\n",
      "close NTCO3 x close RADL3 3.57\n",
      "close MRVE3 x close VALE3 3.58\n",
      "close NTCO3 x close YDUQ3 3.58\n",
      "close MULT3 x close QUAL3 3.59\n",
      "close PETR3 x close RAIL3 3.59\n",
      "close RADL3 x close VALE3 3.60\n",
      "close RADL3 x close SULA11 3.61\n",
      "close PETR4 x close TIMP3 3.61\n",
      "close MULT3 x close PETR4 3.62\n",
      "close RAIL3 x close SUZB3 3.64\n",
      "close NTCO3 x close RAIL3 3.67\n",
      "close RENT3 x close TIMP3 3.67\n",
      "close PETR3 x close QUAL3 3.67\n",
      "close QUAL3 x close TIMP3 3.67\n",
      "close MULT3 x close TIMP3 3.70\n",
      "close RADL3 x close TIMP3 3.71\n",
      "close MULT3 x close RAIL3 3.72\n",
      "close RAIL3 x close TIMP3 3.74\n",
      "close PETR3 x close TIMP3 3.78\n",
      "close NTCO3 x close TIMP3 3.79\n",
      "close PETR4 x close RAIL3 3.80\n",
      "close MRVE3 x close PETR3 3.81\n",
      "close QUAL3 x close RAIL3 3.83\n",
      "close QUAL3 x close YDUQ3 3.84\n",
      "close PETR3 x close SULA11 3.86\n",
      "close SANB11 x close SUZB3 3.90\n",
      "close NTCO3 x close PETR4 3.92\n",
      "close RENT3 x close SUZB3 3.97\n",
      "close MRVE3 x close SUZB3 4.01\n",
      "close NTCO3 x close PETR3 4.04\n",
      "close NTCO3 x close SUZB3 4.06\n",
      "close RADL3 x close SUZB3 4.21\n",
      "close MULT3 x close SUZB3 4.25\n",
      "close PETR4 x close SUZB3 4.27\n",
      "close RADL3 x close RAIL3 4.29\n",
      "close QUAL3 x close SUZB3 4.31\n",
      "close MRVE3 x close RAIL3 4.38\n",
      "close PETR3 x close SUZB3 4.66\n",
      "close PETR4 x close USIM5 4.99\n",
      "close PETR3 x close USIM5 5.55\n",
      "close MRVE3 x close USIM5 5.89\n",
      "close SANB11 x close USIM5 6.26\n",
      "close RENT3 x close USIM5 6.44\n",
      "close RAIL3 x close USIM5 7.05\n",
      "close NTCO3 x close USIM5 7.28\n",
      "close RADL3 x close USIM5 7.50\n",
      "close MULT3 x close USIM5 7.82\n",
      "close QUAL3 x close USIM5 7.89\n"
     ]
    }
   ],
   "source": [
    "for i in cleanedList:\n",
    "    for k,v in doc.items():\n",
    "        if v.perm_pct_acumulado == i:\n",
    "            print(f'{k} {i:.2f}')"
   ]
  },
  {
   "cell_type": "markdown",
   "metadata": {},
   "source": [
    "## lista ações do ibov 2017 que deve ser usada "
   ]
  },
  {
   "cell_type": "code",
   "execution_count": 23,
   "metadata": {},
   "outputs": [],
   "source": [
    "lttt = 'ABEV3,BBAS3,BBDC3,BBDC4,BBSE3,BRAP4,BRFS3,BRKM5,BRML3,BVMF3,CCRO3,CIEL3,CMIG4,CPFE3,CPLE6,CSAN3,CSNA3,CTIP3,CYRE3,ECOR3,EGIE3,ELET3,EMBR3,ENBR3,EQTL3,ESTC3,FIBR3,GGBR4,GOAU4,HYPE3,ITSA4,ITUB4,JBSS3,KLBN11,KROT3,LAME4,LREN3,MRFG3,MRVE3,MULT3,NATU3,PCAR4,PETR3,PETR4,QUAL3,RADL3,RENT3,RUMO3,SANB11,SBSP3,SMLE3,SUZB5,TIMP3,UGPA3,USIM5,VALE3,VALE5,VIVT4,WEGE3'\n",
    "lttt = lttt.split(',')\n",
    "jjj=[]"
   ]
  },
  {
   "cell_type": "code",
   "execution_count": 24,
   "metadata": {},
   "outputs": [],
   "source": [
    "pend(i[6:])for i in data.columns.to_list():\n",
    "    jjj.ap"
   ]
  },
  {
   "cell_type": "code",
   "execution_count": 25,
   "metadata": {},
   "outputs": [
    {
     "name": "stdout",
     "output_type": "stream",
     "text": [
      "BVMF3\n",
      "CPLE6\n",
      "CTIP3\n",
      "ESTC3\n",
      "FIBR3\n",
      "KROT3\n",
      "NATU3\n",
      "PCAR4\n",
      "RUMO3\n",
      "SMLE3\n",
      "SUZB5\n",
      "VALE5\n"
     ]
    }
   ],
   "source": [
    "for i in lttt:\n",
    "    if i not in jjj:\n",
    "        print(i)"
   ]
  },
  {
   "cell_type": "code",
   "execution_count": 19,
   "metadata": {},
   "outputs": [
    {
     "data": {
      "text/plain": [
       "'ABEV3,BBAS3,BBDC3,BBDC4,BBSE3,BRAP4,BRFS3,BRKM5,BRML3,BVMF3,CCRO3,CIEL3,CMIG4,CPFE3,CPLE6,CSAN3,CSNA3,CTIP3,CYRE3,ECOR3,EGIE3,ELET3,EMBR3,ENBR3,EQTL3,ESTC3,FIBR3,GGBR4,GOAU4,HYPE3.ITSA4.ITUB4,JBSS3,KLBN11,KROT3,LAME4,LREN3,MRFG3,MRVE3,MULT3,NATU3,PCAR4,PETR3,PETR4,QUAL3,RADL3,RENT3,RUMO3,SANB11,SBSP3,SMLE3,SUZB5,TIMP3,UGPA3,USIM5,VALE3,VALE5,VIVT4,WEGE3'"
      ]
     },
     "execution_count": 19,
     "metadata": {},
     "output_type": "execute_result"
    }
   ],
   "source": [
    "lttt"
   ]
  },
  {
   "cell_type": "code",
   "execution_count": 26,
   "metadata": {},
   "outputs": [
    {
     "name": "stdout",
     "output_type": "stream",
     "text": [
      "\n",
      "IBOV\n",
      "AZUL4\n",
      "B3SA3\n",
      "BEEF3\n",
      "BPAC11\n",
      "BRDT3\n",
      "BTOW3\n",
      "COGN3\n",
      "CRFB3\n",
      "CVCB3\n",
      "ELET6\n",
      "ENGI11\n",
      "FLRY3\n",
      "GNDI3\n",
      "GOLL4\n",
      "HAPV3\n",
      "HGTX3\n",
      "IGTA3\n",
      "IRBR3\n",
      "MGLU3\n",
      "NTCO3\n",
      "RAIL3\n",
      "SULA11\n",
      "SUZB3\n",
      "TAEE11\n",
      "TOTS3\n",
      "VVAR3\n",
      "YDUQ3\n"
     ]
    }
   ],
   "source": [
    "for i in jjj:\n",
    "    if i not in lttt:\n",
    "        print(i)"
   ]
  },
  {
   "cell_type": "code",
   "execution_count": 27,
   "metadata": {},
   "outputs": [
    {
     "name": "stdout",
     "output_type": "stream",
     "text": [
      "['ABEV3', 'BBAS3', 'BBDC3', 'BBDC4', 'BBSE3', 'BRAP4', 'BRFS3', 'BRKM5', 'BRML3', 'BVMF3', 'CCRO3', 'CIEL3', 'CMIG4', 'CPFE3', 'CPLE6', 'CSAN3', 'CSNA3', 'CTIP3', 'CYRE3', 'ECOR3', 'EGIE3', 'ELET3', 'EMBR3', 'ENBR3', 'EQTL3', 'ESTC3', 'FIBR3', 'GGBR4', 'GOAU4', 'HYPE3', 'ITSA4', 'ITUB4', 'JBSS3', 'KLBN11', 'KROT3', 'LAME4', 'LREN3', 'MRFG3', 'MRVE3', 'MULT3', 'NATU3', 'PCAR4', 'PETR3', 'PETR4', 'QUAL3', 'RADL3', 'RENT3', 'RUMO3', 'SANB11', 'SBSP3', 'SMLE3', 'SUZB5', 'TIMP3', 'UGPA3', 'USIM5', 'VALE3', 'VALE5', 'VIVT4', 'WEGE3']\n"
     ]
    }
   ],
   "source": [
    "print(lttt)"
   ]
  },
  {
   "cell_type": "code",
   "execution_count": null,
   "metadata": {},
   "outputs": [],
   "source": []
  }
 ],
 "metadata": {
  "kernelspec": {
   "display_name": "Python 3",
   "language": "python",
   "name": "python3"
  },
  "language_info": {
   "codemirror_mode": {
    "name": "ipython",
    "version": 3
   },
   "file_extension": ".py",
   "mimetype": "text/x-python",
   "name": "python",
   "nbconvert_exporter": "python",
   "pygments_lexer": "ipython3",
   "version": "3.7.4"
  }
 },
 "nbformat": 4,
 "nbformat_minor": 4
}
