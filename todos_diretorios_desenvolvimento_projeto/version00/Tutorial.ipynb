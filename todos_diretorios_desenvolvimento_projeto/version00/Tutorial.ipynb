{
 "cells": [
  {
   "cell_type": "markdown",
   "metadata": {},
   "source": [
    "## Tutorial do Dani"
   ]
  },
  {
   "cell_type": "markdown",
   "metadata": {},
   "source": [
    "#### Info sobre o terminal aberto"
   ]
  },
  {
   "cell_type": "code",
   "execution_count": 1,
   "metadata": {},
   "outputs": [
    {
     "name": "stdout",
     "output_type": "stream",
     "text": [
      "MetaTrader5 package author:  MetaQuotes Software Corp.\n",
      "MetaTrader5 package version:  5.0.33\n"
     ]
    }
   ],
   "source": [
    "import MetaTrader5 as mt5\n",
    "import pandas as pd\n",
    "# exibimos dados sobre o pacote MetaTrader5\n",
    "print(\"MetaTrader5 package author: \",mt5.__author__)\n",
    "print(\"MetaTrader5 package version: \",mt5.__version__)\n",
    "\n",
    " \n",
    "# estabelecemos a conexão ao MetaTrader 5\n",
    "if not mt5.initialize():\n",
    "    print(\"initialize() failed, error code =\",mt5.last_error())\n",
    "    quit()\n"
   ]
  },
  {
   "cell_type": "code",
   "execution_count": 28,
   "metadata": {},
   "outputs": [
    {
     "name": "stdout",
     "output_type": "stream",
     "text": [
      "(500, 2485, '05 Jun 2020')\n"
     ]
    }
   ],
   "source": [
    "# imprimimos informações sobre a versão do MetaTrader 5\n",
    "print(mt5.version())"
   ]
  },
  {
   "cell_type": "code",
   "execution_count": null,
   "metadata": {},
   "outputs": [],
   "source": []
  },
  {
   "cell_type": "code",
   "execution_count": 29,
   "metadata": {},
   "outputs": [
    {
     "name": "stdout",
     "output_type": "stream",
     "text": [
      "TerminalInfo(community_account=False, community_connection=False, connected=True, dlls_allowed=True, trade_allowed=True, tradeapi_disabled=False, email_enabled=False, ftp_enabled=False, notifications_enabled=False, mqid=False, build=2485, maxbars=100000, codepage=1252, ping_last=16578, community_balance=0.0, retransmission=0.0, company='CLEAR CTVM S.A.', name='MetaTrader 5 Terminal', language='Portuguese (Brazil)', path='C:\\\\Program Files\\\\MetaTrader 5 Terminal', ...) \n",
      "\n",
      "Show terminal_info()._asdict():\n",
      "  community_account=False\n",
      "  community_connection=False\n",
      "  connected=True\n",
      "  dlls_allowed=True\n",
      "  trade_allowed=True\n",
      "  tradeapi_disabled=False\n",
      "  email_enabled=False\n",
      "  ftp_enabled=False\n",
      "  notifications_enabled=False\n",
      "  mqid=False\n",
      "  build=2485\n",
      "  maxbars=100000\n",
      "  codepage=1252\n",
      "  ping_last=16578\n",
      "  community_balance=0.0\n",
      "  retransmission=0.0\n",
      "  company=CLEAR CTVM S.A.\n",
      "  name=MetaTrader 5 Terminal\n",
      "  language=Portuguese (Brazil)\n",
      "  path=C:\\Program Files\\MetaTrader 5 Terminal\n",
      "  data_path=C:\\Users\\danie\\AppData\\Roaming\\MetaQuotes\\Terminal\\FB9A56D617EDDDFE29EE54EBEFFE96C1\n",
      "  commondata_path=C:\\Users\\danie\\AppData\\Roaming\\MetaQuotes\\Terminal\\Common\n",
      "\n",
      "terminal_info() as dataframe:\n",
      "                 property                                              value\n",
      "0       community_account                                              False\n",
      "1    community_connection                                              False\n",
      "2               connected                                               True\n",
      "3            dlls_allowed                                               True\n",
      "4           trade_allowed                                               True\n",
      "5       tradeapi_disabled                                              False\n",
      "6           email_enabled                                              False\n",
      "7             ftp_enabled                                              False\n",
      "8   notifications_enabled                                              False\n",
      "9                    mqid                                              False\n",
      "10                  build                                               2485\n",
      "11                maxbars                                             100000\n",
      "12               codepage                                               1252\n",
      "13              ping_last                                              16578\n",
      "14      community_balance                                                  0\n",
      "15         retransmission                                                  0\n",
      "16                company                                    CLEAR CTVM S.A.\n",
      "17                   name                              MetaTrader 5 Terminal\n",
      "18               language                                Portuguese (Brazil)\n",
      "19                   path             C:\\Program Files\\MetaTrader 5 Terminal\n",
      "20              data_path  C:\\Users\\danie\\AppData\\Roaming\\MetaQuotes\\Term...\n",
      "21        commondata_path  C:\\Users\\danie\\AppData\\Roaming\\MetaQuotes\\Term...\n"
     ]
    },
    {
     "data": {
      "text/plain": [
       "True"
      ]
     },
     "execution_count": 29,
     "metadata": {},
     "output_type": "execute_result"
    }
   ],
   "source": [
    "# exibimos informações sobre as configurações e o status do terminal\n",
    "terminal_info=mt5.terminal_info()\n",
    "if terminal_info!=None:\n",
    "    # exibimos os dados sobre o terminal tal qual como estão\n",
    "    print(terminal_info,'\\n')\n",
    "    # exibimos os dados como uma lista\n",
    "    print(\"Show terminal_info()._asdict():\")\n",
    "    terminal_info_dict = mt5.terminal_info()._asdict()\n",
    "    for prop in terminal_info_dict:\n",
    "        print(\"  {}={}\".format(prop, terminal_info_dict[prop]))\n",
    "    print()\n",
    "   # convertemos o dicionário num DataFrame e imprimimos\n",
    "    df=pd.DataFrame(list(terminal_info_dict.items()),columns=['property','value'])\n",
    "    print(\"terminal_info() as dataframe:\")\n",
    "    print(df)\n",
    " \n",
    "# concluímos a conexão ao terminal MetaTrader 5\n",
    "mt5.shutdown()"
   ]
  },
  {
   "cell_type": "code",
   "execution_count": 22,
   "metadata": {},
   "outputs": [
    {
     "name": "stdout",
     "output_type": "stream",
     "text": [
      "AccountInfo(login=1000349177, trade_mode=2, leverage=1, limit_orders=0, margin_so_mode=1, trade_allowed=True, trade_expert=True, margin_mode=0, currency_digits=2, fifo_close=False, balance=0.0, credit=0.0, profit=0.0, equity=0.0, margin=0.0, margin_free=0.0, margin_level=0.0, margin_so_call=0.0, margin_so_so=0.0, margin_initial=0.0, margin_maintenance=0.0, assets=0.0, liabilities=0.0, commission_blocked=0.0, name='DANIEL COSTA DELATTRE', server='CLEAR-PRD', currency='BRL', company='CLEAR CTVM S.A.')\n",
      "Show account_info()._asdict():\n",
      "  login=1000349177\n",
      "  trade_mode=2\n",
      "  leverage=1\n",
      "  limit_orders=0\n",
      "  margin_so_mode=1\n",
      "  trade_allowed=True\n",
      "  trade_expert=True\n",
      "  margin_mode=0\n",
      "  currency_digits=2\n",
      "  fifo_close=False\n",
      "  balance=0.0\n",
      "  credit=0.0\n",
      "  profit=0.0\n",
      "  equity=0.0\n",
      "  margin=0.0\n",
      "  margin_free=0.0\n",
      "  margin_level=0.0\n",
      "  margin_so_call=0.0\n",
      "  margin_so_so=0.0\n",
      "  margin_initial=0.0\n",
      "  margin_maintenance=0.0\n",
      "  assets=0.0\n",
      "  liabilities=0.0\n",
      "  commission_blocked=0.0\n",
      "  name=DANIEL COSTA DELATTRE\n",
      "  server=CLEAR-PRD\n",
      "  currency=BRL\n",
      "  company=CLEAR CTVM S.A.\n"
     ]
    }
   ],
   "source": [
    "account=1000349177\n",
    "authorized=mt5.login(account)\n",
    "if authorized:\n",
    "    # exibimos os dados sobre a conta de negociação como estão\n",
    "    print(mt5.account_info())\n",
    "    # exibimos os dados da conta de negociação como uma lista\n",
    "    print(\"Show account_info()._asdict():\")\n",
    "    account_info_dict = mt5.account_info()._asdict()\n",
    "    for prop in account_info_dict:\n",
    "        print(\"  {}={}\".format(prop, account_info_dict[prop]))\n",
    "else:\n",
    "    print(\"failed to connect at account #{}, error code: {}\".format('era pra ser o num da conta', mt5.last_error()))\n",
    " "
   ]
  },
  {
   "cell_type": "code",
   "execution_count": 20,
   "metadata": {},
   "outputs": [
    {
     "name": "stdout",
     "output_type": "stream",
     "text": [
      "  login=1000349177\n",
      "  trade_mode=2\n",
      "  leverage=1\n",
      "  limit_orders=0\n",
      "  margin_so_mode=1\n",
      "  trade_allowed=True\n",
      "  trade_expert=True\n",
      "  margin_mode=0\n",
      "  currency_digits=2\n",
      "  fifo_close=False\n",
      "  balance=0.0\n",
      "  credit=0.0\n",
      "  profit=0.0\n",
      "  equity=0.0\n",
      "  margin=0.0\n",
      "  margin_free=0.0\n",
      "  margin_level=0.0\n",
      "  margin_so_call=0.0\n",
      "  margin_so_so=0.0\n",
      "  margin_initial=0.0\n",
      "  margin_maintenance=0.0\n",
      "  assets=0.0\n",
      "  liabilities=0.0\n",
      "  commission_blocked=0.0\n",
      "  name=DANIEL COSTA DELATTRE\n",
      "  server=CLEAR-PRD\n",
      "  currency=BRL\n",
      "  company=CLEAR CTVM S.A.\n"
     ]
    }
   ],
   "source": [
    "account_info_dict = mt5.account_info()._asdict()\n",
    "for prop in account_info_dict:\n",
    "    print(\"  {}={}\".format(prop, account_info_dict[prop]))\n"
   ]
  },
  {
   "cell_type": "code",
   "execution_count": 33,
   "metadata": {},
   "outputs": [
    {
     "data": {
      "text/plain": [
       "(-10004, 'No IPC connection')"
      ]
     },
     "execution_count": 33,
     "metadata": {},
     "output_type": "execute_result"
    }
   ],
   "source": [
    "mt5.last_error()"
   ]
  },
  {
   "cell_type": "code",
   "execution_count": 43,
   "metadata": {},
   "outputs": [
    {
     "name": "stdout",
     "output_type": "stream",
     "text": [
      "login: 1000349177\n",
      "trade_mode: 2\n",
      "leverage: 1\n",
      "limit_orders: 0\n",
      "margin_so_mode: 1\n",
      "trade_allowed: True\n",
      "trade_expert: True\n",
      "margin_mode: 0\n",
      "currency_digits: 2\n",
      "fifo_close: False\n",
      "balance: 0.0\n",
      "credit: 0.0\n",
      "profit: 0.0\n",
      "equity: 0.0\n",
      "margin: 0.0\n",
      "margin_free: 0.0\n",
      "margin_level: 0.0\n",
      "margin_so_call: 0.0\n",
      "margin_so_so: 0.0\n",
      "margin_initial: 0.0\n",
      "margin_maintenance: 0.0\n",
      "assets: 0.0\n",
      "liabilities: 0.0\n",
      "commission_blocked: 0.0\n",
      "name: DANIEL COSTA DELATTRE\n",
      "server: CLEAR-PRD\n",
      "currency: BRL\n",
      "company: CLEAR CTVM S.A.\n"
     ]
    }
   ],
   "source": [
    "dic = mt5.account_info()._asdict()\n",
    "for k,v in dic.items():\n",
    "    print(f'{k}: {v}')"
   ]
  },
  {
   "cell_type": "code",
   "execution_count": 53,
   "metadata": {},
   "outputs": [
    {
     "data": {
      "text/plain": [
       "()"
      ]
     },
     "execution_count": 53,
     "metadata": {},
     "output_type": "execute_result"
    }
   ],
   "source": [
    "mt5.symbols_get(group=\"GROUP\")"
   ]
  },
  {
   "cell_type": "code",
   "execution_count": 7,
   "metadata": {},
   "outputs": [
    {
     "name": "stdout",
     "output_type": "stream",
     "text": [
      "MetaTrader5 package author:  MetaQuotes Software Corp.\n",
      "MetaTrader5 package version:  5.0.33\n",
      "len(*DOL*):  23\n",
      "FIND\n",
      "FIND11\n",
      "INDX11\n",
      "INDX\n",
      "INDQ20\n",
      "IND$\n",
      "IND@\n",
      "IND$D\n",
      "IND$N\n",
      "IND@D\n",
      "IND@N\n",
      "INDV20\n",
      "INDZ20\n",
      "INDG21\n",
      "INDJ21\n",
      "INDM21\n",
      "INDQ21\n",
      "INDV21\n",
      "INDZ21\n",
      "INDG22\n",
      "INDJ22\n",
      "INDM22\n",
      "INDQ22\n",
      "\n"
     ]
    },
    {
     "data": {
      "text/plain": [
       "True"
      ]
     },
     "execution_count": 7,
     "metadata": {},
     "output_type": "execute_result"
    }
   ],
   "source": [
    "import MetaTrader5 as mt5\n",
    "# exibimos dados sobre o pacote MetaTrader5\n",
    "print(\"MetaTrader5 package author: \",mt5.__author__)\n",
    "print(\"MetaTrader5 package version: \",mt5.__version__)\n",
    " \n",
    "# estabelecemos a conexão ao MetaTrader 5\n",
    "if not mt5.initialize():\n",
    "    print(\"initialize() failed, error code =\",mt5.last_error())\n",
    "    quit()\n",
    "''' \n",
    "# obtemos todos os símbolos\n",
    "symbols=mt5.symbols_get()\n",
    "print('Symbols: ', len(symbols))\n",
    "count=0\n",
    "# exibimos os 5 primeiros\n",
    "for s in symbols:\n",
    "    count+=1\n",
    "    print(\"{}. {}\".format(count,s.name))\n",
    "    if count==5: break\n",
    "print()'''\n",
    " \n",
    "# obtemos símbolos cujos nomes contêm RU\n",
    "ru_symbols=mt5.symbols_get(\"*IND*\")\n",
    "print('len(*DOL*): ', len(ru_symbols))\n",
    "for s in ru_symbols:\n",
    "    print(s.name)\n",
    "print()\n",
    " \n",
    " \n",
    "# concluímos a conexão ao terminal MetaTrader 5\n",
    "mt5.shutdown()"
   ]
  },
  {
   "cell_type": "markdown",
   "metadata": {},
   "source": [
    "## Info sobre um código \n"
   ]
  },
  {
   "cell_type": "code",
   "execution_count": 58,
   "metadata": {},
   "outputs": [
    {
     "name": "stdout",
     "output_type": "stream",
     "text": [
      "MetaTrader5 package author:  MetaQuotes Software Corp. \n",
      "\n",
      "MetaTrader5 package version:  5.0.33 \n",
      "\n",
      "SymbolInfo(custom=False, chart_mode=1, select=True, visible=True, session_deals=32146, session_buy_orders=0, session_sell_orders=0, volume=300, volumehigh=18647120494, volumelow=2400, time=1593447480, digits=2, spread=1, spread_float=True, ticks_bookdepth=32, trade_calc_mode=32, trade_mode=4, start_time=0, expiration_time=0, trade_stops_level=0, trade_freeze_level=0, trade_exemode=3, swap_mode=0, swap_rollover3days=3, margin_hedged_use_leg=False, expiration_mode=2, filling_mode=3, order_mode=127, ...)\n",
      "ITSA4: spread = 1   digits = 2\n",
      "Show symbol_info(\"ITSA4\")._asdict():\n",
      "  custom=False\n",
      "  chart_mode=1\n",
      "  select=True\n",
      "  visible=True\n",
      "  session_deals=32146\n",
      "  session_buy_orders=0\n",
      "  session_sell_orders=0\n",
      "  volume=300\n",
      "  volumehigh=18647120494\n",
      "  volumelow=2400\n",
      "  time=1593447480\n",
      "  digits=2\n",
      "  spread=1\n",
      "  spread_float=True\n",
      "  ticks_bookdepth=32\n",
      "  trade_calc_mode=32\n",
      "  trade_mode=4\n",
      "  start_time=0\n",
      "  expiration_time=0\n",
      "  trade_stops_level=0\n",
      "  trade_freeze_level=0\n",
      "  trade_exemode=3\n",
      "  swap_mode=0\n",
      "  swap_rollover3days=3\n",
      "  margin_hedged_use_leg=False\n",
      "  expiration_mode=2\n",
      "  filling_mode=3\n",
      "  order_mode=127\n",
      "  order_gtc_mode=0\n",
      "  option_mode=0\n",
      "  option_right=0\n",
      "  bid=9.83\n",
      "  bidhigh=10.1\n",
      "  bidlow=9.59\n",
      "  ask=9.84\n",
      "  askhigh=9.98\n",
      "  asklow=9.6\n",
      "  last=9.84\n",
      "  lasthigh=9.9\n",
      "  lastlow=9.66\n",
      "  volume_real=300.0\n",
      "  volumehigh_real=18647120494.23024\n",
      "  volumelow_real=2400.0\n",
      "  option_strike=0.0\n",
      "  point=0.01\n",
      "  trade_tick_value=0.01\n",
      "  trade_tick_value_profit=0.01\n",
      "  trade_tick_value_loss=0.01\n",
      "  trade_tick_size=0.01\n",
      "  trade_contract_size=1.0\n",
      "  trade_accrued_interest=0.0\n",
      "  trade_face_value=0.0\n",
      "  trade_liquidity_rate=0.0\n",
      "  volume_min=100.0\n",
      "  volume_max=55209772.0\n",
      "  volume_step=100.0\n",
      "  volume_limit=0.0\n",
      "  swap_long=0.0\n",
      "  swap_short=0.0\n",
      "  margin_initial=0.0\n",
      "  margin_maintenance=0.0\n",
      "  session_volume=36727200.0\n",
      "  session_turnover=0.0\n",
      "  session_interest=0.0\n",
      "  session_buy_orders_volume=0.0\n",
      "  session_sell_orders_volume=0.0\n",
      "  session_open=9.74\n",
      "  session_close=0.0\n",
      "  session_aw=9.81\n",
      "  session_price_settlement=0.0\n",
      "  session_price_limit_min=0.0\n",
      "  session_price_limit_max=0.0\n",
      "  margin_hedged=0.0\n",
      "  price_change=0.0\n",
      "  price_volatility=0.0\n",
      "  price_theoretical=0.0\n",
      "  price_greeks_delta=0.0\n",
      "  price_greeks_theta=0.0\n",
      "  price_greeks_gamma=0.0\n",
      "  price_greeks_vega=0.0\n",
      "  price_greeks_rho=0.0\n",
      "  price_greeks_omega=0.0\n",
      "  price_sensitivity=0.0\n",
      "  basis=\n",
      "  category=\n",
      "  currency_base=BRL\n",
      "  currency_profit=BRL\n",
      "  currency_margin=BRL\n",
      "  bank=\n",
      "  description=ITAUSA      PN      N1\n",
      "  exchange=\n",
      "  formula=\n",
      "  isin=BRITSAACNPR7\n",
      "  name=ITSA4\n",
      "  page=\n",
      "  path=BOVESPA\\A VISTA\\ITSA4\n"
     ]
    },
    {
     "data": {
      "text/plain": [
       "True"
      ]
     },
     "execution_count": 58,
     "metadata": {},
     "output_type": "execute_result"
    }
   ],
   "source": [
    "import MetaTrader5 as mt5\n",
    "# exibimos dados sobre o pacote MetaTrader5\n",
    "print(\"MetaTrader5 package author: \",mt5.__author__,\"\\n\")\n",
    "print(\"MetaTrader5 package version: \",mt5.__version__,\"\\n\")\n",
    " \n",
    "# estabelecemos a conexão ao MetaTrader 5\n",
    "if not mt5.initialize():\n",
    "    print(\"initialize() failed, error code =\",mt5.last_error())\n",
    "    quit()\n",
    " \n",
    "# tentamos ativar a exibição do símbolo EURJPY no MarketWatch\n",
    "selected=mt5.symbol_select(\"ITSA4\",True)\n",
    "if not selected:\n",
    "    print(\"Failed to select ITSA4\")\n",
    "    mt5.shutdown()\n",
    "    quit()\n",
    " \n",
    "# imprimimos as propriedades do símbolo EURJPY\n",
    "symbol_info=mt5.symbol_info(\"ITSA4\")\n",
    "if symbol_info!=None:\n",
    "    # exibimos os dados sobre o terminal tal qual como estão    \n",
    "    print(symbol_info)\n",
    "    print(\"ITSA4: spread =\",symbol_info.spread,\"  digits =\",symbol_info.digits)\n",
    "    # exibimos as propriedades do símbolo como uma lista\n",
    "    print(\"Show symbol_info(\\\"ITSA4\\\")._asdict():\")\n",
    "    symbol_info_dict = mt5.symbol_info(\"ITSA4\")._asdict()\n",
    "    for prop in symbol_info_dict:\n",
    "        print(\"  {}={}\".format(prop, symbol_info_dict[prop]))\n",
    " \n",
    "# concluímos a conexão ao terminal MetaTrader 5\n",
    "mt5.shutdown()\n",
    " "
   ]
  },
  {
   "cell_type": "code",
   "execution_count": 60,
   "metadata": {},
   "outputs": [
    {
     "name": "stdout",
     "output_type": "stream",
     "text": [
      "Show symbol_info(\"ITSA4\")._asdict():\n",
      "custom: False\n",
      "chart_mode: 1\n",
      "select: True\n",
      "visible: True\n",
      "session_deals: 32374\n",
      "session_buy_orders: 0\n",
      "session_sell_orders: 0\n",
      "volume: 2000\n",
      "volumehigh: 18647120494\n",
      "volumelow: 2400\n",
      "time: 1593447606\n",
      "digits: 2\n",
      "spread: 1\n",
      "spread_float: True\n",
      "ticks_bookdepth: 32\n",
      "trade_calc_mode: 32\n",
      "trade_mode: 4\n",
      "start_time: 0\n",
      "expiration_time: 0\n",
      "trade_stops_level: 0\n",
      "trade_freeze_level: 0\n",
      "trade_exemode: 3\n",
      "swap_mode: 0\n",
      "swap_rollover3days: 3\n",
      "margin_hedged_use_leg: False\n",
      "expiration_mode: 2\n",
      "filling_mode: 3\n",
      "order_mode: 127\n",
      "order_gtc_mode: 0\n",
      "option_mode: 0\n",
      "option_right: 0\n",
      "bid: 9.83\n",
      "bidhigh: 10.1\n",
      "bidlow: 9.59\n",
      "ask: 9.84\n",
      "askhigh: 9.98\n",
      "asklow: 9.6\n",
      "last: 9.84\n",
      "lasthigh: 9.9\n",
      "lastlow: 9.66\n",
      "volume_real: 2000.0\n",
      "volumehigh_real: 18647120494.23024\n",
      "volumelow_real: 2400.0\n",
      "option_strike: 0.0\n",
      "point: 0.01\n",
      "trade_tick_value: 0.01\n",
      "trade_tick_value_profit: 0.01\n",
      "trade_tick_value_loss: 0.01\n",
      "trade_tick_size: 0.01\n",
      "trade_contract_size: 1.0\n",
      "trade_accrued_interest: 0.0\n",
      "trade_face_value: 0.0\n",
      "trade_liquidity_rate: 0.0\n",
      "volume_min: 100.0\n",
      "volume_max: 55209772.0\n",
      "volume_step: 100.0\n",
      "volume_limit: 0.0\n",
      "swap_long: 0.0\n",
      "swap_short: 0.0\n",
      "margin_initial: 0.0\n",
      "margin_maintenance: 0.0\n",
      "session_volume: 36819300.0\n",
      "session_turnover: 0.0\n",
      "session_interest: 0.0\n",
      "session_buy_orders_volume: 0.0\n",
      "session_sell_orders_volume: 0.0\n",
      "session_open: 9.74\n",
      "session_close: 0.0\n",
      "session_aw: 9.82\n",
      "session_price_settlement: 0.0\n",
      "session_price_limit_min: 0.0\n",
      "session_price_limit_max: 0.0\n",
      "margin_hedged: 0.0\n",
      "price_change: 0.0\n",
      "price_volatility: 0.0\n",
      "price_theoretical: 0.0\n",
      "price_greeks_delta: 0.0\n",
      "price_greeks_theta: 0.0\n",
      "price_greeks_gamma: 0.0\n",
      "price_greeks_vega: 0.0\n",
      "price_greeks_rho: 0.0\n",
      "price_greeks_omega: 0.0\n",
      "price_sensitivity: 0.0\n",
      "basis: \n",
      "category: \n",
      "currency_base: BRL\n",
      "currency_profit: BRL\n",
      "currency_margin: BRL\n",
      "bank: \n",
      "description: ITAUSA      PN      N1\n",
      "exchange: \n",
      "formula: \n",
      "isin: BRITSAACNPR7\n",
      "name: ITSA4\n",
      "page: \n",
      "path: BOVESPA\\A VISTA\\ITSA4\n"
     ]
    }
   ],
   "source": [
    "mt5.initialize()\n",
    "print(\"Show symbol_info(\\\"ITSA4\\\")._asdict():\")\n",
    "symbol_info_dict = mt5.symbol_info(\"ITSA4\")._asdict()\n",
    "for k,v in symbol_info_dict.items():\n",
    "    print(f'{k}: {v}')"
   ]
  },
  {
   "cell_type": "code",
   "execution_count": 64,
   "metadata": {},
   "outputs": [
    {
     "name": "stdout",
     "output_type": "stream",
     "text": [
      "Tick(time=1593447844, bid=9.83, ask=9.84, last=9.84, volume=100, time_msc=1593447844572, flags=0, volume_real=100.0) \n",
      "\n",
      "Show symbol_info_tick(\"ITSA4\")._asdict():\n",
      "  time=1593447844\n",
      "  bid=9.83\n",
      "  ask=9.84\n",
      "  last=9.84\n",
      "  volume=100\n",
      "  time_msc=1593447844572\n",
      "  flags=0\n",
      "  volume_real=100.0\n"
     ]
    },
    {
     "data": {
      "text/plain": [
       "True"
      ]
     },
     "execution_count": 64,
     "metadata": {},
     "output_type": "execute_result"
    }
   ],
   "source": [
    "import MetaTrader5 as mt5\n",
    "\n",
    "if not mt5.initialize():\n",
    "    print(\"initialize() failed, error code =\",mt5.last_error())\n",
    "    quit()\n",
    " \n",
    "# tentamos ativar a exibição do símbolo GBPUSD no MarketWatch\n",
    "selected=mt5.symbol_select(\"ITSA4\",True)\n",
    "if not selected:\n",
    "    print(\"Failed to select ITSA4\")\n",
    "    mt5.shutdown()\n",
    "    quit()\n",
    " \n",
    "# imprimimos o último tick do símbolo GBPUSD\n",
    "lasttick=mt5.symbol_info_tick(\"ITSA4\")\n",
    "print(lasttick,'\\n')\n",
    "# imprimimos os valores dos campos de tick como uma lista\n",
    "print(\"Show symbol_info_tick(\\\"ITSA4\\\")._asdict():\")\n",
    "symbol_info_tick_dict = mt5.symbol_info_tick(\"ITSA4\")._asdict()\n",
    "for prop in symbol_info_tick_dict:\n",
    "    print(\"  {}={}\".format(prop, symbol_info_tick_dict[prop]))\n",
    " \n",
    "# concluímos a conexão ao terminal MetaTrader 5\n",
    "mt5.shutdown()"
   ]
  },
  {
   "cell_type": "code",
   "execution_count": 4,
   "metadata": {},
   "outputs": [
    {
     "data": {
      "text/plain": [
       "Tick(time=1593805500, bid=9.96, ask=9.99, last=9.99, volume=200, time_msc=1593805500996, flags=30, volume_real=200.0)"
      ]
     },
     "execution_count": 4,
     "metadata": {},
     "output_type": "execute_result"
    }
   ],
   "source": [
    "mt5.initialize()\n",
    "lasttick=mt5.symbol_info_tick(\"WIN$\")\n",
    "lasttick"
   ]
  },
  {
   "cell_type": "code",
   "execution_count": null,
   "metadata": {},
   "outputs": [],
   "source": []
  }
 ],
 "metadata": {
  "kernelspec": {
   "display_name": "Python 3",
   "language": "python",
   "name": "python3"
  },
  "language_info": {
   "codemirror_mode": {
    "name": "ipython",
    "version": 3
   },
   "file_extension": ".py",
   "mimetype": "text/x-python",
   "name": "python",
   "nbconvert_exporter": "python",
   "pygments_lexer": "ipython3",
   "version": "3.7.4"
  }
 },
 "nbformat": 4,
 "nbformat_minor": 4
}
