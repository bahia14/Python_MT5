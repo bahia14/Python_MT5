{
 "cells": [
  {
   "cell_type": "code",
   "execution_count": 1,
   "metadata": {},
   "outputs": [],
   "source": [
    "import pandas as pd\n",
    "import numpy as np\n",
    "import math\n",
    "import matplotlib.pyplot as plt \n",
    "import seaborn\n",
    "import statsmodels.api as sm\n",
    "from scipy.stats import zscore\n",
    "from statsmodels import regression\n",
    "from statsmodels.tsa.stattools import coint\n"
   ]
  },
  {
   "cell_type": "code",
   "execution_count": 62,
   "metadata": {},
   "outputs": [],
   "source": [
    "data = pd.read_excel('/home/daniel/Desktop/Projetos/mql_python/Relatório 1/dados_relatorio.xlsx')"
   ]
  },
  {
   "cell_type": "code",
   "execution_count": 74,
   "metadata": {},
   "outputs": [
    {
     "data": {
      "text/html": [
       "<div>\n",
       "<style scoped>\n",
       "    .dataframe tbody tr th:only-of-type {\n",
       "        vertical-align: middle;\n",
       "    }\n",
       "\n",
       "    .dataframe tbody tr th {\n",
       "        vertical-align: top;\n",
       "    }\n",
       "\n",
       "    .dataframe thead th {\n",
       "        text-align: right;\n",
       "    }\n",
       "</style>\n",
       "<table border=\"1\" class=\"dataframe\">\n",
       "  <thead>\n",
       "    <tr style=\"text-align: right;\">\n",
       "      <th></th>\n",
       "      <th>itub</th>\n",
       "      <th>itsa</th>\n",
       "      <th>close ITUB4</th>\n",
       "      <th>close ITSA4</th>\n",
       "    </tr>\n",
       "  </thead>\n",
       "  <tbody>\n",
       "    <tr>\n",
       "      <th>1</th>\n",
       "      <td>10.60</td>\n",
       "      <td>3.82</td>\n",
       "      <td>0.000944</td>\n",
       "      <td>0.000000</td>\n",
       "    </tr>\n",
       "    <tr>\n",
       "      <th>2</th>\n",
       "      <td>10.52</td>\n",
       "      <td>3.81</td>\n",
       "      <td>-0.007547</td>\n",
       "      <td>-0.002618</td>\n",
       "    </tr>\n",
       "    <tr>\n",
       "      <th>3</th>\n",
       "      <td>10.60</td>\n",
       "      <td>3.83</td>\n",
       "      <td>0.007605</td>\n",
       "      <td>0.005249</td>\n",
       "    </tr>\n",
       "    <tr>\n",
       "      <th>4</th>\n",
       "      <td>10.66</td>\n",
       "      <td>3.85</td>\n",
       "      <td>0.005660</td>\n",
       "      <td>0.005222</td>\n",
       "    </tr>\n",
       "    <tr>\n",
       "      <th>5</th>\n",
       "      <td>10.80</td>\n",
       "      <td>3.91</td>\n",
       "      <td>0.013133</td>\n",
       "      <td>0.015584</td>\n",
       "    </tr>\n",
       "    <tr>\n",
       "      <th>...</th>\n",
       "      <td>...</td>\n",
       "      <td>...</td>\n",
       "      <td>...</td>\n",
       "      <td>...</td>\n",
       "    </tr>\n",
       "    <tr>\n",
       "      <th>1970</th>\n",
       "      <td>35.38</td>\n",
       "      <td>13.37</td>\n",
       "      <td>-0.004502</td>\n",
       "      <td>-0.008895</td>\n",
       "    </tr>\n",
       "    <tr>\n",
       "      <th>1971</th>\n",
       "      <td>35.71</td>\n",
       "      <td>13.46</td>\n",
       "      <td>0.009327</td>\n",
       "      <td>0.006731</td>\n",
       "    </tr>\n",
       "    <tr>\n",
       "      <th>1972</th>\n",
       "      <td>36.26</td>\n",
       "      <td>13.70</td>\n",
       "      <td>0.015402</td>\n",
       "      <td>0.017831</td>\n",
       "    </tr>\n",
       "    <tr>\n",
       "      <th>1973</th>\n",
       "      <td>36.16</td>\n",
       "      <td>13.64</td>\n",
       "      <td>-0.002758</td>\n",
       "      <td>-0.004380</td>\n",
       "    </tr>\n",
       "    <tr>\n",
       "      <th>1974</th>\n",
       "      <td>35.96</td>\n",
       "      <td>13.60</td>\n",
       "      <td>-0.005531</td>\n",
       "      <td>-0.002933</td>\n",
       "    </tr>\n",
       "  </tbody>\n",
       "</table>\n",
       "<p>1974 rows × 4 columns</p>\n",
       "</div>"
      ],
      "text/plain": [
       "       itub   itsa  close ITUB4  close ITSA4\n",
       "1     10.60   3.82     0.000944     0.000000\n",
       "2     10.52   3.81    -0.007547    -0.002618\n",
       "3     10.60   3.83     0.007605     0.005249\n",
       "4     10.66   3.85     0.005660     0.005222\n",
       "5     10.80   3.91     0.013133     0.015584\n",
       "...     ...    ...          ...          ...\n",
       "1970  35.38  13.37    -0.004502    -0.008895\n",
       "1971  35.71  13.46     0.009327     0.006731\n",
       "1972  36.26  13.70     0.015402     0.017831\n",
       "1973  36.16  13.64    -0.002758    -0.004380\n",
       "1974  35.96  13.60    -0.005531    -0.002933\n",
       "\n",
       "[1974 rows x 4 columns]"
      ]
     },
     "execution_count": 74,
     "metadata": {},
     "output_type": "execute_result"
    }
   ],
   "source": [
    "s1,s2 = 'close ITUB4','close ITSA4'\n",
    "dados = data[[s1,s2]].copy()\n",
    "dados['ch ITUB4'],dados['ch ITSA4'] = dados[s1].pct_change(),dados[s2].pct_change()\n",
    "dados = dados[1:]\n",
    "dados.columns = ['itub','itsa',s1,s2]\n",
    "dados"
   ]
  },
  {
   "cell_type": "code",
   "execution_count": 4,
   "metadata": {},
   "outputs": [
    {
     "name": "stdout",
     "output_type": "stream",
     "text": [
      "0.0\n"
     ]
    }
   ],
   "source": [
    "score, pvalue, _ = coint(dados[s1], dados[s2])\n",
    "print(pvalue)"
   ]
  },
  {
   "cell_type": "code",
   "execution_count": 43,
   "metadata": {},
   "outputs": [],
   "source": [
    "c = 0\n",
    "period = 30\n",
    "list_zs = [None]*period\n",
    "for i in range(period,len(dados)):\n",
    "    S1 = dados[s1][c:i]\n",
    "    S2 = dados[s2][c:i]\n",
    "    S1 = sm.add_constant(S1)\n",
    "    results = sm.OLS(S2,S1).fit()\n",
    "    S1 = S1[s1]\n",
    "    b = results.params[s1]\n",
    "    spread = S2 - (b*S1)\n",
    "    zs = zscore(spread)\n",
    "    list_zs.append(zs[-1])\n",
    "    c+=1"
   ]
  },
  {
   "cell_type": "code",
   "execution_count": 6,
   "metadata": {},
   "outputs": [
    {
     "data": {
      "text/plain": [
       "[<matplotlib.lines.Line2D at 0x7ff0e4bd1dc0>]"
      ]
     },
     "execution_count": 6,
     "metadata": {},
     "output_type": "execute_result"
    },
    {
     "data": {
      "image/png": "[encoded data removed]",
      "text/plain": [
       "<Figure size 432x288 with 1 Axes>"
      ]
     },
     "metadata": {
      "needs_background": "light"
     },
     "output_type": "display_data"
    }
   ],
   "source": [
    "plt.plot(list_zs)"
   ]
  },
  {
   "cell_type": "code",
   "execution_count": 53,
   "metadata": {},
   "outputs": [
    {
     "data": {
      "text/html": [
       "<div>\n",
       "<style scoped>\n",
       "    .dataframe tbody tr th:only-of-type {\n",
       "        vertical-align: middle;\n",
       "    }\n",
       "\n",
       "    .dataframe tbody tr th {\n",
       "        vertical-align: top;\n",
       "    }\n",
       "\n",
       "    .dataframe thead th {\n",
       "        text-align: right;\n",
       "    }\n",
       "</style>\n",
       "<table border=\"1\" class=\"dataframe\">\n",
       "  <thead>\n",
       "    <tr style=\"text-align: right;\">\n",
       "      <th></th>\n",
       "      <th>0</th>\n",
       "    </tr>\n",
       "  </thead>\n",
       "  <tbody>\n",
       "    <tr>\n",
       "      <th>count</th>\n",
       "      <td>1944.000000</td>\n",
       "    </tr>\n",
       "    <tr>\n",
       "      <th>mean</th>\n",
       "      <td>-0.008732</td>\n",
       "    </tr>\n",
       "    <tr>\n",
       "      <th>std</th>\n",
       "      <td>1.002326</td>\n",
       "    </tr>\n",
       "    <tr>\n",
       "      <th>min</th>\n",
       "      <td>-3.467180</td>\n",
       "    </tr>\n",
       "    <tr>\n",
       "      <th>25%</th>\n",
       "      <td>-0.667368</td>\n",
       "    </tr>\n",
       "    <tr>\n",
       "      <th>50%</th>\n",
       "      <td>0.003206</td>\n",
       "    </tr>\n",
       "    <tr>\n",
       "      <th>75%</th>\n",
       "      <td>0.639419</td>\n",
       "    </tr>\n",
       "    <tr>\n",
       "      <th>max</th>\n",
       "      <td>3.477561</td>\n",
       "    </tr>\n",
       "  </tbody>\n",
       "</table>\n",
       "</div>"
      ],
      "text/plain": [
       "                 0\n",
       "count  1944.000000\n",
       "mean     -0.008732\n",
       "std       1.002326\n",
       "min      -3.467180\n",
       "25%      -0.667368\n",
       "50%       0.003206\n",
       "75%       0.639419\n",
       "max       3.477561"
      ]
     },
     "execution_count": 53,
     "metadata": {},
     "output_type": "execute_result"
    }
   ],
   "source": [
    "bbb = pd.DataFrame(list_zs)\n",
    "bbb.describe()"
   ]
  },
  {
   "cell_type": "code",
   "execution_count": null,
   "metadata": {},
   "outputs": [],
   "source": []
  }
 ],
 "metadata": {
  "kernelspec": {
   "display_name": "Python 3",
   "language": "python",
   "name": "python3"
  },
  "language_info": {
   "codemirror_mode": {
    "name": "ipython",
    "version": 3
   },
   "file_extension": ".py",
   "mimetype": "text/x-python",
   "name": "python",
   "nbconvert_exporter": "python",
   "pygments_lexer": "ipython3",
   "version": "3.8.3"
  }
 },
 "nbformat": 4,
 "nbformat_minor": 4
}
