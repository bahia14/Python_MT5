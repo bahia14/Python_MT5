{
 "cells": [
  {
   "cell_type": "code",
   "execution_count": 56,
   "metadata": {},
   "outputs": [],
   "source": [
    "import pandas as pd\n",
    "import numpy as np\n",
    "import math\n",
    "import matplotlib.pyplot as plt \n",
    "import seaborn\n",
    "import statsmodels.api as sm\n",
    "from scipy.stats import zscore\n",
    "from statsmodels import regression\n",
    "from statsmodels.tsa.stattools import coint"
   ]
  },
  {
   "cell_type": "code",
   "execution_count": 64,
   "metadata": {},
   "outputs": [],
   "source": [
    "data = pd.read_excel('/home/daniel/Desktop/Projetos/mql_python/Relatório 1/dados_relatorio.xlsx')\n",
    "# tickers = ['close IBOV', 'close ABEV3', 'close B3SA3', 'close BBAS3', 'close BBDC3', 'close BBDC4', 'close BEEF3', 'close BRAP4', 'close BRFS3', 'close BRKM5', 'close BRML3', 'close BTOW3', 'close CCRO3', 'close CIEL3', 'close CMIG4', 'close COGN3', 'close CPFE3', 'close CSAN3', 'close CSNA3', 'close CYRE3', 'close ECOR3', 'close ELET3', 'close ELET6', 'close EMBR3', 'close ENBR3', 'close EQTL3', 'close FLRY3', 'close GGBR4', 'close GOAU4', 'close GOLL4', 'close HGTX3', 'close HYPE3', 'close IGTA3', 'close ITSA4', 'close ITUB4', 'close JBSS3', 'close LAME4', 'close LREN3', 'close MGLU3', 'close MRFG3', 'close MRVE3', 'close MULT3', 'close NTCO3', 'close PETR3', 'close PETR4', 'close QUAL3', 'close RADL3', 'close RAIL3', 'close RENT3', 'close SANB11', 'close SBSP3', 'close SULA11', 'close SUZB3', 'close TIMP3', 'close TOTS3', 'close UGPA3', 'close USIM5', 'close VALE3', 'close VIVT4', 'close WEGE3', 'close YDUQ3']\n",
    "# dados = data[tickers]"
   ]
  },
  {
   "cell_type": "code",
   "execution_count": 65,
   "metadata": {},
   "outputs": [],
   "source": [
    "tickers = ['close IBOV', 'close B3SA3', 'close BBAS3', 'close BBDC4','close ITSA4']\n",
    "dados = data[tickers][1000:]          "
   ]
  },
  {
   "cell_type": "code",
   "execution_count": 67,
   "metadata": {},
   "outputs": [
    {
     "data": {
      "text/html": [
       "<div>\n",
       "<style scoped>\n",
       "    .dataframe tbody tr th:only-of-type {\n",
       "        vertical-align: middle;\n",
       "    }\n",
       "\n",
       "    .dataframe tbody tr th {\n",
       "        vertical-align: top;\n",
       "    }\n",
       "\n",
       "    .dataframe thead th {\n",
       "        text-align: right;\n",
       "    }\n",
       "</style>\n",
       "<table border=\"1\" class=\"dataframe\">\n",
       "  <thead>\n",
       "    <tr style=\"text-align: right;\">\n",
       "      <th></th>\n",
       "      <th>close IBOV</th>\n",
       "      <th>close B3SA3</th>\n",
       "      <th>close BBAS3</th>\n",
       "      <th>close BBDC4</th>\n",
       "      <th>close ITSA4</th>\n",
       "    </tr>\n",
       "  </thead>\n",
       "  <tbody>\n",
       "    <tr>\n",
       "      <th>1000</th>\n",
       "      <td>37717</td>\n",
       "      <td>9.00</td>\n",
       "      <td>10.72</td>\n",
       "      <td>8.20</td>\n",
       "      <td>3.75</td>\n",
       "    </tr>\n",
       "    <tr>\n",
       "      <th>1001</th>\n",
       "      <td>38031</td>\n",
       "      <td>8.97</td>\n",
       "      <td>10.96</td>\n",
       "      <td>8.37</td>\n",
       "      <td>3.81</td>\n",
       "    </tr>\n",
       "    <tr>\n",
       "      <th>1002</th>\n",
       "      <td>37497</td>\n",
       "      <td>8.89</td>\n",
       "      <td>10.87</td>\n",
       "      <td>8.28</td>\n",
       "      <td>3.87</td>\n",
       "    </tr>\n",
       "    <tr>\n",
       "      <th>1003</th>\n",
       "      <td>38376</td>\n",
       "      <td>9.17</td>\n",
       "      <td>10.71</td>\n",
       "      <td>8.38</td>\n",
       "      <td>3.88</td>\n",
       "    </tr>\n",
       "    <tr>\n",
       "      <th>1004</th>\n",
       "      <td>38630</td>\n",
       "      <td>9.26</td>\n",
       "      <td>10.95</td>\n",
       "      <td>8.39</td>\n",
       "      <td>3.96</td>\n",
       "    </tr>\n",
       "    <tr>\n",
       "      <th>...</th>\n",
       "      <td>...</td>\n",
       "      <td>...</td>\n",
       "      <td>...</td>\n",
       "      <td>...</td>\n",
       "      <td>...</td>\n",
       "    </tr>\n",
       "    <tr>\n",
       "      <th>1970</th>\n",
       "      <td>115121</td>\n",
       "      <td>47.96</td>\n",
       "      <td>50.45</td>\n",
       "      <td>32.23</td>\n",
       "      <td>13.37</td>\n",
       "    </tr>\n",
       "    <tr>\n",
       "      <th>1971</th>\n",
       "      <td>115863</td>\n",
       "      <td>45.78</td>\n",
       "      <td>51.98</td>\n",
       "      <td>32.43</td>\n",
       "      <td>13.46</td>\n",
       "    </tr>\n",
       "    <tr>\n",
       "      <th>1972</th>\n",
       "      <td>117203</td>\n",
       "      <td>45.57</td>\n",
       "      <td>52.57</td>\n",
       "      <td>32.83</td>\n",
       "      <td>13.70</td>\n",
       "    </tr>\n",
       "    <tr>\n",
       "      <th>1973</th>\n",
       "      <td>116534</td>\n",
       "      <td>43.19</td>\n",
       "      <td>52.34</td>\n",
       "      <td>32.71</td>\n",
       "      <td>13.64</td>\n",
       "    </tr>\n",
       "    <tr>\n",
       "      <th>1974</th>\n",
       "      <td>115645</td>\n",
       "      <td>41.97</td>\n",
       "      <td>52.19</td>\n",
       "      <td>32.66</td>\n",
       "      <td>13.60</td>\n",
       "    </tr>\n",
       "  </tbody>\n",
       "</table>\n",
       "<p>975 rows × 5 columns</p>\n",
       "</div>"
      ],
      "text/plain": [
       "      close IBOV  close B3SA3  close BBAS3  close BBDC4  close ITSA4\n",
       "1000       37717         9.00        10.72         8.20         3.75\n",
       "1001       38031         8.97        10.96         8.37         3.81\n",
       "1002       37497         8.89        10.87         8.28         3.87\n",
       "1003       38376         9.17        10.71         8.38         3.88\n",
       "1004       38630         9.26        10.95         8.39         3.96\n",
       "...          ...          ...          ...          ...          ...\n",
       "1970      115121        47.96        50.45        32.23        13.37\n",
       "1971      115863        45.78        51.98        32.43        13.46\n",
       "1972      117203        45.57        52.57        32.83        13.70\n",
       "1973      116534        43.19        52.34        32.71        13.64\n",
       "1974      115645        41.97        52.19        32.66        13.60\n",
       "\n",
       "[975 rows x 5 columns]"
      ]
     },
     "execution_count": 67,
     "metadata": {},
     "output_type": "execute_result"
    }
   ],
   "source": [
    "dados"
   ]
  },
  {
   "cell_type": "code",
   "execution_count": 68,
   "metadata": {},
   "outputs": [
    {
     "name": "stdout",
     "output_type": "stream",
     "text": [
      "0.012162351000029048\n"
     ]
    }
   ],
   "source": [
    "import time\n",
    "\n",
    "start = time.process_time()\n",
    "s = 0\n",
    "for index in dados.index:\n",
    "    for stock in dados.columns:\n",
    "        s+=1\n",
    "#         print(dados[stock][dados.index == index].values[0])\n",
    "# your code here    \n",
    "print(time.process_time() - start)"
   ]
  },
  {
   "cell_type": "code",
   "execution_count": 69,
   "metadata": {},
   "outputs": [
    {
     "name": "stdout",
     "output_type": "stream",
     "text": [
      "0.0071255870000186405\n"
     ]
    }
   ],
   "source": [
    "start = time.process_time()\n",
    "s =0 \n",
    "for stock in dados.columns:\n",
    "    for index in dados.index:\n",
    "        s+=1\n",
    "#         print(stock)\n",
    "#         print(dados[stock][dados.index == index].values[0])\n",
    "        \n",
    "print(time.process_time() - start)        "
   ]
  },
  {
   "cell_type": "code",
   "execution_count": 70,
   "metadata": {},
   "outputs": [],
   "source": [
    "momentaneo = dados.copy()"
   ]
  },
  {
   "cell_type": "code",
   "execution_count": 71,
   "metadata": {
    "scrolled": true
   },
   "outputs": [
    {
     "data": {
      "text/html": [
       "<div>\n",
       "<style scoped>\n",
       "    .dataframe tbody tr th:only-of-type {\n",
       "        vertical-align: middle;\n",
       "    }\n",
       "\n",
       "    .dataframe tbody tr th {\n",
       "        vertical-align: top;\n",
       "    }\n",
       "\n",
       "    .dataframe thead th {\n",
       "        text-align: right;\n",
       "    }\n",
       "</style>\n",
       "<table border=\"1\" class=\"dataframe\">\n",
       "  <thead>\n",
       "    <tr style=\"text-align: right;\">\n",
       "      <th></th>\n",
       "      <th>close IBOV</th>\n",
       "      <th>close B3SA3</th>\n",
       "      <th>close BBAS3</th>\n",
       "      <th>close BBDC4</th>\n",
       "      <th>close ITSA4</th>\n",
       "    </tr>\n",
       "  </thead>\n",
       "  <tbody>\n",
       "    <tr>\n",
       "      <th>1001</th>\n",
       "      <td>0.000787</td>\n",
       "      <td>-0.001520</td>\n",
       "      <td>0.009334</td>\n",
       "      <td>0.009752</td>\n",
       "      <td>0.012009</td>\n",
       "    </tr>\n",
       "    <tr>\n",
       "      <th>1002</th>\n",
       "      <td>-0.001341</td>\n",
       "      <td>-0.004083</td>\n",
       "      <td>-0.003444</td>\n",
       "      <td>-0.005088</td>\n",
       "      <td>0.011681</td>\n",
       "    </tr>\n",
       "    <tr>\n",
       "      <th>1003</th>\n",
       "      <td>0.002200</td>\n",
       "      <td>0.014193</td>\n",
       "      <td>-0.006215</td>\n",
       "      <td>0.005679</td>\n",
       "      <td>0.001907</td>\n",
       "    </tr>\n",
       "    <tr>\n",
       "      <th>1004</th>\n",
       "      <td>0.000625</td>\n",
       "      <td>0.004408</td>\n",
       "      <td>0.009346</td>\n",
       "      <td>0.000561</td>\n",
       "      <td>0.015053</td>\n",
       "    </tr>\n",
       "    <tr>\n",
       "      <th>1005</th>\n",
       "      <td>0.004256</td>\n",
       "      <td>-0.004388</td>\n",
       "      <td>0.026966</td>\n",
       "      <td>0.019752</td>\n",
       "      <td>0.025245</td>\n",
       "    </tr>\n",
       "    <tr>\n",
       "      <th>...</th>\n",
       "      <td>...</td>\n",
       "      <td>...</td>\n",
       "      <td>...</td>\n",
       "      <td>...</td>\n",
       "      <td>...</td>\n",
       "    </tr>\n",
       "    <tr>\n",
       "      <th>1970</th>\n",
       "      <td>-0.000007</td>\n",
       "      <td>0.002879</td>\n",
       "      <td>-0.000505</td>\n",
       "      <td>-0.002308</td>\n",
       "      <td>-0.003434</td>\n",
       "    </tr>\n",
       "    <tr>\n",
       "      <th>1971</th>\n",
       "      <td>0.000551</td>\n",
       "      <td>-0.012020</td>\n",
       "      <td>0.007620</td>\n",
       "      <td>0.001781</td>\n",
       "      <td>0.002587</td>\n",
       "    </tr>\n",
       "    <tr>\n",
       "      <th>1972</th>\n",
       "      <td>0.000986</td>\n",
       "      <td>-0.001202</td>\n",
       "      <td>0.002857</td>\n",
       "      <td>0.003524</td>\n",
       "      <td>0.006798</td>\n",
       "    </tr>\n",
       "    <tr>\n",
       "      <th>1973</th>\n",
       "      <td>-0.000490</td>\n",
       "      <td>-0.014045</td>\n",
       "      <td>-0.001107</td>\n",
       "      <td>-0.001049</td>\n",
       "      <td>-0.001677</td>\n",
       "    </tr>\n",
       "    <tr>\n",
       "      <th>1974</th>\n",
       "      <td>-0.000656</td>\n",
       "      <td>-0.007609</td>\n",
       "      <td>-0.000725</td>\n",
       "      <td>-0.000439</td>\n",
       "      <td>-0.001124</td>\n",
       "    </tr>\n",
       "  </tbody>\n",
       "</table>\n",
       "<p>974 rows × 5 columns</p>\n",
       "</div>"
      ],
      "text/plain": [
       "      close IBOV  close B3SA3  close BBAS3  close BBDC4  close ITSA4\n",
       "1001    0.000787    -0.001520     0.009334     0.009752     0.012009\n",
       "1002   -0.001341    -0.004083    -0.003444    -0.005088     0.011681\n",
       "1003    0.002200     0.014193    -0.006215     0.005679     0.001907\n",
       "1004    0.000625     0.004408     0.009346     0.000561     0.015053\n",
       "1005    0.004256    -0.004388     0.026966     0.019752     0.025245\n",
       "...          ...          ...          ...          ...          ...\n",
       "1970   -0.000007     0.002879    -0.000505    -0.002308    -0.003434\n",
       "1971    0.000551    -0.012020     0.007620     0.001781     0.002587\n",
       "1972    0.000986    -0.001202     0.002857     0.003524     0.006798\n",
       "1973   -0.000490    -0.014045    -0.001107    -0.001049    -0.001677\n",
       "1974   -0.000656    -0.007609    -0.000725    -0.000439    -0.001124\n",
       "\n",
       "[974 rows x 5 columns]"
      ]
     },
     "execution_count": 71,
     "metadata": {},
     "output_type": "execute_result"
    }
   ],
   "source": [
    "mom = np.log(momentaneo).pct_change()[1:]\n",
    "dados = dados[1:]\n",
    "mom"
   ]
  },
  {
   "cell_type": "code",
   "execution_count": 9,
   "metadata": {},
   "outputs": [],
   "source": [
    "def operador_high(dados, gatilho, encerra, carteira, t1,t2):\n",
    "    posicao = 0 #1 - posicionado | 0 - neutro\n",
    "    compra = 0\n",
    "    venda = 0\n",
    "    \n",
    "    fin_long  = 0 #financeiro ponta long\n",
    "    fin_short = 0 #financeiro ponta short \n",
    "    l_resultado = []\n",
    "    l_cart = []\n",
    "    \n",
    "    for index in range(len(dados)):\n",
    "        zs = dados['zs_spread'][dados.index == index+1].values[0]\n",
    "        p_s1 = float(dados[t1][dados.index == index+1].values)\n",
    "        p_s2 = float(dados[t2][dados.index == index+1].values)\n",
    "\n",
    "        #abre operacao\n",
    "        if zs >= gatilho and posicao == 0:\n",
    "            q = (p_s1/p_s2) \n",
    "            v = carteira/2/p_s1 #volume de acordo com carteira\n",
    "            \n",
    "            fin_long  += p_s1*v   # \n",
    "            fin_short -= p_s2*v*q #  \n",
    "            \n",
    "            posicao = 1 #esta posicionado\n",
    "        #encerra\n",
    "        elif (zs > -encerra and zs < encerra) and posicao == 1:\n",
    "#             print(f' C {compra:.2f} | V {venda:.2f} | ')\n",
    "            fin_long   -= p_s1*v   #creditando venda da posicao\n",
    "            fin_short  += p_s2*v*q #debita encerramento posicao\n",
    "            \n",
    "            posicao = 0 #esta neutro\n",
    "            \n",
    "            resultado = fin_long + fin_short\n",
    "#             print(f'res: {resultado:.2f} | l:{fin_long:.2f} | s:{fin_short:.2f}')\n",
    "            l_resultado.append(resultado)\n",
    "            carteira+=resultado\n",
    "            l_cart.append(carteira)\n",
    "#             print(f'cart: {carteira:.2f}\\n')\n",
    "            \n",
    "    return l_resultado, l_cart"
   ]
  },
  {
   "cell_type": "code",
   "execution_count": 72,
   "metadata": {},
   "outputs": [
    {
     "name": "stdout",
     "output_type": "stream",
     "text": [
      "35.36721942199995\n"
     ]
    }
   ],
   "source": [
    "start = time.process_time()\n",
    "\n",
    "c = 0\n",
    "tickers = mom.columns.to_list()\n",
    "for index in range(45,len(mom)):\n",
    "    for i in range(len(tickers)-1):\n",
    "        for j in range(i+1, len(tickers)-1): #todas as possibilidades de pares\n",
    "            t1,t2 = tickers[i], tickers[j]\n",
    "            s1,s2 = mom[t1][c:index],mom[t2][c:index]\n",
    "            if coint(s1,s2)[1] < 0.01:\n",
    "                s1 = sm.add_constant(s1)\n",
    "                results = sm.OLS(s2,s1).fit()\n",
    "                s1 = s1[t1]\n",
    "                b = results.params[t1]\n",
    "                spread = s2 - (b*s1)\n",
    "                zs = zscore(spread)[-1]\n",
    "                if zs >= 1:\n",
    "                    #chama funcao operador\n",
    "                    continue\n",
    "            else:\n",
    "                continue #não são cointegrados\n",
    "\n",
    "#                 print(f'não são coint {t1,t2} {coint(s1,s2)[1]}')            \n",
    "    c+=1\n",
    "    \n",
    "print(time.process_time() - start)"
   ]
  },
  {
   "cell_type": "code",
   "execution_count": 73,
   "metadata": {},
   "outputs": [],
   "source": [
    "contador = 0\n",
    "for i in range(len(tickers)):\n",
    "    for j in range(i+1, len(tickers)-1):\n",
    "        if (coint(mom[tickers[i]],mom[tickers[j]])[1]) > .1:\n",
    "            print(f'{tickers[i]} and {tickers[j]} nao cointegrated')"
   ]
  },
  {
   "cell_type": "code",
   "execution_count": 74,
   "metadata": {},
   "outputs": [
    {
     "data": {
      "text/plain": [
       "['close IBOV', 'close B3SA3', 'close BBAS3', 'close BBDC4', 'close ITSA4']"
      ]
     },
     "execution_count": 74,
     "metadata": {},
     "output_type": "execute_result"
    }
   ],
   "source": [
    "mom.columns.to_list()"
   ]
  },
  {
   "cell_type": "code",
   "execution_count": 181,
   "metadata": {},
   "outputs": [],
   "source": [
    "class Pair_trading():\n",
    "    def __init__(self, dados, t1, t2, index):\n",
    "        self.t1, self.t2 = t1, t2\n",
    "        self.index = index\n",
    "        self.dados = dados \n",
    "        \n",
    "    def realiza_operacao(self):\n",
    "        #apenas financeiro\n",
    "        return (dados[t1][dados.index == self.index])\n",
    "        \n"
   ]
  },
  {
   "cell_type": "code",
   "execution_count": 182,
   "metadata": {},
   "outputs": [],
   "source": [
    "banana = Pair_trading(dados,t1,t2,1043)"
   ]
  },
  {
   "cell_type": "code",
   "execution_count": 183,
   "metadata": {},
   "outputs": [
    {
     "name": "stdout",
     "output_type": "stream",
     "text": [
      "1043    17.11\n",
      "Name: close BBAS3, dtype: float64\n"
     ]
    }
   ],
   "source": [
    "print(banana.realiza_operacao())"
   ]
  },
  {
   "cell_type": "code",
   "execution_count": 184,
   "metadata": {},
   "outputs": [
    {
     "data": {
      "text/plain": [
       "'close BBAS3'"
      ]
     },
     "execution_count": 184,
     "metadata": {},
     "output_type": "execute_result"
    }
   ],
   "source": [
    "t1"
   ]
  },
  {
   "cell_type": "code",
   "execution_count": 185,
   "metadata": {},
   "outputs": [
    {
     "data": {
      "text/plain": [
       "<__main__.Pair_trading at 0x7f392d85deb0>"
      ]
     },
     "execution_count": 185,
     "metadata": {},
     "output_type": "execute_result"
    }
   ],
   "source": [
    "trade1"
   ]
  },
  {
   "cell_type": "code",
   "execution_count": null,
   "metadata": {},
   "outputs": [],
   "source": []
  },
  {
   "cell_type": "code",
   "execution_count": 186,
   "metadata": {},
   "outputs": [
    {
     "data": {
      "text/plain": [
       "'close BBAS3'"
      ]
     },
     "execution_count": 186,
     "metadata": {},
     "output_type": "execute_result"
    }
   ],
   "source": [
    "t1"
   ]
  },
  {
   "cell_type": "code",
   "execution_count": null,
   "metadata": {},
   "outputs": [],
   "source": []
  },
  {
   "cell_type": "code",
   "execution_count": null,
   "metadata": {},
   "outputs": [],
   "source": []
  },
  {
   "cell_type": "code",
   "execution_count": null,
   "metadata": {},
   "outputs": [],
   "source": []
  }
 ],
 "metadata": {
  "kernelspec": {
   "display_name": "Python 3",
   "language": "python",
   "name": "python3"
  },
  "language_info": {
   "codemirror_mode": {
    "name": "ipython",
    "version": 3
   },
   "file_extension": ".py",
   "mimetype": "text/x-python",
   "name": "python",
   "nbconvert_exporter": "python",
   "pygments_lexer": "ipython3",
   "version": "3.8.3"
  }
 },
 "nbformat": 4,
 "nbformat_minor": 4
}
