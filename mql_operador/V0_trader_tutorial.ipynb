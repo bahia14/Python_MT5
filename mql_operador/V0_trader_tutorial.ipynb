{
 "cells": [
  {
   "cell_type": "code",
   "execution_count": 2,
   "metadata": {},
   "outputs": [],
   "source": [
    "import MetaTrader5 as mt5\n",
    "from datetime import datetime\n",
    "import pytz\n",
    "import pandas as pd"
   ]
  },
  {
   "cell_type": "code",
   "execution_count": 2,
   "metadata": {},
   "outputs": [
    {
     "name": "stdout",
     "output_type": "stream",
     "text": [
      "MetaTrader5 package author:  MetaQuotes Software Corp.\n",
      "MetaTrader5 package version:  5.0.33\n",
      "Orders not found\n"
     ]
    },
    {
     "data": {
      "text/plain": [
       "True"
      ]
     },
     "execution_count": 2,
     "metadata": {},
     "output_type": "execute_result"
    }
   ],
   "source": [
    "# display data on the MetaTrader 5 package\n",
    "print(\"MetaTrader5 package author: \",mt5.__author__)\n",
    "print(\"MetaTrader5 package version: \",mt5.__version__)\n",
    " \n",
    "# establish connection to MetaTrader 5 terminal\n",
    "if not mt5.initialize():\n",
    "    print(\"initialize() failed, error code =\",mt5.last_error())\n",
    "    quit()\n",
    " \n",
    "# check the presence of active orders\n",
    "orders=mt5.orders_total()\n",
    "if orders>0:\n",
    "    print(\"Total orders=\",orders)\n",
    "else:\n",
    "    print(\"Orders not found\")\n",
    " \n",
    "# shut down connection to the MetaTrader 5 terminal\n",
    "mt5.shutdown()"
   ]
  },
  {
   "cell_type": "code",
   "execution_count": 3,
   "metadata": {},
   "outputs": [
    {
     "data": {
      "text/plain": [
       "AccountInfo(login=31633725, trade_mode=0, leverage=100, limit_orders=200, margin_so_mode=0, trade_allowed=True, trade_expert=True, margin_mode=2, currency_digits=2, fifo_close=False, balance=10000.0, credit=0.0, profit=0.0, equity=10000.0, margin=0.0, margin_free=10000.0, margin_level=0.0, margin_so_call=50.0, margin_so_so=30.0, margin_initial=0.0, margin_maintenance=0.0, assets=0.0, liabilities=0.0, commission_blocked=0.0, name='Daniel Costa', server='MetaQuotes-Demo', currency='USD', ...)"
      ]
     },
     "execution_count": 3,
     "metadata": {},
     "output_type": "execute_result"
    }
   ],
   "source": [
    "# establish connection to the MetaTrader 5 terminal\n",
    "if not mt5.initialize():\n",
    "    print(\"initialize() failed, error code =\",mt5.last_error())\n",
    "    quit()\n",
    " \n",
    "mt5.account_info()"
   ]
  },
  {
   "cell_type": "code",
   "execution_count": 4,
   "metadata": {},
   "outputs": [
    {
     "name": "stdout",
     "output_type": "stream",
     "text": [
      "account_info() as dataframe:\n",
      "              property                      value\n",
      "0                login                   31633725\n",
      "1           trade_mode                          0\n",
      "2             leverage                        100\n",
      "3         limit_orders                        200\n",
      "4       margin_so_mode                          0\n",
      "5        trade_allowed                       True\n",
      "6         trade_expert                       True\n",
      "7          margin_mode                          2\n",
      "8      currency_digits                          2\n",
      "9           fifo_close                      False\n",
      "10             balance                      10000\n",
      "11              credit                          0\n",
      "12              profit                          0\n",
      "13              equity                      10000\n",
      "14              margin                          0\n",
      "15         margin_free                      10000\n",
      "16        margin_level                          0\n",
      "17      margin_so_call                         50\n",
      "18        margin_so_so                         30\n",
      "19      margin_initial                          0\n",
      "20  margin_maintenance                          0\n",
      "21              assets                          0\n",
      "22         liabilities                          0\n",
      "23  commission_blocked                          0\n",
      "24                name               Daniel Costa\n",
      "25              server            MetaQuotes-Demo\n",
      "26            currency                        USD\n",
      "27             company  MetaQuotes Software Corp.\n"
     ]
    }
   ],
   "source": [
    "account_info_dict = mt5.account_info()._asdict()   \n",
    "# convert the dictionary into DataFrame and print\n",
    "df=pd.DataFrame(list(account_info_dict.items()),columns=['property','value'])\n",
    "print(\"account_info() as dataframe:\")\n",
    "print(df)"
   ]
  },
  {
   "cell_type": "code",
   "execution_count": 5,
   "metadata": {},
   "outputs": [
    {
     "data": {
      "text/plain": [
       "72"
      ]
     },
     "execution_count": 5,
     "metadata": {},
     "output_type": "execute_result"
    }
   ],
   "source": [
    "mt5.symbols_total()"
   ]
  },
  {
   "cell_type": "code",
   "execution_count": 6,
   "metadata": {},
   "outputs": [
    {
     "name": "stdout",
     "output_type": "stream",
     "text": [
      "len(*RU*):  27\n",
      "EURUSD\n",
      "GBPUSD\n",
      "USDCHF\n",
      "USDJPY\n",
      "USDCNH\n",
      "USDRUB\n",
      "AUDUSD\n",
      "NZDUSD\n",
      "USDCAD\n",
      "USDSEK\n",
      "USDHKD\n",
      "USDSGD\n",
      "USDNOK\n",
      "USDDKK\n",
      "USDTRY\n",
      "USDZAR\n",
      "USDCZK\n",
      "USDHUF\n",
      "USDPLN\n",
      "USDRUR\n",
      "XAUUSD\n",
      "XAGUSD\n",
      "USDGEL\n",
      "USDMXN\n",
      "USDCOP\n",
      "USDARS\n",
      "USDCLP\n",
      "\n"
     ]
    }
   ],
   "source": [
    "# get symbols containing RU in their names\n",
    "ru_symbols=mt5.symbols_get(\"*USD*\")\n",
    "print('len(*RU*): ', len(ru_symbols))\n",
    "for s in ru_symbols:\n",
    "    print(s.name)\n",
    "print()"
   ]
  },
  {
   "cell_type": "code",
   "execution_count": 7,
   "metadata": {},
   "outputs": [],
   "source": [
    "stocks = 'EURUSD,GBPUSD'"
   ]
  },
  {
   "cell_type": "code",
   "execution_count": 13,
   "metadata": {},
   "outputs": [
    {
     "data": {
      "text/plain": [
       "True"
      ]
     },
     "execution_count": 13,
     "metadata": {},
     "output_type": "execute_result"
    }
   ],
   "source": [
    "mt5.initialize()"
   ]
  },
  {
   "cell_type": "markdown",
   "metadata": {},
   "source": [
    "## Copy ticks range "
   ]
  },
  {
   "cell_type": "code",
   "execution_count": 14,
   "metadata": {},
   "outputs": [
    {
     "name": "stdout",
     "output_type": "stream",
     "text": [
      "Ticks received: 1956489\n",
      "Display obtained ticks 'as is'\n",
      "(1590969736, 107.674, 107.708, 0., 0, 1590969736486, 134, 0.)\n",
      "(1590969736, 107.677, 107.708, 0., 0, 1590969736488, 130, 0.)\n",
      "(1590969737, 107.677, 107.71, 0., 0, 1590969737011, 4, 0.)\n",
      "(1590969737, 107.677, 107.708, 0., 0, 1590969737077, 4, 0.)\n",
      "(1590969806, 107.677, 107.712, 0., 0, 1590969806340, 134, 0.)\n",
      "(1590969845, 107.677, 107.712, 0., 0, 1590969845272, 130, 0.)\n",
      "(1590969845, 107.677, 107.713, 0., 0, 1590969845401, 4, 0.)\n",
      "(1590969860, 107.677, 107.71, 0., 0, 1590969860058, 4, 0.)\n",
      "(1590969863, 107.677, 107.705, 0., 0, 1590969863052, 4, 0.)\n",
      "(1590969878, 107.677, 107.71, 0., 0, 1590969878721, 4, 0.)\n"
     ]
    }
   ],
   "source": [
    "# import the 'pandas' module for displaying data obtained in the tabular form\n",
    "pd.set_option('display.max_columns', 500) # number of columns to be displayed\n",
    "pd.set_option('display.width', 1500)      # max table width to display\n",
    "# import pytz module for working with time zone\n",
    "\n",
    "# set time zone to UTC\n",
    "timezone = pytz.timezone(\"Etc/UTC\")\n",
    "# create 'datetime' objects in UTC time zone to avoid the implementation of a local time zone offset\n",
    "utc_from = datetime(2020, 6, 1, tzinfo=timezone)\n",
    "utc_to = datetime(2020, 7, 11, tzinfo=timezone)\n",
    "# request AUDUSD ticks within 11.01.2020 - 11.01.2020\n",
    "ticks = mt5.copy_ticks_range(\"USDJPY\", utc_from, utc_to, mt5.COPY_TICKS_ALL)#COPY_TICKS_TRADE\n",
    "print(\"Ticks received:\",len(ticks))\n",
    " \n",
    "# shut down connection to the MetaTrader 5 terminal\n",
    "\n",
    " \n",
    "# display data on each tick on a new line\n",
    "print(\"Display obtained ticks 'as is'\")\n",
    "count = 0\n",
    "for tick in ticks:\n",
    "    count+=1\n",
    "    print(tick)\n",
    "    if count >= 10:\n",
    "        break\n"
   ]
  },
  {
   "cell_type": "code",
   "execution_count": 17,
   "metadata": {},
   "outputs": [
    {
     "name": "stdout",
     "output_type": "stream",
     "text": [
      "\n",
      "Display dataframe with ticks\n",
      "                 time      bid      ask  last  volume       time_msc  flags  volume_real\n",
      "0 2020-06-01 00:02:16  107.674  107.708   0.0       0  1590969736486    134          0.0\n",
      "\n",
      "                 time      bid      ask  last  volume       time_msc  flags  volume_real\n",
      "1 2020-06-01 00:02:16  107.677  107.708   0.0       0  1590969736488    130          0.0\n",
      "\n",
      "                 time      bid     ask  last  volume       time_msc  flags  volume_real\n",
      "2 2020-06-01 00:02:17  107.677  107.71   0.0       0  1590969737011      4          0.0\n",
      "\n",
      "                 time      bid      ask  last  volume       time_msc  flags  volume_real\n",
      "3 2020-06-01 00:02:17  107.677  107.708   0.0       0  1590969737077      4          0.0\n",
      "\n",
      "                 time      bid      ask  last  volume       time_msc  flags  volume_real\n",
      "4 2020-06-01 00:03:26  107.677  107.712   0.0       0  1590969806340    134          0.0\n",
      "\n",
      "                 time      bid      ask  last  volume       time_msc  flags  volume_real\n",
      "5 2020-06-01 00:04:05  107.677  107.712   0.0       0  1590969845272    130          0.0\n",
      "\n",
      "                 time      bid      ask  last  volume       time_msc  flags  volume_real\n",
      "6 2020-06-01 00:04:05  107.677  107.713   0.0       0  1590969845401      4          0.0\n",
      "\n",
      "                 time      bid     ask  last  volume       time_msc  flags  volume_real\n",
      "7 2020-06-01 00:04:20  107.677  107.71   0.0       0  1590969860058      4          0.0\n",
      "\n",
      "                 time      bid      ask  last  volume       time_msc  flags  volume_real\n",
      "8 2020-06-01 00:04:23  107.677  107.705   0.0       0  1590969863052      4          0.0\n",
      "\n",
      "                 time      bid     ask  last  volume       time_msc  flags  volume_real\n",
      "9 2020-06-01 00:04:38  107.677  107.71   0.0       0  1590969878721      4          0.0\n",
      "\n",
      "                  time     bid      ask  last  volume       time_msc  flags  volume_real\n",
      "10 2020-06-01 00:05:00  107.68  107.698   0.0       0  1590969900381    134          0.0\n",
      "\n",
      "                  time      bid      ask  last  volume       time_msc  flags  volume_real\n",
      "11 2020-06-01 00:05:01  107.682  107.698   0.0       0  1590969901554    130          0.0\n",
      "\n",
      "                  time      bid      ask  last  volume       time_msc  flags  volume_real\n",
      "12 2020-06-01 00:05:06  107.682  107.702   0.0       0  1590969906537      4          0.0\n",
      "\n",
      "                  time      bid      ask  last  volume       time_msc  flags  volume_real\n",
      "13 2020-06-01 00:05:07  107.682  107.701   0.0       0  1590969907733      4          0.0\n",
      "\n",
      "                  time      bid      ask  last  volume       time_msc  flags  volume_real\n",
      "14 2020-06-01 00:05:12  107.683  107.705   0.0       0  1590969912323    134          0.0\n",
      "\n",
      "                  time     bid      ask  last  volume       time_msc  flags  volume_real\n",
      "15 2020-06-01 00:05:12  107.69  107.708   0.0       0  1590969912431    134          0.0\n",
      "\n",
      "                  time      bid      ask  last  volume       time_msc  flags  volume_real\n",
      "16 2020-06-01 00:05:17  107.689  107.708   0.0       0  1590969917399    130          0.0\n",
      "\n",
      "                  time      bid      ask  last  volume       time_msc  flags  volume_real\n",
      "17 2020-06-01 00:05:18  107.687  107.708   0.0       0  1590969918219    130          0.0\n",
      "\n",
      "                  time      bid      ask  last  volume       time_msc  flags  volume_real\n",
      "18 2020-06-01 00:05:18  107.689  107.708   0.0       0  1590969918550    130          0.0\n",
      "\n",
      "                  time      bid      ask  last  volume       time_msc  flags  volume_real\n",
      "19 2020-06-01 00:05:21  107.702  107.708   0.0       0  1590969921948    130          0.0\n",
      "\n",
      "                  time      bid      ask  last  volume       time_msc  flags  volume_real\n",
      "20 2020-06-01 00:05:22  107.689  107.708   0.0       0  1590969922073    130          0.0\n",
      "\n",
      "                  time     bid      ask  last  volume       time_msc  flags  volume_real\n",
      "21 2020-06-01 00:05:26  107.69  107.708   0.0       0  1590969926997    130          0.0\n",
      "\n",
      "                  time     bid      ask  last  volume       time_msc  flags  volume_real\n",
      "22 2020-06-01 00:05:34  107.69  107.712   0.0       0  1590969934278      4          0.0\n",
      "\n",
      "                  time     bid     ask  last  volume       time_msc  flags  volume_real\n",
      "23 2020-06-01 00:05:40  107.69  107.71   0.0       0  1590969940508      4          0.0\n",
      "\n",
      "                  time     bid      ask  last  volume       time_msc  flags  volume_real\n",
      "24 2020-06-01 00:05:40  107.69  107.712   0.0       0  1590969940817      4          0.0\n",
      "\n",
      "                  time     bid      ask  last  volume       time_msc  flags  volume_real\n",
      "25 2020-06-01 00:06:15  107.69  107.712   0.0       0  1590969975460    130          0.0\n",
      "\n"
     ]
    }
   ],
   "source": [
    " # create DataFrame out of the obtained data\n",
    "ticks_frame = pd.DataFrame(ticks)\n",
    "# convert time in seconds into the datetime format\n",
    "ticks_frame['time']=pd.to_datetime(ticks_frame['time'], unit='s')\n",
    " \n",
    "# display data\n",
    "print(\"\\nDisplay dataframe with ticks\")\n",
    "for i in ticks_frame.index:\n",
    "    print(ticks_frame[ticks_frame.index==i])\n",
    "    print('')\n",
    "    if i ==25:\n",
    "        break"
   ]
  },
  {
   "cell_type": "markdown",
   "metadata": {},
   "source": [
    "## copy ticks from"
   ]
  },
  {
   "cell_type": "code",
   "execution_count": 11,
   "metadata": {},
   "outputs": [
    {
     "name": "stdout",
     "output_type": "stream",
     "text": [
      "Ticks received: 100000\n",
      "Display obtained ticks 'as is'\n",
      "(1578614400, 1.11051, 1.11069, 0., 0, 1578614400987, 134, 0.)\n",
      "(1578614402, 1.11049, 1.11067, 0., 0, 1578614402025, 134, 0.)\n",
      "(1578614404, 1.1105, 1.11066, 0., 0, 1578614404057, 134, 0.)\n",
      "(1578614404, 1.11049, 1.11067, 0., 0, 1578614404344, 134, 0.)\n",
      "(1578614412, 1.11052, 1.11064, 0., 0, 1578614412106, 134, 0.)\n",
      "(1578614418, 1.11039, 1.11051, 0., 0, 1578614418265, 134, 0.)\n",
      "(1578614418, 1.1104, 1.1105, 0., 0, 1578614418905, 134, 0.)\n",
      "(1578614419, 1.11039, 1.11051, 0., 0, 1578614419519, 134, 0.)\n",
      "(1578614456, 1.11037, 1.11065, 0., 0, 1578614456011, 134, 0.)\n",
      "(1578614456, 1.11039, 1.11051, 0., 0, 1578614456015, 134, 0.)\n",
      "\n",
      "Display dataframe with ticks\n",
      "                 time      bid      ask  last  volume       time_msc  flags  volume_real\n",
      "0 2020-01-10 00:00:00  1.11051  1.11069   0.0       0  1578614400987    134          0.0\n",
      "1 2020-01-10 00:00:02  1.11049  1.11067   0.0       0  1578614402025    134          0.0\n",
      "2 2020-01-10 00:00:04  1.11050  1.11066   0.0       0  1578614404057    134          0.0\n",
      "3 2020-01-10 00:00:04  1.11049  1.11067   0.0       0  1578614404344    134          0.0\n",
      "4 2020-01-10 00:00:12  1.11052  1.11064   0.0       0  1578614412106    134          0.0\n",
      "5 2020-01-10 00:00:18  1.11039  1.11051   0.0       0  1578614418265    134          0.0\n",
      "6 2020-01-10 00:00:18  1.11040  1.11050   0.0       0  1578614418905    134          0.0\n",
      "7 2020-01-10 00:00:19  1.11039  1.11051   0.0       0  1578614419519    134          0.0\n",
      "8 2020-01-10 00:00:56  1.11037  1.11065   0.0       0  1578614456011    134          0.0\n",
      "9 2020-01-10 00:00:56  1.11039  1.11051   0.0       0  1578614456015    134          0.0\n"
     ]
    }
   ],
   "source": [
    " \n",
    "# set time zone to UTC\n",
    "timezone = pytz.timezone(\"Etc/UTC\")\n",
    "# create 'datetime' object in UTC time zone to avoid the implementation of a local time zone offset\n",
    "utc_from = datetime(2020, 1, 10, tzinfo=timezone)\n",
    "# request 100 000 EURUSD ticks starting from 10.01.2019 in UTC time zone\n",
    "ticks = mt5.copy_ticks_from(\"EURUSD\", utc_from, 100000, mt5.COPY_TICKS_ALL)\n",
    "print(\"Ticks received:\",len(ticks))\n",
    " \n",
    "# shut down connection to the MetaTrader 5 terminal\n",
    "mt5.shutdown()\n",
    " \n",
    "# display data on each tick on a new line\n",
    "print(\"Display obtained ticks 'as is'\")\n",
    "count = 0\n",
    "for tick in ticks:\n",
    "    count+=1\n",
    "    print(tick)\n",
    "    if count >= 10:\n",
    "        break\n",
    " \n",
    "# create DataFrame out of the obtained data\n",
    "ticks_frame = pd.DataFrame(ticks)\n",
    "# convert time in seconds into the datetime format\n",
    "ticks_frame['time']=pd.to_datetime(ticks_frame['time'], unit='s')\n",
    " \n",
    "# display data\n",
    "print(\"\\nDisplay dataframe with ticks\")\n",
    "print(ticks_frame.head(10))  \n",
    " "
   ]
  },
  {
   "cell_type": "code",
   "execution_count": null,
   "metadata": {},
   "outputs": [],
   "source": []
  }
 ],
 "metadata": {
  "kernelspec": {
   "display_name": "Python 3",
   "language": "python",
   "name": "python3"
  },
  "language_info": {
   "codemirror_mode": {
    "name": "ipython",
    "version": 3
   },
   "file_extension": ".py",
   "mimetype": "text/x-python",
   "name": "python",
   "nbconvert_exporter": "python",
   "pygments_lexer": "ipython3",
   "version": "3.7.4"
  }
 },
 "nbformat": 4,
 "nbformat_minor": 4
}
