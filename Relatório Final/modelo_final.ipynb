{
 "cells": [
  {
   "cell_type": "code",
   "execution_count": 1,
   "metadata": {},
   "outputs": [
    {
     "name": "stdout",
     "output_type": "stream",
     "text": [
      "cotacaotreino_win_dol.xlsx            modelo_final.ipynb\r\n",
      "Download_dados_relatorio_final.ipynb\r\n"
     ]
    }
   ],
   "source": [
    "ls"
   ]
  },
  {
   "cell_type": "code",
   "execution_count": 2,
   "metadata": {},
   "outputs": [],
   "source": [
    "import pandas as pd"
   ]
  },
  {
   "cell_type": "code",
   "execution_count": 3,
   "metadata": {},
   "outputs": [],
   "source": [
    "data = pd.read_excel('cotacaotreino_win_dol.xlsx')"
   ]
  },
  {
   "cell_type": "code",
   "execution_count": 4,
   "metadata": {},
   "outputs": [
    {
     "data": {
      "text/html": [
       "<div>\n",
       "<style scoped>\n",
       "    .dataframe tbody tr th:only-of-type {\n",
       "        vertical-align: middle;\n",
       "    }\n",
       "\n",
       "    .dataframe tbody tr th {\n",
       "        vertical-align: top;\n",
       "    }\n",
       "\n",
       "    .dataframe thead th {\n",
       "        text-align: right;\n",
       "    }\n",
       "</style>\n",
       "<table border=\"1\" class=\"dataframe\">\n",
       "  <thead>\n",
       "    <tr style=\"text-align: right;\">\n",
       "      <th></th>\n",
       "      <th>time</th>\n",
       "      <th>open WIN$</th>\n",
       "      <th>high WIN$</th>\n",
       "      <th>low WIN$</th>\n",
       "      <th>close WIN$</th>\n",
       "      <th>volumeWIN$</th>\n",
       "      <th>open DOL$</th>\n",
       "      <th>high DOL$</th>\n",
       "      <th>low DOL$</th>\n",
       "      <th>close DOL$</th>\n",
       "      <th>volumeDOL$</th>\n",
       "    </tr>\n",
       "  </thead>\n",
       "  <tbody>\n",
       "    <tr>\n",
       "      <th>0</th>\n",
       "      <td>2016-12-21 13:25:00</td>\n",
       "      <td>70695</td>\n",
       "      <td>70852</td>\n",
       "      <td>70689</td>\n",
       "      <td>70815</td>\n",
       "      <td>8192</td>\n",
       "      <td>3829.959</td>\n",
       "      <td>3831.106</td>\n",
       "      <td>3829.959</td>\n",
       "      <td>3831.106</td>\n",
       "      <td>645</td>\n",
       "    </tr>\n",
       "    <tr>\n",
       "      <th>1</th>\n",
       "      <td>2016-12-21 13:30:00</td>\n",
       "      <td>70815</td>\n",
       "      <td>70815</td>\n",
       "      <td>70477</td>\n",
       "      <td>70544</td>\n",
       "      <td>22378</td>\n",
       "      <td>3831.106</td>\n",
       "      <td>3832.252</td>\n",
       "      <td>3830.532</td>\n",
       "      <td>3831.106</td>\n",
       "      <td>1160</td>\n",
       "    </tr>\n",
       "    <tr>\n",
       "      <th>2</th>\n",
       "      <td>2016-12-21 13:35:00</td>\n",
       "      <td>70538</td>\n",
       "      <td>70664</td>\n",
       "      <td>70501</td>\n",
       "      <td>70622</td>\n",
       "      <td>8733</td>\n",
       "      <td>3831.106</td>\n",
       "      <td>3831.106</td>\n",
       "      <td>3829.959</td>\n",
       "      <td>3830.532</td>\n",
       "      <td>860</td>\n",
       "    </tr>\n",
       "    <tr>\n",
       "      <th>3</th>\n",
       "      <td>2016-12-21 13:40:00</td>\n",
       "      <td>70628</td>\n",
       "      <td>70664</td>\n",
       "      <td>70520</td>\n",
       "      <td>70556</td>\n",
       "      <td>6383</td>\n",
       "      <td>3831.106</td>\n",
       "      <td>3831.106</td>\n",
       "      <td>3828.239</td>\n",
       "      <td>3828.812</td>\n",
       "      <td>885</td>\n",
       "    </tr>\n",
       "    <tr>\n",
       "      <th>4</th>\n",
       "      <td>2016-12-21 13:45:00</td>\n",
       "      <td>70556</td>\n",
       "      <td>70652</td>\n",
       "      <td>70532</td>\n",
       "      <td>70592</td>\n",
       "      <td>5014</td>\n",
       "      <td>3829.386</td>\n",
       "      <td>3831.106</td>\n",
       "      <td>3829.386</td>\n",
       "      <td>3831.106</td>\n",
       "      <td>1295</td>\n",
       "    </tr>\n",
       "  </tbody>\n",
       "</table>\n",
       "</div>"
      ],
      "text/plain": [
       "                 time  open WIN$  high WIN$  low WIN$  close WIN$  volumeWIN$  \\\n",
       "0 2016-12-21 13:25:00      70695      70852     70689       70815        8192   \n",
       "1 2016-12-21 13:30:00      70815      70815     70477       70544       22378   \n",
       "2 2016-12-21 13:35:00      70538      70664     70501       70622        8733   \n",
       "3 2016-12-21 13:40:00      70628      70664     70520       70556        6383   \n",
       "4 2016-12-21 13:45:00      70556      70652     70532       70592        5014   \n",
       "\n",
       "   open DOL$  high DOL$  low DOL$  close DOL$  volumeDOL$  \n",
       "0   3829.959   3831.106  3829.959    3831.106         645  \n",
       "1   3831.106   3832.252  3830.532    3831.106        1160  \n",
       "2   3831.106   3831.106  3829.959    3830.532         860  \n",
       "3   3831.106   3831.106  3828.239    3828.812         885  \n",
       "4   3829.386   3831.106  3829.386    3831.106        1295  "
      ]
     },
     "execution_count": 4,
     "metadata": {},
     "output_type": "execute_result"
    }
   ],
   "source": [
    "data.head()"
   ]
  },
  {
   "cell_type": "code",
   "execution_count": 5,
   "metadata": {},
   "outputs": [],
   "source": [
    "data = data[['close WIN$','close DOL$']]"
   ]
  },
  {
   "cell_type": "code",
   "execution_count": 7,
   "metadata": {},
   "outputs": [
    {
     "data": {
      "text/html": [
       "<div>\n",
       "<style scoped>\n",
       "    .dataframe tbody tr th:only-of-type {\n",
       "        vertical-align: middle;\n",
       "    }\n",
       "\n",
       "    .dataframe tbody tr th {\n",
       "        vertical-align: top;\n",
       "    }\n",
       "\n",
       "    .dataframe thead th {\n",
       "        text-align: right;\n",
       "    }\n",
       "</style>\n",
       "<table border=\"1\" class=\"dataframe\">\n",
       "  <thead>\n",
       "    <tr style=\"text-align: right;\">\n",
       "      <th></th>\n",
       "      <th>close WIN$</th>\n",
       "      <th>close DOL$</th>\n",
       "    </tr>\n",
       "  </thead>\n",
       "  <tbody>\n",
       "    <tr>\n",
       "      <th>0</th>\n",
       "      <td>70815</td>\n",
       "      <td>3831.106</td>\n",
       "    </tr>\n",
       "    <tr>\n",
       "      <th>1</th>\n",
       "      <td>70544</td>\n",
       "      <td>3831.106</td>\n",
       "    </tr>\n",
       "    <tr>\n",
       "      <th>2</th>\n",
       "      <td>70622</td>\n",
       "      <td>3830.532</td>\n",
       "    </tr>\n",
       "    <tr>\n",
       "      <th>3</th>\n",
       "      <td>70556</td>\n",
       "      <td>3828.812</td>\n",
       "    </tr>\n",
       "    <tr>\n",
       "      <th>4</th>\n",
       "      <td>70592</td>\n",
       "      <td>3831.106</td>\n",
       "    </tr>\n",
       "    <tr>\n",
       "      <th>...</th>\n",
       "      <td>...</td>\n",
       "      <td>...</td>\n",
       "    </tr>\n",
       "    <tr>\n",
       "      <th>89243</th>\n",
       "      <td>80275</td>\n",
       "      <td>5492.138</td>\n",
       "    </tr>\n",
       "    <tr>\n",
       "      <th>89244</th>\n",
       "      <td>80315</td>\n",
       "      <td>5492.639</td>\n",
       "    </tr>\n",
       "    <tr>\n",
       "      <th>89245</th>\n",
       "      <td>80180</td>\n",
       "      <td>5494.142</td>\n",
       "    </tr>\n",
       "    <tr>\n",
       "      <th>89246</th>\n",
       "      <td>80140</td>\n",
       "      <td>5498.650</td>\n",
       "    </tr>\n",
       "    <tr>\n",
       "      <th>89247</th>\n",
       "      <td>80100</td>\n",
       "      <td>5501.154</td>\n",
       "    </tr>\n",
       "  </tbody>\n",
       "</table>\n",
       "<p>89248 rows × 2 columns</p>\n",
       "</div>"
      ],
      "text/plain": [
       "       close WIN$  close DOL$\n",
       "0           70815    3831.106\n",
       "1           70544    3831.106\n",
       "2           70622    3830.532\n",
       "3           70556    3828.812\n",
       "4           70592    3831.106\n",
       "...           ...         ...\n",
       "89243       80275    5492.138\n",
       "89244       80315    5492.639\n",
       "89245       80180    5494.142\n",
       "89246       80140    5498.650\n",
       "89247       80100    5501.154\n",
       "\n",
       "[89248 rows x 2 columns]"
      ]
     },
     "execution_count": 7,
     "metadata": {},
     "output_type": "execute_result"
    }
   ],
   "source": [
    "data"
   ]
  },
  {
   "cell_type": "code",
   "execution_count": 45,
   "metadata": {},
   "outputs": [],
   "source": [
    "class Fica_rico():\n",
    "    def __init__(self,dados):\n",
    "        self.dados = dados[:2000]\n",
    "    \n",
    "    def calcula_zscore_spread(self, period):\n",
    "        c = 0 #contador\n",
    "        print(self.dados.tail())\n",
    "#         for i in range(len())\n",
    "        \n",
    "        "
   ]
  },
  {
   "cell_type": "code",
   "execution_count": 46,
   "metadata": {},
   "outputs": [],
   "source": [
    "modelo = Fica_rico(data)"
   ]
  },
  {
   "cell_type": "code",
   "execution_count": 47,
   "metadata": {},
   "outputs": [
    {
     "ename": "AttributeError",
     "evalue": "'Fica_rico' object has no attribute 'banana'",
     "output_type": "error",
     "traceback": [
      "\u001b[0;31m-------------------------------------------------------\u001b[0m",
      "\u001b[0;31mAttributeError\u001b[0m        Traceback (most recent call last)",
      "\u001b[0;32m<ipython-input-47-de3662586c8a>\u001b[0m in \u001b[0;36m<module>\u001b[0;34m\u001b[0m\n\u001b[0;32m----> 1\u001b[0;31m \u001b[0mmodelo\u001b[0m\u001b[0;34m.\u001b[0m\u001b[0mbanana\u001b[0m\u001b[0;34m.\u001b[0m\u001b[0mhead\u001b[0m\u001b[0;34m(\u001b[0m\u001b[0;34m)\u001b[0m\u001b[0;34m\u001b[0m\u001b[0;34m\u001b[0m\u001b[0m\n\u001b[0m",
      "\u001b[0;31mAttributeError\u001b[0m: 'Fica_rico' object has no attribute 'banana'"
     ]
    }
   ],
   "source": [
    "modelo.banana.head()"
   ]
  },
  {
   "cell_type": "code",
   "execution_count": 48,
   "metadata": {},
   "outputs": [
    {
     "name": "stdout",
     "output_type": "stream",
     "text": [
      "      close WIN$  close DOL$\n",
      "1995       78344    3691.209\n",
      "1996       78320    3694.076\n",
      "1997       78423    3693.502\n",
      "1998       78483    3693.502\n",
      "1999       78513    3694.649\n"
     ]
    }
   ],
   "source": [
    "modelo.calcula_zscore_spread(1)"
   ]
  },
  {
   "cell_type": "code",
   "execution_count": null,
   "metadata": {},
   "outputs": [],
   "source": []
  },
  {
   "cell_type": "code",
   "execution_count": null,
   "metadata": {},
   "outputs": [],
   "source": []
  }
 ],
 "metadata": {
  "kernelspec": {
   "display_name": "Python 3",
   "language": "python",
   "name": "python3"
  },
  "language_info": {
   "codemirror_mode": {
    "name": "ipython",
    "version": 3
   },
   "file_extension": ".py",
   "mimetype": "text/x-python",
   "name": "python",
   "nbconvert_exporter": "python",
   "pygments_lexer": "ipython3",
   "version": "3.8.4"
  }
 },
 "nbformat": 4,
 "nbformat_minor": 4
}
