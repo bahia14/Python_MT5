{
 "cells": [
  {
   "cell_type": "code",
   "execution_count": 7,
   "metadata": {},
   "outputs": [],
   "source": [
    "import numpy as np\n",
    "import socket\n",
    "from sklearn.linear_model import LinearRegression\n"
   ]
  },
  {
   "cell_type": "code",
   "execution_count": 5,
   "metadata": {},
   "outputs": [],
   "source": [
    "class socketserver:\n",
    "    def __init__(self, address = '', port = 9090):#ip e porta\n",
    "        self.sock = socket.socket(socket.AF_INET, socket.SOCK_STREAM)\n",
    "        self.address = address\n",
    "        self.port = port\n",
    "        self.sock.bind((self.address, self.port))\n",
    "        self.cummdata = ''\n",
    "        \n",
    "    def recvmsg(self):\n",
    "        self.sock.listen(1)\n",
    "        self.conn, self.addr = self.sock.accept()\n",
    "        print('connected to', self.addr)\n",
    "        self.cummdata = ''\n",
    "\n",
    "        while True:\n",
    "            data = self.conn.recv(10000)\n",
    "            self.cummdata+=data.decode(\"utf-8\")\n",
    "            if not data:\n",
    "                break    \n",
    "            self.conn.send(bytes(calcregr(self.cummdata), \"utf-8\"))\n",
    "            return self.cummdata\n",
    "            \n",
    "    def __del__(self):\n",
    "        self.sock.close()"
   ]
  },
  {
   "cell_type": "code",
   "execution_count": 8,
   "metadata": {},
   "outputs": [],
   "source": [
    "def calcregr(msg = ''):\n",
    "    chartdata = np.fromstring(msg, dtype=float, sep= ' ') \n",
    "    Y = np.array(chartdata).reshape(-1,1)\n",
    "    X = np.array(np.arange(len(chartdata))).reshape(-1,1)\n",
    "    lr = LinearRegression()\n",
    "    lr.fit(X, Y)\n",
    "    Y_pred = lr.predict(X)\n",
    "    type(Y_pred)\n",
    "    P = Y_pred.astype(str).item(-1) + ' ' + Y_pred.astype(str).item(0)\n",
    "    print(P)\n",
    "    return str(P)"
   ]
  },
  {
   "cell_type": "code",
   "execution_count": null,
   "metadata": {},
   "outputs": [],
   "source": []
  }
 ],
 "metadata": {
  "kernelspec": {
   "display_name": "Python 3",
   "language": "python",
   "name": "python3"
  },
  "language_info": {
   "codemirror_mode": {
    "name": "ipython",
    "version": 3
   },
   "file_extension": ".py",
   "mimetype": "text/x-python",
   "name": "python",
   "nbconvert_exporter": "python",
   "pygments_lexer": "ipython3",
   "version": "3.7.4"
  }
 },
 "nbformat": 4,
 "nbformat_minor": 4
}
