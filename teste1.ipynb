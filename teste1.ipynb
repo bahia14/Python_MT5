{
 "cells": [
  {
   "cell_type": "code",
   "execution_count": null,
   "metadata": {},
   "outputs": [],
   "source": [
    "import numpy as np\n",
    "import socket\n",
    "from sklearn.linear_model import LinearRegression\n"
   ]
  },
  {
   "cell_type": "code",
   "execution_count": null,
   "metadata": {},
   "outputs": [],
   "source": [
    "class socketserver:\n",
    "    def __init__(self, address = '', port = 9090):#ip e porta\n",
    "        self.sock = socket.socket(socket.AF_INET, socket.SOCK_STREAM)\n",
    "        self.address = address\n",
    "        self.port = port\n",
    "        self.sock.bind((self.address, self.port))\n",
    "        self.cummdata = ''\n",
    "        \n",
    "    def recvmsg(self):\n",
    "        self.sock.listen(1)\n",
    "        self.conn, self.addr = self.sock.accept()\n",
    "        print('connected to', self.addr)\n",
    "        self.cummdata = ''\n",
    "\n",
    "        while True:\n",
    "            data = self.conn.recv(10000)\n",
    "            self.cummdata+=data.decode(\"utf-8\")\n",
    "            if not data:\n",
    "                break    \n",
    "            self.conn.send(bytes(calcregr(self.cummdata), \"utf-8\"))\n",
    "            return self.cummdata\n",
    "            \n",
    "    def __del__(self):\n",
    "        self.sock.close()"
   ]
  },
  {
   "cell_type": "code",
   "execution_count": null,
   "metadata": {},
   "outputs": [],
   "source": [
    "def calcregr(msg = ''):\n",
    "    chartdata = np.fromstring(msg, dtype=float, sep= ' ') \n",
    "    Y = np.array(chartdata).reshape(-1,1)\n",
    "    X = np.array(np.arange(len(chartdata))).reshape(-1,1)\n",
    "    lr = LinearRegression()\n",
    "    lr.fit(X, Y)\n",
    "    Y_pred = lr.predict(X)\n",
    "    type(Y_pred)\n",
    "    P = Y_pred.astype(str).item(-1) + ' ' + Y_pred.astype(str).item(0)\n",
    "    print(P)\n",
    "    return str(P)"
   ]
  },
  {
   "cell_type": "code",
   "execution_count": null,
   "metadata": {},
   "outputs": [],
   "source": [
    "serv = socketserver('127.0.0.1', 9090)\n",
    "\n",
    "while True:  \n",
    "    msg = serv.recvmsg()"
   ]
  },
  {
   "cell_type": "code",
   "execution_count": null,
   "metadata": {},
   "outputs": [],
   "source": [
    "# -*- coding: utf-8 -*-\n",
    "\"\"\"\n",
    "Created on Thu Mar 14 16:13:03 2019\n",
    "\n",
    "@author: dmitrievsky\n",
    "\"\"\"\n",
    "from MetaTrader5 import *\n",
    "from datetime import datetime\n",
    "import pandas as pd\n",
    "# Initializing MT5 connection \n",
    "MT5Initialize()\n",
    "MT5WaitForTerminal()\n",
    "\n",
    "print(MT5TerminalInfo())\n",
    "print(MT5Version())\n",
    "\n",
    "# Copying data to pandas data frame\n",
    "stockdata = pd.DataFrame()\n",
    "rates = MT5CopyRatesFromPos(\"EURUSD\", MT5_TIMEFRAME_M1, 0, 5000)\n",
    "# Deinitializing MT5 connection\n",
    "MT5Shutdown()\n",
    "\n",
    "stockdata['Open'] = [y.open for y in rates]\n",
    "stockdata['Close'] = [y.close for y in rates]\n",
    "stockdata['High'] = [y.high for y in rates]\n",
    "stockdata['Low'] = [y.low for y in rates]\n",
    "stockdata['Date'] = [y.time for y in rates]\n",
    "\n",
    "import plotly.graph_objs as go\n",
    "from plotly.offline import download_plotlyjs, init_notebook_mode, plot, iplot\n",
    "\n",
    "trace = go.Ohlc(x=stockdata['Date'],\n",
    "                open=stockdata['Open'],\n",
    "                high=stockdata['High'],\n",
    "                low=stockdata['Low'],\n",
    "                close=stockdata['Close'])\n",
    "\n",
    "data = [trace]\n",
    "plot(data)"
   ]
  },
  {
   "cell_type": "code",
   "execution_count": null,
   "metadata": {},
   "outputs": [],
   "source": []
  }
 ],
 "metadata": {
  "kernelspec": {
   "display_name": "Python 3",
   "language": "python",
   "name": "python3"
  },
  "language_info": {
   "codemirror_mode": {
    "name": "ipython",
    "version": 3
   },
   "file_extension": ".py",
   "mimetype": "text/x-python",
   "name": "python",
   "nbconvert_exporter": "python",
   "pygments_lexer": "ipython3",
   "version": "3.7.4"
  }
 },
 "nbformat": 4,
 "nbformat_minor": 4
}
